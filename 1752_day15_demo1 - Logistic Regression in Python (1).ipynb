{
 "cells": [
  {
   "cell_type": "markdown",
   "metadata": {},
   "source": [
    "\n",
    "# Classification\n",
    "\n",
    "### Demo 1 - Logistic Regression in Python"
   ]
  },
  {
   "cell_type": "markdown",
   "metadata": {},
   "source": [
    "In this demo, you will apply logistic regression algorithm using scikit-learn library."
   ]
  },
  {
   "cell_type": "markdown",
   "metadata": {},
   "source": [
    "---"
   ]
  },
  {
   "cell_type": "markdown",
   "metadata": {},
   "source": [
    "## Problem Statement"
   ]
  },
  {
   "cell_type": "markdown",
   "metadata": {},
   "source": [
    "The dataset contain details of users like User ID, Gender, Age, EstimatedSalary and Purchased. The data shows whether a person is likely to purchase the artefacts advertised or not. Based on the data we have to generate a model that can predict whether the person will make a purchase or not."
   ]
  },
  {
   "cell_type": "markdown",
   "metadata": {},
   "source": [
    "---"
   ]
  },
  {
   "cell_type": "markdown",
   "metadata": {},
   "source": [
    "## Importing Required Libraries"
   ]
  },
  {
   "cell_type": "code",
   "execution_count": 1,
   "metadata": {},
   "outputs": [],
   "source": [
    "import numpy as np\n",
    "import pandas as pd\n",
    "import matplotlib.pyplot as plt\n",
    "from sklearn.model_selection import train_test_split \n",
    "from sklearn.preprocessing import StandardScaler\n",
    "from sklearn.preprocessing import LabelEncoder\n",
    "from sklearn.linear_model import LogisticRegression\n",
    "from sklearn.metrics import accuracy_score\n",
    "from sklearn import metrics"
   ]
  },
  {
   "cell_type": "markdown",
   "metadata": {},
   "source": [
    "## Dataset"
   ]
  },
  {
   "cell_type": "code",
   "execution_count": 3,
   "metadata": {},
   "outputs": [
    {
     "data": {
      "text/plain": [
       "(400, 5)"
      ]
     },
     "execution_count": 3,
     "metadata": {},
     "output_type": "execute_result"
    }
   ],
   "source": [
    "ad_data=pd.read_csv('Social_Network_Ads.csv')\n",
    "ad_data.head()\n",
    "ad_data.shape"
   ]
  },
  {
   "cell_type": "markdown",
   "metadata": {},
   "source": [
    "## Data Analysis"
   ]
  },
  {
   "cell_type": "code",
   "execution_count": 4,
   "metadata": {},
   "outputs": [
    {
     "data": {
      "text/plain": [
       "User ID            0\n",
       "Gender             0\n",
       "Age                0\n",
       "EstimatedSalary    0\n",
       "Purchased          0\n",
       "dtype: int64"
      ]
     },
     "execution_count": 4,
     "metadata": {},
     "output_type": "execute_result"
    }
   ],
   "source": [
    "#Checking for any null values\n",
    "ad_data.isnull().sum()"
   ]
  },
  {
   "cell_type": "code",
   "execution_count": 5,
   "metadata": {},
   "outputs": [
    {
     "name": "stdout",
     "output_type": "stream",
     "text": [
      "      User ID  Gender  Age  EstimatedSalary  Purchased\n",
      "0    15624510       1   19            19000          0\n",
      "1    15810944       1   35            20000          0\n",
      "2    15668575       0   26            43000          0\n",
      "3    15603246       0   27            57000          0\n",
      "4    15804002       1   19            76000          0\n",
      "..        ...     ...  ...              ...        ...\n",
      "395  15691863       0   46            41000          1\n",
      "396  15706071       1   51            23000          1\n",
      "397  15654296       0   50            20000          1\n",
      "398  15755018       1   36            33000          0\n",
      "399  15594041       0   49            36000          1\n",
      "\n",
      "[400 rows x 5 columns]\n"
     ]
    }
   ],
   "source": [
    "#Label encoding\n",
    "lbl=LabelEncoder()\n",
    "ad_data['Gender']=lbl.fit_transform(ad_data['Gender'])\n",
    "print(ad_data)"
   ]
  },
  {
   "cell_type": "markdown",
   "metadata": {},
   "source": [
    "<div style=\"background-color:##FBFFE3\">\n",
    "    <div style=\"float:left\">\n",
    "        <img src='https://drive.google.com/uc?export=download&id=1gpc8kbwaenTpaIvnO_MQR3vw12rKYQrJ', width=20,height=20,>\n",
    "    </div>\n",
    "    <span style=\"padding:20px;\">\n",
    "    Dataset does not contain any null values means it is not required to replace/remove data.\n",
    "    </span>\n",
    "</div>"
   ]
  },
  {
   "cell_type": "code",
   "execution_count": 6,
   "metadata": {},
   "outputs": [],
   "source": [
    "#Splitting dataset into dependent and independent variables\n",
    "#Eliminating User ID and Gender as they would not have any impact\n",
    "X=ad_data[['Age','EstimatedSalary']]\n",
    "y=ad_data['Purchased']"
   ]
  },
  {
   "cell_type": "code",
   "execution_count": null,
   "metadata": {},
   "outputs": [],
   "source": [
    "ad_data.info()"
   ]
  },
  {
   "cell_type": "markdown",
   "metadata": {},
   "source": [
    "<div style=\"background-color:##EDF9FF\">\n",
    "  <ul><li><h3>Feature Scaling</h3></li></ul>\n",
    "</div>"
   ]
  },
  {
   "cell_type": "code",
   "execution_count": null,
   "metadata": {},
   "outputs": [],
   "source": [
    "sc = StandardScaler()\n",
    "X = sc.fit_transform(X)\n",
    "print(X)"
   ]
  },
  {
   "cell_type": "markdown",
   "metadata": {},
   "source": [
    "<div style=\"background-color:##FBFFE3\">\n",
    "    <div style=\"float:left\">\n",
    "        <img src='https://drive.google.com/uc?export=download&id=1gpc8kbwaenTpaIvnO_MQR3vw12rKYQrJ', width=20,height=20,>\n",
    "    </div>\n",
    "    <span style=\"padding:20px;\">\n",
    "    Using this as there is wide gap between Age and EstimatedSalary and standardizing datasets ensures model is generated properly. The mean should be near to 0 and standard deviation should be near 1 before training the model which is ensured by this\n",
    "    </span>\n",
    "</div>"
   ]
  },
  {
   "cell_type": "markdown",
   "metadata": {},
   "source": [
    "<div style=\"background-color:##EDF9FF\">\n",
    "  <ul><li><h3>\n",
    "      Training And Testing Set\n",
    "      </h3></li></ul>\n",
    "</div>"
   ]
  },
  {
   "cell_type": "code",
   "execution_count": 8,
   "metadata": {},
   "outputs": [
    {
     "name": "stdout",
     "output_type": "stream",
     "text": [
      "(300, 2) (100, 2)\n",
      "(300,) (100,)\n"
     ]
    }
   ],
   "source": [
    "#Splitting dataset into training and testing set\n",
    "X_train,X_test,y_train,y_test=train_test_split(X,y,test_size=0.25,random_state=0)\n",
    "print(X_train.shape,X_test.shape)\n",
    "print(y_train.shape,y_test.shape)"
   ]
  },
  {
   "cell_type": "markdown",
   "metadata": {},
   "source": [
    "## Logistic Regression Training"
   ]
  },
  {
   "cell_type": "markdown",
   "metadata": {},
   "source": [
    "Some important hyperparameters that should be considered before training the model:\n",
    "- __C__: Inverse of regularization strength. Should be float and smaller values specify strong regularization strength.\n",
    "- __solver__: Algorithm to optimise the problem.Like _'liblinear'_ is used for small datasets while _'sag'_ or _'saga'_ handle large datasets easily\n",
    "- __multi_class__: To specify either the problem is binary or multiclass. _'ovr'_ is used to specify a binary problem while _'multinominal'_ for a multiclass problem. _'auto'_ selects automatically.\n",
    "\n",
    "For further information about other parameter you can refer to:\n",
    "<a href='https://scikit-learn.org/stable/modules/generated/sklearn.linear_model.LogisticRegression.html#sklearn.linear_model.LogisticRegression'>Logistisc Regression scikit-learn</a> "
   ]
  },
  {
   "cell_type": "code",
   "execution_count": null,
   "metadata": {},
   "outputs": [],
   "source": [
    "lr_ad=LogisticRegression()\n",
    "lr_ad.fit(X_train,y_train)"
   ]
  },
  {
   "cell_type": "markdown",
   "metadata": {},
   "source": [
    "## Visualising Logistic Regression"
   ]
  },
  {
   "cell_type": "code",
   "execution_count": null,
   "metadata": {},
   "outputs": [],
   "source": [
    "def plot(X,y,mset):\n",
    "    p=['Not Purchased','Purchased']\n",
    "    X1, X2 = np.meshgrid(np.arange(start = X[:, 0].min() - 1, stop = X[:, 0].max() + 1,   step = 0.01),\n",
    "                         np.arange(start = X[:, 1].min() - 1, stop = X[:, 1].max() + 1, step = 0.01))\n",
    "\n",
    "    #To plot boundaries\n",
    "    #In general, the space is divided into decision boundaries\n",
    "    plt.figure(figsize=(8,6))\n",
    "    plt.contourf(X1, X2, lr_ad.predict(np.array([X1.ravel(), X2.ravel()]).T).reshape(X1.shape),\n",
    "                 alpha = 0.75, cmap = ListedColormap(('#F1674F', '#BEDDB7')))\n",
    "\n",
    "    plt.xlim(X1.min(), X1.max())\n",
    "    plt.ylim(X2.min(), X2.max())\n",
    "\n",
    "    for i, j in enumerate(set(y)):\n",
    "        plt.scatter(X[y == j, 0], X[y == j, 1],\n",
    "                    c = ['#F84C51', '#23807A'][i], label = p[j])\n",
    "    plt.title('Logistic Regression ('+mset+')')\n",
    "    plt.xlabel('Age')\n",
    "    plt.ylabel('Estimated Salary')\n",
    "    plt.legend()\n",
    "    return plt"
   ]
  },
  {
   "cell_type": "markdown",
   "metadata": {},
   "source": [
    "<div style=\"background-color:##EDF9FF\">\n",
    "  <ul><li><h3>Training Set</h3></li></ul>\n",
    "</div>"
   ]
  },
  {
   "cell_type": "code",
   "execution_count": null,
   "metadata": {},
   "outputs": [],
   "source": [
    "y_pred=lr_ad.predict(X_train)\n",
    "print(y_pred)\n",
    "#plt.show(plot(X_train,y_pred,'Training Set'))"
   ]
  },
  {
   "cell_type": "code",
   "execution_count": null,
   "metadata": {},
   "outputs": [],
   "source": [
    "print('Accuracy: ',accuracy_score(y_train,y_pred))"
   ]
  },
  {
   "cell_type": "code",
   "execution_count": null,
   "metadata": {},
   "outputs": [],
   "source": [
    "new_pred=lr_ad.predict([[40,20000]])\n",
    "print(new_pred)"
   ]
  },
  {
   "cell_type": "markdown",
   "metadata": {},
   "source": [
    "<div style=\"background-color:##EDF9FF\">\n",
    "  <ul><li><h3>Test Set</h3></li></ul>\n",
    "</div>"
   ]
  },
  {
   "cell_type": "code",
   "execution_count": null,
   "metadata": {},
   "outputs": [],
   "source": [
    "y_pred=lr_ad.predict(X_test)\n",
    "print(y_pred)\n",
    "#plt.show(plot(X_test,y_pred,'Testing Set'))"
   ]
  },
  {
   "cell_type": "markdown",
   "metadata": {},
   "source": [
    "---"
   ]
  },
  {
   "cell_type": "markdown",
   "metadata": {},
   "source": [
    "## Accuracy Score"
   ]
  },
  {
   "cell_type": "code",
   "execution_count": null,
   "metadata": {},
   "outputs": [],
   "source": [
    "print('Accuracy: ',accuracy_score(y_test,y_pred))"
   ]
  },
  {
   "cell_type": "markdown",
   "metadata": {},
   "source": [
    "## Decision Boundary"
   ]
  },
  {
   "cell_type": "markdown",
   "metadata": {},
   "source": [
    "- Decision boundaries are defined by the threshold value\n",
    "- Model coefficients define location and orientation of decision boundary\n",
    "- Since data has two features then boundary hypothesis would be:\n",
    "\n",
    "    # \\begin{equation*}h_{\\theta}=g({\\theta}_{0}+{\\theta}_{1}x_{1}+{\\theta}_{2}x_{2})={\\theta}^{T}x \\end{equation*} "
   ]
  },
  {
   "cell_type": "code",
   "execution_count": null,
   "metadata": {},
   "outputs": [],
   "source": [
    "#For theta_0:\n",
    "print(lr_ad.intercept_ )\n",
    "#For theta_1 and theta_2:\n",
    "print(lr_ad.coef_ )"
   ]
  },
  {
   "cell_type": "markdown",
   "metadata": {},
   "source": [
    "---"
   ]
  },
  {
   "cell_type": "markdown",
   "metadata": {},
   "source": [
    "# Multinominal Logistic Regression"
   ]
  },
  {
   "cell_type": "markdown",
   "metadata": {},
   "source": [
    "Dataset includes three iris species with 50 samples each and some properties about each flower. \n",
    "The columns in this dataset are:\n",
    "\n",
    "- __Id__: SPL-SPW-PTL-PTW(CM)\n",
    "- __SepalLengthCm__: Length of the sepal (in cm)\n",
    "- __SepalWidthCm__: Width of the sepal (in cm)\n",
    "- __PetalLengthCm__: Length of the petal (in cm)\n",
    "- __PetalWidthCm__: Width of the petal (in cm)\n",
    "- __Species__: Species name\n"
   ]
  },
  {
   "cell_type": "markdown",
   "metadata": {},
   "source": [
    "## Importing Dataset"
   ]
  },
  {
   "cell_type": "code",
   "execution_count": 2,
   "metadata": {},
   "outputs": [
    {
     "data": {
      "text/html": [
       "<div>\n",
       "<style scoped>\n",
       "    .dataframe tbody tr th:only-of-type {\n",
       "        vertical-align: middle;\n",
       "    }\n",
       "\n",
       "    .dataframe tbody tr th {\n",
       "        vertical-align: top;\n",
       "    }\n",
       "\n",
       "    .dataframe thead th {\n",
       "        text-align: right;\n",
       "    }\n",
       "</style>\n",
       "<table border=\"1\" class=\"dataframe\">\n",
       "  <thead>\n",
       "    <tr style=\"text-align: right;\">\n",
       "      <th></th>\n",
       "      <th>Id</th>\n",
       "      <th>SepalLengthCm</th>\n",
       "      <th>SepalWidthCm</th>\n",
       "      <th>PetalLengthCm</th>\n",
       "      <th>PetalWidthCm</th>\n",
       "      <th>Species</th>\n",
       "    </tr>\n",
       "  </thead>\n",
       "  <tbody>\n",
       "    <tr>\n",
       "      <th>0</th>\n",
       "      <td>1</td>\n",
       "      <td>5.1</td>\n",
       "      <td>3.5</td>\n",
       "      <td>1.4</td>\n",
       "      <td>0.2</td>\n",
       "      <td>Iris-setosa</td>\n",
       "    </tr>\n",
       "    <tr>\n",
       "      <th>1</th>\n",
       "      <td>2</td>\n",
       "      <td>4.9</td>\n",
       "      <td>3.0</td>\n",
       "      <td>1.4</td>\n",
       "      <td>0.2</td>\n",
       "      <td>Iris-setosa</td>\n",
       "    </tr>\n",
       "    <tr>\n",
       "      <th>2</th>\n",
       "      <td>3</td>\n",
       "      <td>4.7</td>\n",
       "      <td>3.2</td>\n",
       "      <td>1.3</td>\n",
       "      <td>0.2</td>\n",
       "      <td>Iris-setosa</td>\n",
       "    </tr>\n",
       "    <tr>\n",
       "      <th>3</th>\n",
       "      <td>4</td>\n",
       "      <td>4.6</td>\n",
       "      <td>3.1</td>\n",
       "      <td>1.5</td>\n",
       "      <td>0.2</td>\n",
       "      <td>Iris-setosa</td>\n",
       "    </tr>\n",
       "    <tr>\n",
       "      <th>4</th>\n",
       "      <td>5</td>\n",
       "      <td>5.0</td>\n",
       "      <td>3.6</td>\n",
       "      <td>1.4</td>\n",
       "      <td>0.2</td>\n",
       "      <td>Iris-setosa</td>\n",
       "    </tr>\n",
       "  </tbody>\n",
       "</table>\n",
       "</div>"
      ],
      "text/plain": [
       "   Id  SepalLengthCm  SepalWidthCm  PetalLengthCm  PetalWidthCm      Species\n",
       "0   1            5.1           3.5            1.4           0.2  Iris-setosa\n",
       "1   2            4.9           3.0            1.4           0.2  Iris-setosa\n",
       "2   3            4.7           3.2            1.3           0.2  Iris-setosa\n",
       "3   4            4.6           3.1            1.5           0.2  Iris-setosa\n",
       "4   5            5.0           3.6            1.4           0.2  Iris-setosa"
      ]
     },
     "execution_count": 2,
     "metadata": {},
     "output_type": "execute_result"
    }
   ],
   "source": [
    "#Importing the dataset using pandas\n",
    "iris_data=pd.read_csv('Iris.csv')\n",
    "iris_data.head()"
   ]
  },
  {
   "cell_type": "markdown",
   "metadata": {},
   "source": [
    "## Data Analysis"
   ]
  },
  {
   "cell_type": "code",
   "execution_count": 3,
   "metadata": {},
   "outputs": [
    {
     "data": {
      "text/plain": [
       "(150, 6)"
      ]
     },
     "execution_count": 3,
     "metadata": {},
     "output_type": "execute_result"
    }
   ],
   "source": [
    "#Dataset shape to get number of rows and columns\n",
    "iris_data.shape"
   ]
  },
  {
   "cell_type": "markdown",
   "metadata": {},
   "source": [
    "<div style=\"background-color:##EDF9FF\">\n",
    "  <ul><li><h3>Checking Datatypes</h3></li></ul>\n",
    "</div>"
   ]
  },
  {
   "cell_type": "code",
   "execution_count": 4,
   "metadata": {},
   "outputs": [
    {
     "name": "stdout",
     "output_type": "stream",
     "text": [
      "<class 'pandas.core.frame.DataFrame'>\n",
      "RangeIndex: 150 entries, 0 to 149\n",
      "Data columns (total 6 columns):\n",
      " #   Column         Non-Null Count  Dtype  \n",
      "---  ------         --------------  -----  \n",
      " 0   Id             150 non-null    int64  \n",
      " 1   SepalLengthCm  150 non-null    float64\n",
      " 2   SepalWidthCm   150 non-null    float64\n",
      " 3   PetalLengthCm  150 non-null    float64\n",
      " 4   PetalWidthCm   150 non-null    float64\n",
      " 5   Species        150 non-null    object \n",
      "dtypes: float64(4), int64(1), object(1)\n",
      "memory usage: 7.2+ KB\n"
     ]
    }
   ],
   "source": [
    "iris_data.info()"
   ]
  },
  {
   "cell_type": "markdown",
   "metadata": {},
   "source": [
    "<div style=\"background-color:##EDF9FF\">\n",
    "  <ul><li><h3>Checking Null Values</h3></li></ul>\n",
    "</div>"
   ]
  },
  {
   "cell_type": "code",
   "execution_count": 5,
   "metadata": {},
   "outputs": [
    {
     "data": {
      "text/plain": [
       "Id               0\n",
       "SepalLengthCm    0\n",
       "SepalWidthCm     0\n",
       "PetalLengthCm    0\n",
       "PetalWidthCm     0\n",
       "Species          0\n",
       "dtype: int64"
      ]
     },
     "execution_count": 5,
     "metadata": {},
     "output_type": "execute_result"
    }
   ],
   "source": [
    "#Checking for null values\n",
    "iris_data.isnull().sum()"
   ]
  },
  {
   "cell_type": "markdown",
   "metadata": {},
   "source": [
    "<div style=\"background-color:##FBFFE3\">\n",
    "    <div style=\"float:left\">\n",
    "        <img src='https://drive.google.com/uc?export=download&id=1gpc8kbwaenTpaIvnO_MQR3vw12rKYQrJ', width=20,height=20,>\n",
    "    </div>\n",
    "    <span style=\"padding:20px;\">\n",
    "    None of the columns contain null values so there is no need to remove/replace data\n",
    "    </span>\n",
    "</div>"
   ]
  },
  {
   "cell_type": "markdown",
   "metadata": {},
   "source": [
    "<div style=\"background-color:##EDF9FF\">\n",
    "  <ul><li><h3>Labelencoding Target Variable</h3></li></ul>\n",
    "</div>"
   ]
  },
  {
   "cell_type": "code",
   "execution_count": 7,
   "metadata": {},
   "outputs": [
    {
     "name": "stdout",
     "output_type": "stream",
     "text": [
      "0      0\n",
      "1      0\n",
      "2      0\n",
      "3      0\n",
      "4      0\n",
      "      ..\n",
      "145    2\n",
      "146    2\n",
      "147    2\n",
      "148    2\n",
      "149    2\n",
      "Name: Species, Length: 150, dtype: int64\n"
     ]
    }
   ],
   "source": [
    "#Using labelencoder to encode the target variable\n",
    "lb=LabelEncoder()\n",
    "#lb.fit(iris_data['Species'])\n",
    "iris_data['Species']=lb.fit_transform(iris_data['Species'])\n",
    "print(iris_data['Species'])"
   ]
  },
  {
   "cell_type": "markdown",
   "metadata": {},
   "source": [
    "<div style=\"background-color:##EDF9FF\">\n",
    "  <ul><li><h3>Dividing Feature And Target</h3></li></ul>\n",
    "</div>"
   ]
  },
  {
   "cell_type": "code",
   "execution_count": 8,
   "metadata": {},
   "outputs": [],
   "source": [
    "#Divide the dataset into independent and dependent variables\n",
    "X=iris_data[['SepalWidthCm','PetalWidthCm']]\n",
    "y=iris_data.Species"
   ]
  },
  {
   "cell_type": "code",
   "execution_count": 10,
   "metadata": {},
   "outputs": [
    {
     "name": "stdout",
     "output_type": "stream",
     "text": [
      "       SepalWidthCm  PetalWidthCm\n",
      "count    150.000000    150.000000\n",
      "mean       3.054000      1.198667\n",
      "std        0.433594      0.763161\n",
      "min        2.000000      0.100000\n",
      "25%        2.800000      0.300000\n",
      "50%        3.000000      1.300000\n",
      "75%        3.300000      1.800000\n",
      "max        4.400000      2.500000\n"
     ]
    }
   ],
   "source": [
    "print(X.describe())"
   ]
  },
  {
   "cell_type": "markdown",
   "metadata": {},
   "source": [
    "<div style=\"background-color:##EDF9FF\">\n",
    "  <ul><li><h3>Feature Scaling</h3></li></ul>\n",
    "</div>"
   ]
  },
  {
   "cell_type": "code",
   "execution_count": 12,
   "metadata": {},
   "outputs": [
    {
     "name": "stdout",
     "output_type": "stream",
     "text": [
      "[[ 1.03205722e+00 -1.31297673e+00]\n",
      " [-1.24957601e-01 -1.31297673e+00]\n",
      " [ 3.37848329e-01 -1.31297673e+00]\n",
      " [ 1.06445364e-01 -1.31297673e+00]\n",
      " [ 1.26346019e+00 -1.31297673e+00]\n",
      " [ 1.95766909e+00 -1.05003079e+00]\n",
      " [ 8.00654259e-01 -1.18150376e+00]\n",
      " [ 8.00654259e-01 -1.31297673e+00]\n",
      " [-3.56360566e-01 -1.31297673e+00]\n",
      " [ 1.06445364e-01 -1.44444970e+00]\n",
      " [ 1.49486315e+00 -1.31297673e+00]\n",
      " [ 8.00654259e-01 -1.31297673e+00]\n",
      " [-1.24957601e-01 -1.44444970e+00]\n",
      " [-1.24957601e-01 -1.44444970e+00]\n",
      " [ 2.18907205e+00 -1.31297673e+00]\n",
      " [ 3.11468391e+00 -1.05003079e+00]\n",
      " [ 1.95766909e+00 -1.05003079e+00]\n",
      " [ 1.03205722e+00 -1.18150376e+00]\n",
      " [ 1.72626612e+00 -1.18150376e+00]\n",
      " [ 1.72626612e+00 -1.18150376e+00]\n",
      " [ 8.00654259e-01 -1.31297673e+00]\n",
      " [ 1.49486315e+00 -1.05003079e+00]\n",
      " [ 1.26346019e+00 -1.31297673e+00]\n",
      " [ 5.69251294e-01 -9.18557817e-01]\n",
      " [ 8.00654259e-01 -1.31297673e+00]\n",
      " [-1.24957601e-01 -1.31297673e+00]\n",
      " [ 8.00654259e-01 -1.05003079e+00]\n",
      " [ 1.03205722e+00 -1.31297673e+00]\n",
      " [ 8.00654259e-01 -1.31297673e+00]\n",
      " [ 3.37848329e-01 -1.31297673e+00]\n",
      " [ 1.06445364e-01 -1.31297673e+00]\n",
      " [ 8.00654259e-01 -1.05003079e+00]\n",
      " [ 2.42047502e+00 -1.44444970e+00]\n",
      " [ 2.65187798e+00 -1.31297673e+00]\n",
      " [ 1.06445364e-01 -1.44444970e+00]\n",
      " [ 3.37848329e-01 -1.31297673e+00]\n",
      " [ 1.03205722e+00 -1.31297673e+00]\n",
      " [ 1.06445364e-01 -1.44444970e+00]\n",
      " [-1.24957601e-01 -1.31297673e+00]\n",
      " [ 8.00654259e-01 -1.31297673e+00]\n",
      " [ 1.03205722e+00 -1.18150376e+00]\n",
      " [-1.74477836e+00 -1.18150376e+00]\n",
      " [ 3.37848329e-01 -1.31297673e+00]\n",
      " [ 1.03205722e+00 -7.87084847e-01]\n",
      " [ 1.72626612e+00 -1.05003079e+00]\n",
      " [-1.24957601e-01 -1.18150376e+00]\n",
      " [ 1.72626612e+00 -1.31297673e+00]\n",
      " [ 3.37848329e-01 -1.31297673e+00]\n",
      " [ 1.49486315e+00 -1.31297673e+00]\n",
      " [ 5.69251294e-01 -1.31297673e+00]\n",
      " [ 3.37848329e-01  2.64698913e-01]\n",
      " [ 3.37848329e-01  3.96171883e-01]\n",
      " [ 1.06445364e-01  3.96171883e-01]\n",
      " [-1.74477836e+00  1.33225943e-01]\n",
      " [-5.87763531e-01  3.96171883e-01]\n",
      " [-5.87763531e-01  1.33225943e-01]\n",
      " [ 5.69251294e-01  5.27644853e-01]\n",
      " [-1.51337539e+00 -2.61192967e-01]\n",
      " [-3.56360566e-01  1.33225943e-01]\n",
      " [-8.19166497e-01  2.64698913e-01]\n",
      " [-2.43898725e+00 -2.61192967e-01]\n",
      " [-1.24957601e-01  3.96171883e-01]\n",
      " [-1.97618132e+00 -2.61192967e-01]\n",
      " [-3.56360566e-01  2.64698913e-01]\n",
      " [-3.56360566e-01  1.33225943e-01]\n",
      " [ 1.06445364e-01  2.64698913e-01]\n",
      " [-1.24957601e-01  3.96171883e-01]\n",
      " [-8.19166497e-01 -2.61192967e-01]\n",
      " [-1.97618132e+00  3.96171883e-01]\n",
      " [-1.28197243e+00 -1.29719997e-01]\n",
      " [ 3.37848329e-01  7.90590793e-01]\n",
      " [-5.87763531e-01  1.33225943e-01]\n",
      " [-1.28197243e+00  3.96171883e-01]\n",
      " [-5.87763531e-01  1.75297293e-03]\n",
      " [-3.56360566e-01  1.33225943e-01]\n",
      " [-1.24957601e-01  2.64698913e-01]\n",
      " [-5.87763531e-01  2.64698913e-01]\n",
      " [-1.24957601e-01  6.59117823e-01]\n",
      " [-3.56360566e-01  3.96171883e-01]\n",
      " [-1.05056946e+00 -2.61192967e-01]\n",
      " [-1.51337539e+00 -1.29719997e-01]\n",
      " [-1.51337539e+00 -2.61192967e-01]\n",
      " [-8.19166497e-01  1.75297293e-03]\n",
      " [-8.19166497e-01  5.27644853e-01]\n",
      " [-1.24957601e-01  3.96171883e-01]\n",
      " [ 8.00654259e-01  5.27644853e-01]\n",
      " [ 1.06445364e-01  3.96171883e-01]\n",
      " [-1.74477836e+00  1.33225943e-01]\n",
      " [-1.24957601e-01  1.33225943e-01]\n",
      " [-1.28197243e+00  1.33225943e-01]\n",
      " [-1.05056946e+00  1.75297293e-03]\n",
      " [-1.24957601e-01  2.64698913e-01]\n",
      " [-1.05056946e+00  1.75297293e-03]\n",
      " [-1.74477836e+00 -2.61192967e-01]\n",
      " [-8.19166497e-01  1.33225943e-01]\n",
      " [-1.24957601e-01  1.75297293e-03]\n",
      " [-3.56360566e-01  1.33225943e-01]\n",
      " [-3.56360566e-01  1.33225943e-01]\n",
      " [-1.28197243e+00 -1.29719997e-01]\n",
      " [-5.87763531e-01  1.33225943e-01]\n",
      " [ 5.69251294e-01  1.71090158e+00]\n",
      " [-8.19166497e-01  9.22063763e-01]\n",
      " [-1.24957601e-01  1.18500970e+00]\n",
      " [-3.56360566e-01  7.90590793e-01]\n",
      " [-1.24957601e-01  1.31648267e+00]\n",
      " [-1.24957601e-01  1.18500970e+00]\n",
      " [-1.28197243e+00  6.59117823e-01]\n",
      " [-3.56360566e-01  7.90590793e-01]\n",
      " [-1.28197243e+00  7.90590793e-01]\n",
      " [ 1.26346019e+00  1.71090158e+00]\n",
      " [ 3.37848329e-01  1.05353673e+00]\n",
      " [-8.19166497e-01  9.22063763e-01]\n",
      " [-1.24957601e-01  1.18500970e+00]\n",
      " [-1.28197243e+00  1.05353673e+00]\n",
      " [-5.87763531e-01  1.57942861e+00]\n",
      " [ 3.37848329e-01  1.44795564e+00]\n",
      " [-1.24957601e-01  7.90590793e-01]\n",
      " [ 1.72626612e+00  1.31648267e+00]\n",
      " [-1.05056946e+00  1.44795564e+00]\n",
      " [-1.97618132e+00  3.96171883e-01]\n",
      " [ 3.37848329e-01  1.44795564e+00]\n",
      " [-5.87763531e-01  1.05353673e+00]\n",
      " [-5.87763531e-01  1.05353673e+00]\n",
      " [-8.19166497e-01  7.90590793e-01]\n",
      " [ 5.69251294e-01  1.18500970e+00]\n",
      " [ 3.37848329e-01  7.90590793e-01]\n",
      " [-5.87763531e-01  7.90590793e-01]\n",
      " [-1.24957601e-01  7.90590793e-01]\n",
      " [-5.87763531e-01  1.18500970e+00]\n",
      " [-1.24957601e-01  5.27644853e-01]\n",
      " [-5.87763531e-01  9.22063763e-01]\n",
      " [ 1.72626612e+00  1.05353673e+00]\n",
      " [-5.87763531e-01  1.31648267e+00]\n",
      " [-5.87763531e-01  3.96171883e-01]\n",
      " [-1.05056946e+00  2.64698913e-01]\n",
      " [-1.24957601e-01  1.44795564e+00]\n",
      " [ 8.00654259e-01  1.57942861e+00]\n",
      " [ 1.06445364e-01  7.90590793e-01]\n",
      " [-1.24957601e-01  7.90590793e-01]\n",
      " [ 1.06445364e-01  1.18500970e+00]\n",
      " [ 1.06445364e-01  1.57942861e+00]\n",
      " [ 1.06445364e-01  1.44795564e+00]\n",
      " [-8.19166497e-01  9.22063763e-01]\n",
      " [ 3.37848329e-01  1.44795564e+00]\n",
      " [ 5.69251294e-01  1.71090158e+00]\n",
      " [-1.24957601e-01  1.44795564e+00]\n",
      " [-1.28197243e+00  9.22063763e-01]\n",
      " [-1.24957601e-01  1.05353673e+00]\n",
      " [ 8.00654259e-01  1.44795564e+00]\n",
      " [-1.24957601e-01  7.90590793e-01]]\n"
     ]
    }
   ],
   "source": [
    "#Feature Scaling\n",
    "sc = StandardScaler()\n",
    "X = sc.fit_transform(X)\n",
    "print(X)"
   ]
  },
  {
   "cell_type": "markdown",
   "metadata": {},
   "source": [
    "<div style=\"background-color:##EDF9FF\">\n",
    "  <ul><li><h3>Traing And Testing Set</h3></li></ul>\n",
    "</div>"
   ]
  },
  {
   "cell_type": "code",
   "execution_count": 13,
   "metadata": {},
   "outputs": [],
   "source": [
    "#Split the data into training and testing set\n",
    "X_train,X_test,y_train,y_test=train_test_split(X,y,test_size=0.2,\n",
    "                                               random_state=5) #20 percent of data will be used for testing purpose"
   ]
  },
  {
   "cell_type": "markdown",
   "metadata": {},
   "source": [
    "## Logistic Regression Training"
   ]
  },
  {
   "cell_type": "code",
   "execution_count": 14,
   "metadata": {},
   "outputs": [
    {
     "data": {
      "text/html": [
       "<style>#sk-container-id-1 {color: black;}#sk-container-id-1 pre{padding: 0;}#sk-container-id-1 div.sk-toggleable {background-color: white;}#sk-container-id-1 label.sk-toggleable__label {cursor: pointer;display: block;width: 100%;margin-bottom: 0;padding: 0.3em;box-sizing: border-box;text-align: center;}#sk-container-id-1 label.sk-toggleable__label-arrow:before {content: \"▸\";float: left;margin-right: 0.25em;color: #696969;}#sk-container-id-1 label.sk-toggleable__label-arrow:hover:before {color: black;}#sk-container-id-1 div.sk-estimator:hover label.sk-toggleable__label-arrow:before {color: black;}#sk-container-id-1 div.sk-toggleable__content {max-height: 0;max-width: 0;overflow: hidden;text-align: left;background-color: #f0f8ff;}#sk-container-id-1 div.sk-toggleable__content pre {margin: 0.2em;color: black;border-radius: 0.25em;background-color: #f0f8ff;}#sk-container-id-1 input.sk-toggleable__control:checked~div.sk-toggleable__content {max-height: 200px;max-width: 100%;overflow: auto;}#sk-container-id-1 input.sk-toggleable__control:checked~label.sk-toggleable__label-arrow:before {content: \"▾\";}#sk-container-id-1 div.sk-estimator input.sk-toggleable__control:checked~label.sk-toggleable__label {background-color: #d4ebff;}#sk-container-id-1 div.sk-label input.sk-toggleable__control:checked~label.sk-toggleable__label {background-color: #d4ebff;}#sk-container-id-1 input.sk-hidden--visually {border: 0;clip: rect(1px 1px 1px 1px);clip: rect(1px, 1px, 1px, 1px);height: 1px;margin: -1px;overflow: hidden;padding: 0;position: absolute;width: 1px;}#sk-container-id-1 div.sk-estimator {font-family: monospace;background-color: #f0f8ff;border: 1px dotted black;border-radius: 0.25em;box-sizing: border-box;margin-bottom: 0.5em;}#sk-container-id-1 div.sk-estimator:hover {background-color: #d4ebff;}#sk-container-id-1 div.sk-parallel-item::after {content: \"\";width: 100%;border-bottom: 1px solid gray;flex-grow: 1;}#sk-container-id-1 div.sk-label:hover label.sk-toggleable__label {background-color: #d4ebff;}#sk-container-id-1 div.sk-serial::before {content: \"\";position: absolute;border-left: 1px solid gray;box-sizing: border-box;top: 0;bottom: 0;left: 50%;z-index: 0;}#sk-container-id-1 div.sk-serial {display: flex;flex-direction: column;align-items: center;background-color: white;padding-right: 0.2em;padding-left: 0.2em;position: relative;}#sk-container-id-1 div.sk-item {position: relative;z-index: 1;}#sk-container-id-1 div.sk-parallel {display: flex;align-items: stretch;justify-content: center;background-color: white;position: relative;}#sk-container-id-1 div.sk-item::before, #sk-container-id-1 div.sk-parallel-item::before {content: \"\";position: absolute;border-left: 1px solid gray;box-sizing: border-box;top: 0;bottom: 0;left: 50%;z-index: -1;}#sk-container-id-1 div.sk-parallel-item {display: flex;flex-direction: column;z-index: 1;position: relative;background-color: white;}#sk-container-id-1 div.sk-parallel-item:first-child::after {align-self: flex-end;width: 50%;}#sk-container-id-1 div.sk-parallel-item:last-child::after {align-self: flex-start;width: 50%;}#sk-container-id-1 div.sk-parallel-item:only-child::after {width: 0;}#sk-container-id-1 div.sk-dashed-wrapped {border: 1px dashed gray;margin: 0 0.4em 0.5em 0.4em;box-sizing: border-box;padding-bottom: 0.4em;background-color: white;}#sk-container-id-1 div.sk-label label {font-family: monospace;font-weight: bold;display: inline-block;line-height: 1.2em;}#sk-container-id-1 div.sk-label-container {text-align: center;}#sk-container-id-1 div.sk-container {/* jupyter's `normalize.less` sets `[hidden] { display: none; }` but bootstrap.min.css set `[hidden] { display: none !important; }` so we also need the `!important` here to be able to override the default hidden behavior on the sphinx rendered scikit-learn.org. See: https://github.com/scikit-learn/scikit-learn/issues/21755 */display: inline-block !important;position: relative;}#sk-container-id-1 div.sk-text-repr-fallback {display: none;}</style><div id=\"sk-container-id-1\" class=\"sk-top-container\"><div class=\"sk-text-repr-fallback\"><pre>LogisticRegression(C=1, multi_class=&#x27;multinomial&#x27;)</pre><b>In a Jupyter environment, please rerun this cell to show the HTML representation or trust the notebook. <br />On GitHub, the HTML representation is unable to render, please try loading this page with nbviewer.org.</b></div><div class=\"sk-container\" hidden><div class=\"sk-item\"><div class=\"sk-estimator sk-toggleable\"><input class=\"sk-toggleable__control sk-hidden--visually\" id=\"sk-estimator-id-1\" type=\"checkbox\" checked><label for=\"sk-estimator-id-1\" class=\"sk-toggleable__label sk-toggleable__label-arrow\">LogisticRegression</label><div class=\"sk-toggleable__content\"><pre>LogisticRegression(C=1, multi_class=&#x27;multinomial&#x27;)</pre></div></div></div></div></div>"
      ],
      "text/plain": [
       "LogisticRegression(C=1, multi_class='multinomial')"
      ]
     },
     "execution_count": 14,
     "metadata": {},
     "output_type": "execute_result"
    }
   ],
   "source": [
    "#Fitting the model\n",
    "mlr=LogisticRegression(C=1,solver='lbfgs', multi_class='multinomial')\n",
    "mlr.fit(X_train,y_train)"
   ]
  },
  {
   "cell_type": "markdown",
   "metadata": {},
   "source": [
    "---"
   ]
  },
  {
   "cell_type": "markdown",
   "metadata": {},
   "source": [
    "## Visualising The Model"
   ]
  },
  {
   "cell_type": "code",
   "execution_count": null,
   "metadata": {},
   "outputs": [],
   "source": [
    "def plot_multi(X,y,mset):\n",
    "    p=lb.classes_\n",
    "    X1, X2 = np.meshgrid(np.arange(start = X[:, 0].min() - 1, stop = X[:, 0].max() + 1,   step = 0.01),\n",
    "                         np.arange(start = X[:, 1].min() - 1, stop = X[:, 1].max() + 1, step = 0.01))\n",
    "\n",
    "    #To plot boundaries\n",
    "    #In general, the space is divided into decision boundaries\n",
    "    plt.figure(figsize=(8,6))\n",
    "    plt.contourf(X1, X2, mlr.predict(np.array([X1.ravel(), X2.ravel()]).T).reshape(X1.shape),\n",
    "                 alpha = 0.75, cmap = ListedColormap(('#F74E69', '#BDF54E','#72ADDA')))\n",
    "\n",
    "    plt.xlim(X1.min(), X1.max())\n",
    "    plt.ylim(X2.min(), X2.max())\n",
    "\n",
    "    for i, j in enumerate(set(y)):\n",
    "        plt.scatter(X[y == j, 0], X[y == j, 1],\n",
    "                    c = ['#BE001E', '#7DBB00','#074C81'][i], label = p[j])\n",
    "    plt.title('Logistic Regression ('+mset+')')\n",
    "    plt.xlabel('Sepal Width')\n",
    "    plt.ylabel('Petal Width')\n",
    "    plt.legend()\n",
    "    return plt"
   ]
  },
  {
   "cell_type": "markdown",
   "metadata": {},
   "source": [
    "<div style=\"background-color:##EDF9FF\">\n",
    "  <ul><li><h3>Training Set</h3></li></ul>\n",
    "</div>"
   ]
  },
  {
   "cell_type": "code",
   "execution_count": 21,
   "metadata": {},
   "outputs": [
    {
     "name": "stdout",
     "output_type": "stream",
     "text": [
      "[2 1 0 2 2 1 0 1 1 1 2 0 2 0 0 1 2 2 1 2 1 2 1 1 2 1 2 2 1 2 1 0 2 1 1 1 1\n",
      " 2 0 0 2 1 0 0 1 0 2 1 0 1 2 1 0 2 2 2 2 0 0 2 2 1 2 0 2 2 0 0 1 0 0 0 1 2\n",
      " 2 0 0 0 1 1 0 0 1 0 2 1 2 1 0 2 0 2 0 0 2 0 2 1 1 1 2 2 1 2 0 1 2 2 0 1 1\n",
      " 2 1 0 0 0 2 1 2 0]\n"
     ]
    }
   ],
   "source": [
    "y_mlr=mlr.predict(X_train)\n",
    "print(y_mlr)\n",
    "#plt.show(plot_multi(X_train,y_mlr,'Training Set'))"
   ]
  },
  {
   "cell_type": "code",
   "execution_count": 22,
   "metadata": {},
   "outputs": [
    {
     "name": "stdout",
     "output_type": "stream",
     "text": [
      "Accuracy:  0.95\n"
     ]
    }
   ],
   "source": [
    "#Training Accuracy\n",
    "print('Accuracy: ',accuracy_score(y_train,y_mlr))"
   ]
  },
  {
   "cell_type": "markdown",
   "metadata": {},
   "source": [
    "<div style=\"background-color:##EDF9FF\">\n",
    "  <ul><li><h3>Test Set</h3></li></ul>\n",
    "</div>"
   ]
  },
  {
   "cell_type": "code",
   "execution_count": 23,
   "metadata": {},
   "outputs": [
    {
     "name": "stdout",
     "output_type": "stream",
     "text": [
      "[2 1 0 2 0 2 0 1 1 1 1 1 1 1 1 0 1 1 0 0 2 1 0 0 2 0 0 1 1 0]\n"
     ]
    }
   ],
   "source": [
    "y_mlr=mlr.predict(X_test)\n",
    "print(y_mlr)\n",
    "#plt.show(plot_multi(X_test,y_mlr,'Test Set'))"
   ]
  },
  {
   "cell_type": "markdown",
   "metadata": {},
   "source": [
    "## Accuracy Score"
   ]
  },
  {
   "cell_type": "code",
   "execution_count": 24,
   "metadata": {},
   "outputs": [
    {
     "name": "stdout",
     "output_type": "stream",
     "text": [
      "Accuracy:  0.9666666666666667\n"
     ]
    }
   ],
   "source": [
    "mlr_pred=mlr.predict(X_test)\n",
    "print('Accuracy: ',accuracy_score(y_test,mlr_pred))"
   ]
  },
  {
   "cell_type": "code",
   "execution_count": 25,
   "metadata": {},
   "outputs": [
    {
     "data": {
      "text/plain": [
       "array([0], dtype=int64)"
      ]
     },
     "execution_count": 25,
     "metadata": {},
     "output_type": "execute_result"
    }
   ],
   "source": [
    "mlr.predict([[3.5,0.2]]) #User data"
   ]
  },
  {
   "cell_type": "markdown",
   "metadata": {},
   "source": [
    "<b><i>Conclusion</i></b>: In this demonstration, we have gained an understanding of how to apply logistic regression algorithm."
   ]
  }
 ],
 "metadata": {
  "kernelspec": {
   "display_name": "Python 3 (ipykernel)",
   "language": "python",
   "name": "python3"
  },
  "language_info": {
   "codemirror_mode": {
    "name": "ipython",
    "version": 3
   },
   "file_extension": ".py",
   "mimetype": "text/x-python",
   "name": "python",
   "nbconvert_exporter": "python",
   "pygments_lexer": "ipython3",
   "version": "3.12.1"
  }
 },
 "nbformat": 4,
 "nbformat_minor": 4
}

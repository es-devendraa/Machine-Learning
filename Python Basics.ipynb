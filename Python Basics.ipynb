{
 "cells": [
  {
   "cell_type": "code",
   "execution_count": 2,
   "id": "84485289-62b1-4ba2-8e83-bb820d9ae6ca",
   "metadata": {},
   "outputs": [
    {
     "name": "stdout",
     "output_type": "stream",
     "text": [
      "Hello SAIT\n"
     ]
    }
   ],
   "source": [
    "print(\"Hello SAIT\")"
   ]
  },
  {
   "cell_type": "code",
   "execution_count": 3,
   "id": "c8a5c81d-526f-4682-9904-243112e70c9d",
   "metadata": {},
   "outputs": [],
   "source": [
    "#this is a comment"
   ]
  },
  {
   "cell_type": "code",
   "execution_count": null,
   "id": "17898259-c900-4668-a339-7c1ef7fef099",
   "metadata": {},
   "outputs": [],
   "source": [
    "\"\"\"\n",
    "this\n",
    "is\n",
    "a\n",
    "multiline comment\n",
    "\n",
    "\"\"\""
   ]
  },
  {
   "cell_type": "markdown",
   "id": "a3eea1ac-cb4b-4f15-a17b-69dada8fae1f",
   "metadata": {},
   "source": [
    "this is a markdown"
   ]
  },
  {
   "cell_type": "code",
   "execution_count": 4,
   "id": "d78dd94a-4c42-4132-a6c4-78d86cd6d5a4",
   "metadata": {},
   "outputs": [
    {
     "name": "stdout",
     "output_type": "stream",
     "text": [
      "<class 'int'>\n"
     ]
    }
   ],
   "source": [
    "#Data Types\n",
    "#Dynamic Typing\n",
    "age=45\n",
    "print(type(age))"
   ]
  },
  {
   "cell_type": "code",
   "execution_count": 8,
   "id": "634daa22-6671-48c5-9531-0d71e2b0505f",
   "metadata": {},
   "outputs": [
    {
     "name": "stdout",
     "output_type": "stream",
     "text": [
      "<class 'int'>\n",
      "<class 'float'>\n",
      "<class 'str'>\n",
      "<class 'list'>\n"
     ]
    }
   ],
   "source": [
    "var=16\n",
    "print(type(var))\n",
    "var=34.56\n",
    "print(type(var))\n",
    "var='Raghav'\n",
    "print(type(var))\n",
    "var=[10,20,30]\n",
    "print(type(var))"
   ]
  },
  {
   "cell_type": "code",
   "execution_count": 2,
   "id": "ab26b442-45cc-4abd-9d55-b2735f9b4f1a",
   "metadata": {},
   "outputs": [
    {
     "name": "stdout",
     "output_type": "stream",
     "text": [
      "R\n",
      "v\n"
     ]
    },
    {
     "ename": "TypeError",
     "evalue": "'str' object does not support item assignment",
     "output_type": "error",
     "traceback": [
      "\u001b[1;31m---------------------------------------------------------------------------\u001b[0m",
      "\u001b[1;31mTypeError\u001b[0m                                 Traceback (most recent call last)",
      "Cell \u001b[1;32mIn[2], line 5\u001b[0m\n\u001b[0;32m      3\u001b[0m \u001b[38;5;28mprint\u001b[39m(name[\u001b[38;5;241m0\u001b[39m])\n\u001b[0;32m      4\u001b[0m \u001b[38;5;28mprint\u001b[39m(name[\u001b[38;5;241m-\u001b[39m\u001b[38;5;241m1\u001b[39m])\n\u001b[1;32m----> 5\u001b[0m \u001b[43mname\u001b[49m\u001b[43m[\u001b[49m\u001b[38;5;241;43m0\u001b[39;49m\u001b[43m]\u001b[49m\u001b[38;5;241m=\u001b[39m\u001b[38;5;124m'\u001b[39m\u001b[38;5;124mx\u001b[39m\u001b[38;5;124m'\u001b[39m\n",
      "\u001b[1;31mTypeError\u001b[0m: 'str' object does not support item assignment"
     ]
    }
   ],
   "source": [
    "#Python string\n",
    "name=\"Raghav\"\n",
    "print(name[0])\n",
    "print(name[-1])\n",
    "name[0]='x'"
   ]
  },
  {
   "cell_type": "code",
   "execution_count": 7,
   "id": "ccc37352-8cb3-45f3-9a74-1a34f37ffddd",
   "metadata": {},
   "outputs": [
    {
     "name": "stdout",
     "output_type": "stream",
     "text": [
      "<class 'list'>\n",
      "45000\n",
      "5\n"
     ]
    }
   ],
   "source": [
    "#Python List\n",
    "lst=[23,45,78,98]\n",
    "print(type(lst))\n",
    "emp=[1001,'Ankit','manager',45000,4.6]\n",
    "print(emp[3])\n",
    "print(len(emp))"
   ]
  },
  {
   "cell_type": "code",
   "execution_count": 11,
   "id": "788097a3-c23a-450a-b4c3-a1a46839c476",
   "metadata": {},
   "outputs": [
    {
     "name": "stdout",
     "output_type": "stream",
     "text": [
      "[30, 40, 50, 60]\n",
      "[10, 30, 50, 70]\n",
      "[10, 30, 50, 70]\n",
      "[80, 70, 60, 50, 40, 30, 20, 10]\n"
     ]
    }
   ],
   "source": [
    "#Slicing [start:stop:step]\n",
    "lst=[10,20,30,40,50,60,70,80]\n",
    "print(lst[2:6])\n",
    "print(lst[0:7:2])\n",
    "print(lst[::2])\n",
    "print(lst[::-1])"
   ]
  },
  {
   "cell_type": "code",
   "execution_count": 14,
   "id": "5e97f4c9-b209-4378-b90d-7a6a3b1caded",
   "metadata": {},
   "outputs": [
    {
     "name": "stdout",
     "output_type": "stream",
     "text": [
      "[100, 20, 30, 40, 50, 60, 70, 80]\n",
      "[100, 20, 30, 40, 50, 60, 70, 80]\n",
      "[10, 10, 20, 20, 30]\n"
     ]
    }
   ],
   "source": [
    "print(lst)\n",
    "lst[0]=100 #Mutable\n",
    "print(lst)\n",
    "lst=[10,10,20,20,30]\n",
    "print(lst) #Duplicates"
   ]
  },
  {
   "cell_type": "code",
   "execution_count": 20,
   "id": "f3cfe646-3f19-4193-8bb8-ef33139dd4cb",
   "metadata": {},
   "outputs": [
    {
     "name": "stdout",
     "output_type": "stream",
     "text": [
      "[23, 45, 67, 89, 34, 100]\n",
      "[23, 45, 67, 89, 34, 100, 200, 300, 400]\n",
      "[23, 45, 67, 1000, [10, 20, 30], 89, 34, 100, 200, 300, 400]\n"
     ]
    }
   ],
   "source": [
    "#Insertion and deltion\n",
    "\n",
    "#insertion: insert(),extend(),append() \n",
    "lst=[23,45,67,89,34]\n",
    "lst.append(100)\n",
    "print(lst)\n",
    "lst.extend([200,300,400])\n",
    "print(lst)\n",
    "lst.insert(3,1000)\n",
    "lst.insert(4,[10,20,30])\n",
    "print(lst)"
   ]
  },
  {
   "cell_type": "code",
   "execution_count": 23,
   "id": "2c7c82aa-6302-4976-848a-3c1b05827018",
   "metadata": {},
   "outputs": [
    {
     "name": "stdout",
     "output_type": "stream",
     "text": [
      "[23, 45, 67, 1000, [10, 20, 30], 89, 34, 100, 200, 300]\n",
      "[23, 45, 67, 1000, [10, 20, 30], 89, 34, 100, 200]\n",
      "[23, 45, 67, 1000, 89, 34, 100, 200]\n"
     ]
    }
   ],
   "source": [
    "#Deletion: pop(),remove()\n",
    "print(lst)\n",
    "lst.pop()\n",
    "print(lst)\n",
    "lst.pop(4)\n",
    "print(lst)\n",
    "\n",
    "]"
   ]
  },
  {
   "cell_type": "code",
   "execution_count": 25,
   "id": "efce2973-a1d5-4d95-a53b-5bdc0959f866",
   "metadata": {},
   "outputs": [
    {
     "name": "stdout",
     "output_type": "stream",
     "text": [
      "2\n",
      "2\n"
     ]
    }
   ],
   "source": [
    "#index()\n",
    "print(lst.index(67))\n",
    "lst=[23,23,45,56,46,76,45]\n",
    "print(lst.index(45))"
   ]
  },
  {
   "cell_type": "code",
   "execution_count": 29,
   "id": "09207ceb-43e4-4456-911f-ca052270ae19",
   "metadata": {},
   "outputs": [
    {
     "name": "stdout",
     "output_type": "stream",
     "text": [
      "[23, 23, 45, 46, 76, 45]\n",
      "[23, 23, 45, 46, 76, 45]\n"
     ]
    }
   ],
   "source": [
    "#Remove()\n",
    "#lst.remove(56)\n",
    "print(lst)\n",
    "print(lst)\n",
    "\n",
    "#print(lst)"
   ]
  },
  {
   "cell_type": "code",
   "execution_count": 30,
   "id": "ab479e9a-8c74-464e-9b03-6c7a4f5406cc",
   "metadata": {},
   "outputs": [
    {
     "name": "stdout",
     "output_type": "stream",
     "text": [
      "[23, 23, 46, 76, 45]\n"
     ]
    }
   ],
   "source": [
    "lst.remove(45)\n",
    "print(lst)"
   ]
  },
  {
   "cell_type": "code",
   "execution_count": 31,
   "id": "1ca04849-eaf8-4699-ac49-4f2c04d1735e",
   "metadata": {},
   "outputs": [
    {
     "name": "stdout",
     "output_type": "stream",
     "text": [
      "[35, 56, 78, 98, 34]\n"
     ]
    }
   ],
   "source": [
    "lst=[35,45,56,78,98,34,45]\n",
    "for i in lst:\n",
    "    if i==45:\n",
    "        lst.remove(45)\n",
    "\n",
    "print(lst)"
   ]
  },
  {
   "cell_type": "code",
   "execution_count": 33,
   "id": "d78daacb-d992-4152-8bc1-39755f4869a1",
   "metadata": {},
   "outputs": [
    {
     "name": "stdout",
     "output_type": "stream",
     "text": [
      "__add__\n",
      "__class__\n",
      "__class_getitem__\n",
      "__contains__\n",
      "__delattr__\n",
      "__delitem__\n",
      "__dir__\n",
      "__doc__\n",
      "__eq__\n",
      "__format__\n",
      "__ge__\n",
      "__getattribute__\n",
      "__getitem__\n",
      "__getstate__\n",
      "__gt__\n",
      "__hash__\n",
      "__iadd__\n",
      "__imul__\n",
      "__init__\n",
      "__init_subclass__\n",
      "__iter__\n",
      "__le__\n",
      "__len__\n",
      "__lt__\n",
      "__mul__\n",
      "__ne__\n",
      "__new__\n",
      "__reduce__\n",
      "__reduce_ex__\n",
      "__repr__\n",
      "__reversed__\n",
      "__rmul__\n",
      "__setattr__\n",
      "__setitem__\n",
      "__sizeof__\n",
      "__str__\n",
      "__subclasshook__\n",
      "append\n",
      "clear\n",
      "copy\n",
      "count\n",
      "extend\n",
      "index\n",
      "insert\n",
      "pop\n",
      "remove\n",
      "reverse\n",
      "sort\n"
     ]
    }
   ],
   "source": [
    "#print(dir(lst))\n",
    "for i in dir(lst):\n",
    "    print(i)"
   ]
  },
  {
   "cell_type": "code",
   "execution_count": 34,
   "id": "caaae7da-e9c2-4965-9d17-55937d48bd05",
   "metadata": {},
   "outputs": [
    {
     "name": "stdout",
     "output_type": "stream",
     "text": [
      "Return number of occurrences of value.\n"
     ]
    }
   ],
   "source": [
    "print(lst.count.__doc__)"
   ]
  },
  {
   "cell_type": "code",
   "execution_count": 35,
   "id": "1ab47165-ea4c-4669-9795-7eeaf0288d51",
   "metadata": {},
   "outputs": [
    {
     "name": "stdout",
     "output_type": "stream",
     "text": [
      "1\n"
     ]
    }
   ],
   "source": [
    "print(lst.count(34))"
   ]
  },
  {
   "cell_type": "code",
   "execution_count": 39,
   "id": "798fbf6f-2aa9-4701-8104-ce44cc4c7e21",
   "metadata": {},
   "outputs": [
    {
     "name": "stdout",
     "output_type": "stream",
     "text": [
      "<class 'tuple'>\n",
      "34\n"
     ]
    },
    {
     "ename": "TypeError",
     "evalue": "'tuple' object does not support item assignment",
     "output_type": "error",
     "traceback": [
      "\u001b[1;31m---------------------------------------------------------------------------\u001b[0m",
      "\u001b[1;31mTypeError\u001b[0m                                 Traceback (most recent call last)",
      "Cell \u001b[1;32mIn[39], line 5\u001b[0m\n\u001b[0;32m      3\u001b[0m \u001b[38;5;28mprint\u001b[39m(\u001b[38;5;28mtype\u001b[39m(tup))\n\u001b[0;32m      4\u001b[0m \u001b[38;5;28mprint\u001b[39m(tup[\u001b[38;5;241m4\u001b[39m]) \u001b[38;5;66;03m#ordered\u001b[39;00m\n\u001b[1;32m----> 5\u001b[0m \u001b[43mtup\u001b[49m\u001b[43m[\u001b[49m\u001b[38;5;241;43m0\u001b[39;49m\u001b[43m]\u001b[49m\u001b[38;5;241m=\u001b[39m\u001b[38;5;241m1000\u001b[39m\n\u001b[0;32m      6\u001b[0m u\n",
      "\u001b[1;31mTypeError\u001b[0m: 'tuple' object does not support item assignment"
     ]
    }
   ],
   "source": [
    "#Python Tuple\n",
    "tup=(34,56,78,56,34,98)\n",
    "print(type(tup))\n",
    "print(tup[4]) #ordered\n",
    "tup[0]=1000\n",
    "u\n"
   ]
  },
  {
   "cell_type": "code",
   "execution_count": 43,
   "id": "7bf2cd2d-3908-4f8a-abf6-456a88455406",
   "metadata": {},
   "outputs": [
    {
     "name": "stdout",
     "output_type": "stream",
     "text": [
      "{34, 67, 98, 19, 56}\n",
      "<class 'set'>\n"
     ]
    }
   ],
   "source": [
    "#Python Set\n",
    "st={19,34,56,34,67,98,34}\n",
    "print(st)\n",
    "print(type(st))\n",
    "#print(st[0])"
   ]
  },
  {
   "cell_type": "code",
   "execution_count": 44,
   "id": "b064fadf-7e9e-4f75-b632-c75e13aa5237",
   "metadata": {},
   "outputs": [
    {
     "name": "stdout",
     "output_type": "stream",
     "text": [
      "__and__\n",
      "__class__\n",
      "__class_getitem__\n",
      "__contains__\n",
      "__delattr__\n",
      "__dir__\n",
      "__doc__\n",
      "__eq__\n",
      "__format__\n",
      "__ge__\n",
      "__getattribute__\n",
      "__getstate__\n",
      "__gt__\n",
      "__hash__\n",
      "__iand__\n",
      "__init__\n",
      "__init_subclass__\n",
      "__ior__\n",
      "__isub__\n",
      "__iter__\n",
      "__ixor__\n",
      "__le__\n",
      "__len__\n",
      "__lt__\n",
      "__ne__\n",
      "__new__\n",
      "__or__\n",
      "__rand__\n",
      "__reduce__\n",
      "__reduce_ex__\n",
      "__repr__\n",
      "__ror__\n",
      "__rsub__\n",
      "__rxor__\n",
      "__setattr__\n",
      "__sizeof__\n",
      "__str__\n",
      "__sub__\n",
      "__subclasshook__\n",
      "__xor__\n",
      "add\n",
      "clear\n",
      "copy\n",
      "difference\n",
      "difference_update\n",
      "discard\n",
      "intersection\n",
      "intersection_update\n",
      "isdisjoint\n",
      "issubset\n",
      "issuperset\n",
      "pop\n",
      "remove\n",
      "symmetric_difference\n",
      "symmetric_difference_update\n",
      "union\n",
      "update\n"
     ]
    }
   ],
   "source": [
    "for i in dir(st):\n",
    "    print(i)\n"
   ]
  },
  {
   "cell_type": "code",
   "execution_count": 45,
   "id": "b3ad7b0e-8a1c-455e-8255-803c2f68aec9",
   "metadata": {},
   "outputs": [
    {
     "name": "stdout",
     "output_type": "stream",
     "text": [
      "Return the union of sets as a new set.\n",
      "\n",
      "(i.e. all elements that are in either set.)\n"
     ]
    }
   ],
   "source": [
    "print(st.union.__doc__)"
   ]
  },
  {
   "cell_type": "code",
   "execution_count": 49,
   "id": "3e5131a3-e655-466d-82cd-5ff2432f6778",
   "metadata": {},
   "outputs": [
    {
     "name": "stdout",
     "output_type": "stream",
     "text": [
      "{0, 34, 67, 98, 45, 78, 87, 23, 56}\n",
      "{56, 34, 67, 78}\n"
     ]
    }
   ],
   "source": [
    "st_a={23,45,67,34,23,78,56}\n",
    "st_b={56,87,0,98,34,67,78}\n",
    "#Union\n",
    "st_c=st_a.union(st_b)\n",
    "print(st_c)\n",
    "st_c=st_a.intersection(st_b)\n",
    "print(st_c)"
   ]
  },
  {
   "cell_type": "code",
   "execution_count": 52,
   "id": "e058a3b1-fc9a-4193-b2a5-50476c14c8b5",
   "metadata": {},
   "outputs": [
    {
     "name": "stdout",
     "output_type": "stream",
     "text": [
      "[34, 34, 56, 67, 89, 90, 90]\n",
      "{34, 67, 56, 89, 90}\n",
      "[34, 67, 56, 89, 90]\n"
     ]
    }
   ],
   "source": [
    "lst=[34,34,56,67,89,90,90]\n",
    "print(lst)\n",
    "st=set(lst)\n",
    "print(st)\n",
    "lst=list(st)\n",
    "print(lst)\n",
    "#list(),tuple(),set(),dict()"
   ]
  },
  {
   "cell_type": "code",
   "execution_count": 58,
   "id": "a147f2bb-90da-4314-91aa-fdeec8f16aa0",
   "metadata": {},
   "outputs": [
    {
     "name": "stdout",
     "output_type": "stream",
     "text": [
      "<class 'dict'>\n",
      "1000\n",
      "{'empid': 1000, 'name': 'Ankit', 'salary': 30000, 100: 'abc', 'proj': ['proj1', 'proj2']}\n"
     ]
    }
   ],
   "source": [
    "#Python Dictionaries\n",
    "dict={'empid':1000,'name':'Ankit','salary':24000,100:'abc','proj':['proj1','proj2']}\n",
    "print(type(dict))\n",
    "print(dict['empid'])\n",
    "dict['salary']=30000\n",
    "print(dict)"
   ]
  },
  {
   "cell_type": "code",
   "execution_count": 59,
   "id": "1cb8a328-bf35-4e9a-9e93-ecee297eae6b",
   "metadata": {},
   "outputs": [
    {
     "name": "stdout",
     "output_type": "stream",
     "text": [
      "{'name': 'Raghav', 'Band': 'C', 'Category': 'C'}\n"
     ]
    }
   ],
   "source": [
    "dict={'name':'Ankit','Band':'C','Category':'C','name':'Raghav'}\n",
    "print(dict)"
   ]
  },
  {
   "cell_type": "code",
   "execution_count": 61,
   "id": "1d75ef6c-ddbf-438c-afab-1aef7ad02d7d",
   "metadata": {},
   "outputs": [
    {
     "name": "stdout",
     "output_type": "stream",
     "text": [
      "{'name': 'Raghav', 'Band': 'C', 'Category': 'C', 'city': 'Indore'}\n",
      "{'name': 'Garima', 'Band': 'C', 'Category': 'C', 'city': 'Indore'}\n"
     ]
    }
   ],
   "source": [
    "#Adding new keyvalue pair\n",
    "dict['city']=\"Indore\"\n",
    "print(dict)\n",
    "dict['name']='Garima'\n",
    "print(dict)"
   ]
  },
  {
   "cell_type": "code",
   "execution_count": null,
   "id": "2431a0d4-fb87-4d61-8a97-e88051df3394",
   "metadata": {},
   "outputs": [],
   "source": [
    "#keys(),values(),fromkeys()"
   ]
  }
 ],
 "metadata": {
  "kernelspec": {
   "display_name": "Python 3 (ipykernel)",
   "language": "python",
   "name": "python3"
  },
  "language_info": {
   "codemirror_mode": {
    "name": "ipython",
    "version": 3
   },
   "file_extension": ".py",
   "mimetype": "text/x-python",
   "name": "python",
   "nbconvert_exporter": "python",
   "pygments_lexer": "ipython3",
   "version": "3.12.2"
  }
 },
 "nbformat": 4,
 "nbformat_minor": 5
}

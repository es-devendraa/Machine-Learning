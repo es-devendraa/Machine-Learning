{
 "cells": [
  {
   "cell_type": "markdown",
   "id": "a3a38641-417f-4dab-bd32-e4fdaec66fbc",
   "metadata": {},
   "source": [
    "Problem Statement\n",
    "\n",
    "The dataset contain details of users like User ID, Gender, Age, EstimatedSalary and Purchased. The data shows whether a person is likely to purchase the artefacts advertised or not. Based on the data we have to generate a model that can predict whether the person will make a purchase or not.\n"
   ]
  },
  {
   "cell_type": "code",
   "execution_count": 1,
   "id": "f07fa31e-2ff1-4951-ac1f-f31e8bf870d1",
   "metadata": {},
   "outputs": [],
   "source": [
    "#Import Libraries\n",
    "import numpy as np\n",
    "import pandas as pd\n",
    "import matplotlib.pyplot as plt\n",
    "from sklearn.model_selection import train_test_split\n",
    "from sklearn.preprocessing import StandardScaler\n",
    "from sklearn.preprocessing import LabelEncoder\n",
    "from sklearn.linear_model import LogisticRegression\n",
    "from sklearn import metrics"
   ]
  },
  {
   "cell_type": "code",
   "execution_count": 2,
   "id": "16338f20-e4b7-4154-a16d-1fd9715cb5b2",
   "metadata": {},
   "outputs": [
    {
     "name": "stdout",
     "output_type": "stream",
     "text": [
      "    User ID  Gender  Age  EstimatedSalary  Purchased\n",
      "0  15624510    Male   19            19000          0\n",
      "1  15810944    Male   35            20000          0\n",
      "2  15668575  Female   26            43000          0\n",
      "3  15603246  Female   27            57000          0\n",
      "4  15804002    Male   19            76000          0\n"
     ]
    }
   ],
   "source": [
    "#Read Data\n",
    "ad_data=pd.read_csv(\"Social_Network_Ads.csv\")\n",
    "print(ad_data.head())"
   ]
  },
  {
   "cell_type": "markdown",
   "id": "51b1e5c8-0fcc-4470-9c52-100ec38647f2",
   "metadata": {},
   "source": [
    "### Data Preprocessing"
   ]
  },
  {
   "cell_type": "code",
   "execution_count": 3,
   "id": "f1a810ff-0f1d-4e16-8531-cb4b0f386cff",
   "metadata": {},
   "outputs": [
    {
     "name": "stdout",
     "output_type": "stream",
     "text": [
      "(400, 5)\n",
      "<class 'pandas.core.frame.DataFrame'>\n",
      "RangeIndex: 400 entries, 0 to 399\n",
      "Data columns (total 5 columns):\n",
      " #   Column           Non-Null Count  Dtype \n",
      "---  ------           --------------  ----- \n",
      " 0   User ID          400 non-null    int64 \n",
      " 1   Gender           400 non-null    object\n",
      " 2   Age              400 non-null    int64 \n",
      " 3   EstimatedSalary  400 non-null    int64 \n",
      " 4   Purchased        400 non-null    int64 \n",
      "dtypes: int64(4), object(1)\n",
      "memory usage: 15.8+ KB\n",
      "None\n"
     ]
    }
   ],
   "source": [
    "#Data Analysis(Know your Data)\n",
    "print(ad_data.shape)\n",
    "print(ad_data.info())"
   ]
  },
  {
   "cell_type": "code",
   "execution_count": 4,
   "id": "52acbd15-8c37-4db3-8c72-c84aaefe6bd1",
   "metadata": {},
   "outputs": [
    {
     "data": {
      "text/plain": [
       "User ID            0\n",
       "Gender             0\n",
       "Age                0\n",
       "EstimatedSalary    0\n",
       "Purchased          0\n",
       "dtype: int64"
      ]
     },
     "execution_count": 4,
     "metadata": {},
     "output_type": "execute_result"
    }
   ],
   "source": [
    "#Check Null Values\n",
    "ad_data.isnull().sum()"
   ]
  },
  {
   "cell_type": "code",
   "execution_count": 5,
   "id": "c3702283-c1e5-4421-8d0e-e0df87a5b9cd",
   "metadata": {},
   "outputs": [
    {
     "name": "stdout",
     "output_type": "stream",
     "text": [
      "     User ID  Gender  Age  EstimatedSalary  Purchased\n",
      "0   15624510       1   19            19000          0\n",
      "1   15810944       1   35            20000          0\n",
      "2   15668575       0   26            43000          0\n",
      "3   15603246       0   27            57000          0\n",
      "4   15804002       1   19            76000          0\n",
      "5   15728773       1   27            58000          0\n",
      "6   15598044       0   27            84000          0\n",
      "7   15694829       0   32           150000          1\n",
      "8   15600575       1   25            33000          0\n",
      "9   15727311       0   35            65000          0\n",
      "10  15570769       0   26            80000          0\n",
      "11  15606274       0   26            52000          0\n",
      "12  15746139       1   20            86000          0\n",
      "13  15704987       1   32            18000          0\n",
      "14  15628972       1   18            82000          0\n",
      "15  15697686       1   29            80000          0\n",
      "16  15733883       1   47            25000          1\n",
      "17  15617482       1   45            26000          1\n",
      "18  15704583       1   46            28000          1\n",
      "19  15621083       0   48            29000          1\n"
     ]
    }
   ],
   "source": [
    "#Label Encoder (Handling Categorical Variables)\n",
    "lc=LabelEncoder()\n",
    "ad_data[\"Gender\"]=lc.fit_transform(ad_data[\"Gender\"])\n",
    "print(ad_data.head(20))"
   ]
  },
  {
   "cell_type": "code",
   "execution_count": 6,
   "id": "07cc8d2f-dfaf-4df3-a2a8-52f37c0078d0",
   "metadata": {},
   "outputs": [
    {
     "name": "stdout",
     "output_type": "stream",
     "text": [
      "<class 'pandas.core.frame.DataFrame'>\n",
      "RangeIndex: 400 entries, 0 to 399\n",
      "Data columns (total 5 columns):\n",
      " #   Column           Non-Null Count  Dtype\n",
      "---  ------           --------------  -----\n",
      " 0   User ID          400 non-null    int64\n",
      " 1   Gender           400 non-null    int32\n",
      " 2   Age              400 non-null    int64\n",
      " 3   EstimatedSalary  400 non-null    int64\n",
      " 4   Purchased        400 non-null    int64\n",
      "dtypes: int32(1), int64(4)\n",
      "memory usage: 14.2 KB\n",
      "None\n"
     ]
    }
   ],
   "source": [
    "print(ad_data.info())"
   ]
  },
  {
   "cell_type": "code",
   "execution_count": 7,
   "id": "c9db96d7-019c-4284-a362-b89e959ab3f4",
   "metadata": {},
   "outputs": [],
   "source": [
    "#Dropping irrelevent features\n",
    "ad_data.drop('User ID',axis=1,inplace=True)"
   ]
  },
  {
   "cell_type": "code",
   "execution_count": 8,
   "id": "cf5eeab5-a32c-4f45-8c74-f85deef81f71",
   "metadata": {},
   "outputs": [
    {
     "name": "stdout",
     "output_type": "stream",
     "text": [
      "           Gender         Age  EstimatedSalary   Purchased\n",
      "count  400.000000  400.000000       400.000000  400.000000\n",
      "mean     0.490000   37.655000     69742.500000    0.357500\n",
      "std      0.500526   10.482877     34096.960282    0.479864\n",
      "min      0.000000   18.000000     15000.000000    0.000000\n",
      "25%      0.000000   29.750000     43000.000000    0.000000\n",
      "50%      0.000000   37.000000     70000.000000    0.000000\n",
      "75%      1.000000   46.000000     88000.000000    1.000000\n",
      "max      1.000000   60.000000    150000.000000    1.000000\n"
     ]
    }
   ],
   "source": [
    "print(ad_data.describe())"
   ]
  },
  {
   "cell_type": "code",
   "execution_count": 9,
   "id": "0e08cf71-9710-4ed4-b13c-cd0b650776cd",
   "metadata": {},
   "outputs": [],
   "source": [
    "#Segregate Dependent and Independent Variables\n",
    "x=ad_data[[\"Gender\",\"Age\",\"EstimatedSalary\"]]  #Independent Variables\n",
    "y=ad_data[\"Purchased\"]"
   ]
  },
  {
   "cell_type": "code",
   "execution_count": 10,
   "id": "45094156-bb10-42b1-bece-2eaf34677ba2",
   "metadata": {},
   "outputs": [
    {
     "name": "stdout",
     "output_type": "stream",
     "text": [
      "[[ 1.02020406 -1.78179743 -1.49004624]\n",
      " [ 1.02020406 -0.25358736 -1.46068138]\n",
      " [-0.98019606 -1.11320552 -0.78528968]\n",
      " ...\n",
      " [-0.98019606  1.17910958 -1.46068138]\n",
      " [ 1.02020406 -0.15807423 -1.07893824]\n",
      " [-0.98019606  1.08359645 -0.99084367]]\n"
     ]
    }
   ],
   "source": [
    "#Scaling Data (Due to imbalance)\n",
    "sc=StandardScaler()\n",
    "x=sc.fit_transform(x)\n",
    "print(x)"
   ]
  },
  {
   "cell_type": "code",
   "execution_count": 11,
   "id": "837d715a-c178-497b-aae5-c9ace15af156",
   "metadata": {},
   "outputs": [
    {
     "name": "stdout",
     "output_type": "stream",
     "text": [
      "(280, 3) (120, 3)\n",
      "(280,) (120,)\n"
     ]
    }
   ],
   "source": [
    "#Spliting Dataset into Train and Test sets (Bias-Variance Trade off)\n",
    "x_train,x_test,y_train,y_test=train_test_split(x,y,test_size=0.3,random_state=10)\n",
    "print(x_train.shape,x_test.shape)\n",
    "print(y_train.shape,y_test.shape)"
   ]
  },
  {
   "cell_type": "code",
   "execution_count": 12,
   "id": "56e7720a-a4b3-48fe-9165-73de700e83a8",
   "metadata": {},
   "outputs": [
    {
     "data": {
      "image/png": "[encoded data removed]",
      "text/plain": [
       "<Figure size 500x400 with 1 Axes>"
      ]
     },
     "metadata": {},
     "output_type": "display_data"
    }
   ],
   "source": [
    "plt.figure(figsize=(5,4))\n",
    "plt.scatter(ad_data[\"EstimatedSalary\"],ad_data[\"Purchased\"])\n",
    "plt.xlabel(\"Estimated Salary\")\n",
    "plt.ylabel(\"Purchase History\")\n",
    "plt.show()"
   ]
  },
  {
   "cell_type": "markdown",
   "id": "979372da-14b4-405c-9b59-395fb2a619c7",
   "metadata": {},
   "source": [
    "## End of Data Preprocessing"
   ]
  },
  {
   "cell_type": "code",
   "execution_count": 14,
   "id": "184008a7-d044-4b9a-a058-b5dd9a997d59",
   "metadata": {},
   "outputs": [
    {
     "data": {
      "text/html": [
       "<style>#sk-container-id-1 {color: black;}#sk-container-id-1 pre{padding: 0;}#sk-container-id-1 div.sk-toggleable {background-color: white;}#sk-container-id-1 label.sk-toggleable__label {cursor: pointer;display: block;width: 100%;margin-bottom: 0;padding: 0.3em;box-sizing: border-box;text-align: center;}#sk-container-id-1 label.sk-toggleable__label-arrow:before {content: \"▸\";float: left;margin-right: 0.25em;color: #696969;}#sk-container-id-1 label.sk-toggleable__label-arrow:hover:before {color: black;}#sk-container-id-1 div.sk-estimator:hover label.sk-toggleable__label-arrow:before {color: black;}#sk-container-id-1 div.sk-toggleable__content {max-height: 0;max-width: 0;overflow: hidden;text-align: left;background-color: #f0f8ff;}#sk-container-id-1 div.sk-toggleable__content pre {margin: 0.2em;color: black;border-radius: 0.25em;background-color: #f0f8ff;}#sk-container-id-1 input.sk-toggleable__control:checked~div.sk-toggleable__content {max-height: 200px;max-width: 100%;overflow: auto;}#sk-container-id-1 input.sk-toggleable__control:checked~label.sk-toggleable__label-arrow:before {content: \"▾\";}#sk-container-id-1 div.sk-estimator input.sk-toggleable__control:checked~label.sk-toggleable__label {background-color: #d4ebff;}#sk-container-id-1 div.sk-label input.sk-toggleable__control:checked~label.sk-toggleable__label {background-color: #d4ebff;}#sk-container-id-1 input.sk-hidden--visually {border: 0;clip: rect(1px 1px 1px 1px);clip: rect(1px, 1px, 1px, 1px);height: 1px;margin: -1px;overflow: hidden;padding: 0;position: absolute;width: 1px;}#sk-container-id-1 div.sk-estimator {font-family: monospace;background-color: #f0f8ff;border: 1px dotted black;border-radius: 0.25em;box-sizing: border-box;margin-bottom: 0.5em;}#sk-container-id-1 div.sk-estimator:hover {background-color: #d4ebff;}#sk-container-id-1 div.sk-parallel-item::after {content: \"\";width: 100%;border-bottom: 1px solid gray;flex-grow: 1;}#sk-container-id-1 div.sk-label:hover label.sk-toggleable__label {background-color: #d4ebff;}#sk-container-id-1 div.sk-serial::before {content: \"\";position: absolute;border-left: 1px solid gray;box-sizing: border-box;top: 0;bottom: 0;left: 50%;z-index: 0;}#sk-container-id-1 div.sk-serial {display: flex;flex-direction: column;align-items: center;background-color: white;padding-right: 0.2em;padding-left: 0.2em;position: relative;}#sk-container-id-1 div.sk-item {position: relative;z-index: 1;}#sk-container-id-1 div.sk-parallel {display: flex;align-items: stretch;justify-content: center;background-color: white;position: relative;}#sk-container-id-1 div.sk-item::before, #sk-container-id-1 div.sk-parallel-item::before {content: \"\";position: absolute;border-left: 1px solid gray;box-sizing: border-box;top: 0;bottom: 0;left: 50%;z-index: -1;}#sk-container-id-1 div.sk-parallel-item {display: flex;flex-direction: column;z-index: 1;position: relative;background-color: white;}#sk-container-id-1 div.sk-parallel-item:first-child::after {align-self: flex-end;width: 50%;}#sk-container-id-1 div.sk-parallel-item:last-child::after {align-self: flex-start;width: 50%;}#sk-container-id-1 div.sk-parallel-item:only-child::after {width: 0;}#sk-container-id-1 div.sk-dashed-wrapped {border: 1px dashed gray;margin: 0 0.4em 0.5em 0.4em;box-sizing: border-box;padding-bottom: 0.4em;background-color: white;}#sk-container-id-1 div.sk-label label {font-family: monospace;font-weight: bold;display: inline-block;line-height: 1.2em;}#sk-container-id-1 div.sk-label-container {text-align: center;}#sk-container-id-1 div.sk-container {/* jupyter's `normalize.less` sets `[hidden] { display: none; }` but bootstrap.min.css set `[hidden] { display: none !important; }` so we also need the `!important` here to be able to override the default hidden behavior on the sphinx rendered scikit-learn.org. See: https://github.com/scikit-learn/scikit-learn/issues/21755 */display: inline-block !important;position: relative;}#sk-container-id-1 div.sk-text-repr-fallback {display: none;}</style><div id=\"sk-container-id-1\" class=\"sk-top-container\"><div class=\"sk-text-repr-fallback\"><pre>LogisticRegression()</pre><b>In a Jupyter environment, please rerun this cell to show the HTML representation or trust the notebook. <br />On GitHub, the HTML representation is unable to render, please try loading this page with nbviewer.org.</b></div><div class=\"sk-container\" hidden><div class=\"sk-item\"><div class=\"sk-estimator sk-toggleable\"><input class=\"sk-toggleable__control sk-hidden--visually\" id=\"sk-estimator-id-1\" type=\"checkbox\" checked><label for=\"sk-estimator-id-1\" class=\"sk-toggleable__label sk-toggleable__label-arrow\">LogisticRegression</label><div class=\"sk-toggleable__content\"><pre>LogisticRegression()</pre></div></div></div></div></div>"
      ],
      "text/plain": [
       "LogisticRegression()"
      ]
     },
     "execution_count": 14,
     "metadata": {},
     "output_type": "execute_result"
    }
   ],
   "source": [
    "#Train the Model-Logistic Regression\n",
    "lr=LogisticRegression()\n",
    "lr.fit(x_train,y_train)"
   ]
  },
  {
   "cell_type": "code",
   "execution_count": 21,
   "id": "0e07c9a4-baaf-4c7f-af99-f6f915f813bc",
   "metadata": {},
   "outputs": [
    {
     "name": "stdout",
     "output_type": "stream",
     "text": [
      "[1 0 1 0 0 0 1 0 0 1 0 0 0 0 0 1 0 0 1 0 0 1 0 1 0 1 0 0 0 1 0 0 0 0 1 1 1\n",
      " 0 1 1 0 1 1 0 0 0 0 1 0 0 0 1 0 0 0 0 1 0 0 0 0 0 1 0 0 0 0 0 1 1 0 1 1 1\n",
      " 0 0 1 0 0 0 0 1 1 0 0 0 0 0 0 0 0 0 0 0 0 0 0 1 0 0 0 1 0 0 0 0 1 0 0 0 1\n",
      " 0 1 0 1 0 0 1 1 0 1 0 0 0 0 1 0 0 0 1 0 1 1 1 0 0 0 0 1 0 0 1 0 0 1 1 0 0\n",
      " 1 0 0 0 0 0 1 0 0 0 0 0 1 1 0 0 0 1 0 0 1 1 0 0 1 1 0 0 0 1 0 0 0 0 0 1 0\n",
      " 0 0 0 0 1 0 0 1 0 0 0 1 0 0 1 1 1 0 0 0 1 0 0 0 0 1 1 0 1 0 0 0 0 0 0 1 0\n",
      " 0 0 1 0 0 0 0 1 0 1 0 0 1 0 0 1 1 1 0 1 0 0 0 0 0 0 0 1 0 0 1 0 0 1 0 0 0\n",
      " 0 1 1 0 1 1 0 1 0 0 0 0 0 0 1 0 1 1 0 0 1]\n"
     ]
    }
   ],
   "source": [
    "y_pred=lr.predict(x_train) #prediction on known data\n",
    "print(y_pred)"
   ]
  },
  {
   "cell_type": "code",
   "execution_count": 22,
   "id": "99bc84f3-429c-4fea-b407-8e06c08fc2c9",
   "metadata": {},
   "outputs": [
    {
     "name": "stdout",
     "output_type": "stream",
     "text": [
      "[[160  14]\n",
      " [ 31  75]]\n"
     ]
    }
   ],
   "source": [
    "print(metrics.confusion_matrix(y_train,y_pred))"
   ]
  },
  {
   "cell_type": "code",
   "execution_count": 17,
   "id": "bc62f85b-29c7-43bf-a7ef-16075dfa1947",
   "metadata": {},
   "outputs": [
    {
     "name": "stdout",
     "output_type": "stream",
     "text": [
      "Accuracy on known Data: 0.8392857142857143\n"
     ]
    }
   ],
   "source": [
    "print(\"Accuracy on known Data:\",metrics.accuracy_score(y_train,y_pred))"
   ]
  },
  {
   "cell_type": "code",
   "execution_count": 23,
   "id": "48f1aec6-e7ed-4a89-ae06-5b1fd78556de",
   "metadata": {},
   "outputs": [
    {
     "name": "stdout",
     "output_type": "stream",
     "text": [
      "[0 0 1 1 0 1 0 1 0 0 0 0 1 1 0 0 0 0 0 1 0 0 0 1 1 0 0 1 1 0 0 0 0 1 1 0 1\n",
      " 1 0 0 0 0 0 0 0 0 1 0 0 0 0 1 1 0 0 0 1 0 1 1 0 1 0 1 1 1 0 1 0 0 0 1 0 0\n",
      " 0 0 0 0 1 0 0 0 0 0 0 0 0 0 0 0 1 0 0 1 0 0 1 0 0 0 0 0 0 1 1 0 0 0 1 0 0\n",
      " 1 0 0 1 0 0 1 0 1]\n"
     ]
    }
   ],
   "source": [
    "#predictions on unknown data\n",
    "y_pred=lr.predict(x_test)\n",
    "print(y_pred)"
   ]
  },
  {
   "cell_type": "code",
   "execution_count": 24,
   "id": "0f0dcf26-e977-485c-a08e-48bcafa3e377",
   "metadata": {},
   "outputs": [
    {
     "name": "stdout",
     "output_type": "stream",
     "text": [
      "Accuracy on unknown Data: 0.875\n"
     ]
    }
   ],
   "source": [
    "print(\"Accuracy on unknown Data:\",metrics.accuracy_score(y_test,y_pred))"
   ]
  },
  {
   "cell_type": "code",
   "execution_count": 25,
   "id": "8f35ef5d-72aa-4387-8245-c537391d8eeb",
   "metadata": {},
   "outputs": [
    {
     "name": "stdout",
     "output_type": "stream",
     "text": [
      "[[75  8]\n",
      " [ 7 30]]\n"
     ]
    }
   ],
   "source": [
    "print(metrics.confusion_matrix(y_test,y_pred))"
   ]
  },
  {
   "cell_type": "code",
   "execution_count": 27,
   "id": "7bf0209a-73b7-4599-95ad-9067525fb9ba",
   "metadata": {},
   "outputs": [
    {
     "name": "stdout",
     "output_type": "stream",
     "text": [
      "Precision: 0.7894736842105263\n",
      "Recall: 0.8108108108108109\n"
     ]
    }
   ],
   "source": [
    "#Calculate Precision and Recall\n",
    "print(\"Precision:\",metrics.precision_score(y_test,y_pred))\n",
    "print(\"Recall:\",metrics.recall_score(y_test,y_pred))"
   ]
  },
  {
   "cell_type": "code",
   "execution_count": 28,
   "id": "2f7cba36-9a84-49de-802e-32e734696528",
   "metadata": {},
   "outputs": [
    {
     "name": "stdout",
     "output_type": "stream",
     "text": [
      "              precision    recall  f1-score   support\n",
      "\n",
      "           0       0.91      0.90      0.91        83\n",
      "           1       0.79      0.81      0.80        37\n",
      "\n",
      "    accuracy                           0.88       120\n",
      "   macro avg       0.85      0.86      0.85       120\n",
      "weighted avg       0.88      0.88      0.88       120\n",
      "\n"
     ]
    }
   ],
   "source": [
    "print(metrics.classification_report(y_test,y_pred))"
   ]
  },
  {
   "cell_type": "code",
   "execution_count": null,
   "id": "ddbc1e73-19de-4195-a2b1-4c5db83b1fae",
   "metadata": {},
   "outputs": [],
   "source": []
  }
 ],
 "metadata": {
  "kernelspec": {
   "display_name": "Python 3 (ipykernel)",
   "language": "python",
   "name": "python3"
  },
  "language_info": {
   "codemirror_mode": {
    "name": "ipython",
    "version": 3
   },
   "file_extension": ".py",
   "mimetype": "text/x-python",
   "name": "python",
   "nbconvert_exporter": "python",
   "pygments_lexer": "ipython3",
   "version": "3.12.1"
  }
 },
 "nbformat": 4,
 "nbformat_minor": 5
}

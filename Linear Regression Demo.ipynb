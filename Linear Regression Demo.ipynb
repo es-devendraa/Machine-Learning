{
 "cells": [
  {
   "cell_type": "markdown",
   "id": "4db6154f-a821-473f-ad72-3ee4e8ec20ff",
   "metadata": {},
   "source": [
    "Problem Statement:\n",
    "Given the dataset set of advertising Predict sales based on TV ads"
   ]
  },
  {
   "cell_type": "code",
   "execution_count": 1,
   "id": "2b12095c-cdd8-44bb-afed-d16165197df1",
   "metadata": {},
   "outputs": [],
   "source": [
    "#importing Libraries\n",
    "import numpy as np\n",
    "import pandas as pd\n",
    "import matplotlib.pyplot as plt\n",
    "from sklearn.linear_model import LinearRegression"
   ]
  },
  {
   "cell_type": "code",
   "execution_count": 2,
   "id": "c6b72542-3d94-4c24-a544-a3e15ece7d4d",
   "metadata": {},
   "outputs": [
    {
     "name": "stdout",
     "output_type": "stream",
     "text": [
      "   Unnamed: 0     TV  radio  newspaper  sales\n",
      "0           1  230.1   37.8       69.2   22.1\n",
      "1           2   44.5   39.3       45.1   10.4\n",
      "2           3   17.2   45.9       69.3    9.3\n",
      "3           4  151.5   41.3       58.5   18.5\n",
      "4           5  180.8   10.8       58.4   12.9\n"
     ]
    }
   ],
   "source": [
    "#Reading Data\n",
    "data=pd.read_csv(\"Advertising.csv\")\n",
    "print(data.head())"
   ]
  },
  {
   "cell_type": "code",
   "execution_count": 3,
   "id": "d26be01a-8093-4260-8911-3bf9b6d45bf1",
   "metadata": {},
   "outputs": [
    {
     "data": {
      "image/png": "[encoded data removed]",
      "text/plain": [
       "<Figure size 640x480 with 1 Axes>"
      ]
     },
     "metadata": {},
     "output_type": "display_data"
    }
   ],
   "source": [
    "#Checking Linear Relationship\n",
    "plt.figure()\n",
    "plt.scatter(data[\"TV\"],data[\"sales\"])\n",
    "plt.xlabel(\"TV Ads Exp\")\n",
    "plt.ylabel(\"Sales\")\n",
    "plt.show()"
   ]
  },
  {
   "cell_type": "code",
   "execution_count": 4,
   "id": "4a3f6f69-04cd-46f4-867a-c1321a585493",
   "metadata": {},
   "outputs": [],
   "source": [
    "#Segregating Independent variable(s) and Dependent Variable\n",
    "x=data['TV'].values.reshape(-1,1)  #Independent variable\n",
    "y=data[\"sales\"].values.reshape(-1,1)  #dependent variable"
   ]
  },
  {
   "cell_type": "code",
   "execution_count": 6,
   "id": "b9b9475d-f210-4f9e-950c-f7022bb34971",
   "metadata": {},
   "outputs": [
    {
     "name": "stdout",
     "output_type": "stream",
     "text": [
      "<class 'numpy.ndarray'>\n"
     ]
    }
   ],
   "source": [
    "#print(x)\n",
    "print(type(x))"
   ]
  },
  {
   "cell_type": "code",
   "execution_count": 7,
   "id": "95526b4d-bf33-4f5e-87f9-4088b5370b8f",
   "metadata": {},
   "outputs": [
    {
     "data": {
      "text/html": [
       "<style>#sk-container-id-1 {color: black;}#sk-container-id-1 pre{padding: 0;}#sk-container-id-1 div.sk-toggleable {background-color: white;}#sk-container-id-1 label.sk-toggleable__label {cursor: pointer;display: block;width: 100%;margin-bottom: 0;padding: 0.3em;box-sizing: border-box;text-align: center;}#sk-container-id-1 label.sk-toggleable__label-arrow:before {content: \"▸\";float: left;margin-right: 0.25em;color: #696969;}#sk-container-id-1 label.sk-toggleable__label-arrow:hover:before {color: black;}#sk-container-id-1 div.sk-estimator:hover label.sk-toggleable__label-arrow:before {color: black;}#sk-container-id-1 div.sk-toggleable__content {max-height: 0;max-width: 0;overflow: hidden;text-align: left;background-color: #f0f8ff;}#sk-container-id-1 div.sk-toggleable__content pre {margin: 0.2em;color: black;border-radius: 0.25em;background-color: #f0f8ff;}#sk-container-id-1 input.sk-toggleable__control:checked~div.sk-toggleable__content {max-height: 200px;max-width: 100%;overflow: auto;}#sk-container-id-1 input.sk-toggleable__control:checked~label.sk-toggleable__label-arrow:before {content: \"▾\";}#sk-container-id-1 div.sk-estimator input.sk-toggleable__control:checked~label.sk-toggleable__label {background-color: #d4ebff;}#sk-container-id-1 div.sk-label input.sk-toggleable__control:checked~label.sk-toggleable__label {background-color: #d4ebff;}#sk-container-id-1 input.sk-hidden--visually {border: 0;clip: rect(1px 1px 1px 1px);clip: rect(1px, 1px, 1px, 1px);height: 1px;margin: -1px;overflow: hidden;padding: 0;position: absolute;width: 1px;}#sk-container-id-1 div.sk-estimator {font-family: monospace;background-color: #f0f8ff;border: 1px dotted black;border-radius: 0.25em;box-sizing: border-box;margin-bottom: 0.5em;}#sk-container-id-1 div.sk-estimator:hover {background-color: #d4ebff;}#sk-container-id-1 div.sk-parallel-item::after {content: \"\";width: 100%;border-bottom: 1px solid gray;flex-grow: 1;}#sk-container-id-1 div.sk-label:hover label.sk-toggleable__label {background-color: #d4ebff;}#sk-container-id-1 div.sk-serial::before {content: \"\";position: absolute;border-left: 1px solid gray;box-sizing: border-box;top: 0;bottom: 0;left: 50%;z-index: 0;}#sk-container-id-1 div.sk-serial {display: flex;flex-direction: column;align-items: center;background-color: white;padding-right: 0.2em;padding-left: 0.2em;position: relative;}#sk-container-id-1 div.sk-item {position: relative;z-index: 1;}#sk-container-id-1 div.sk-parallel {display: flex;align-items: stretch;justify-content: center;background-color: white;position: relative;}#sk-container-id-1 div.sk-item::before, #sk-container-id-1 div.sk-parallel-item::before {content: \"\";position: absolute;border-left: 1px solid gray;box-sizing: border-box;top: 0;bottom: 0;left: 50%;z-index: -1;}#sk-container-id-1 div.sk-parallel-item {display: flex;flex-direction: column;z-index: 1;position: relative;background-color: white;}#sk-container-id-1 div.sk-parallel-item:first-child::after {align-self: flex-end;width: 50%;}#sk-container-id-1 div.sk-parallel-item:last-child::after {align-self: flex-start;width: 50%;}#sk-container-id-1 div.sk-parallel-item:only-child::after {width: 0;}#sk-container-id-1 div.sk-dashed-wrapped {border: 1px dashed gray;margin: 0 0.4em 0.5em 0.4em;box-sizing: border-box;padding-bottom: 0.4em;background-color: white;}#sk-container-id-1 div.sk-label label {font-family: monospace;font-weight: bold;display: inline-block;line-height: 1.2em;}#sk-container-id-1 div.sk-label-container {text-align: center;}#sk-container-id-1 div.sk-container {/* jupyter's `normalize.less` sets `[hidden] { display: none; }` but bootstrap.min.css set `[hidden] { display: none !important; }` so we also need the `!important` here to be able to override the default hidden behavior on the sphinx rendered scikit-learn.org. See: https://github.com/scikit-learn/scikit-learn/issues/21755 */display: inline-block !important;position: relative;}#sk-container-id-1 div.sk-text-repr-fallback {display: none;}</style><div id=\"sk-container-id-1\" class=\"sk-top-container\"><div class=\"sk-text-repr-fallback\"><pre>LinearRegression()</pre><b>In a Jupyter environment, please rerun this cell to show the HTML representation or trust the notebook. <br />On GitHub, the HTML representation is unable to render, please try loading this page with nbviewer.org.</b></div><div class=\"sk-container\" hidden><div class=\"sk-item\"><div class=\"sk-estimator sk-toggleable\"><input class=\"sk-toggleable__control sk-hidden--visually\" id=\"sk-estimator-id-1\" type=\"checkbox\" checked><label for=\"sk-estimator-id-1\" class=\"sk-toggleable__label sk-toggleable__label-arrow\">LinearRegression</label><div class=\"sk-toggleable__content\"><pre>LinearRegression()</pre></div></div></div></div></div>"
      ],
      "text/plain": [
       "LinearRegression()"
      ]
     },
     "execution_count": 7,
     "metadata": {},
     "output_type": "execute_result"
    }
   ],
   "source": [
    "#Training Algorithm\n",
    "lr=LinearRegression()\n",
    "lr.fit(x,y)"
   ]
  },
  {
   "cell_type": "code",
   "execution_count": 8,
   "id": "6f784be0-814c-4a5d-8346-1885479341fc",
   "metadata": {},
   "outputs": [
    {
     "name": "stdout",
     "output_type": "stream",
     "text": [
      "[[17.97077451]\n",
      " [ 9.14797405]\n",
      " [ 7.85022376]\n",
      " [14.23439457]\n",
      " [15.62721814]\n",
      " [ 7.44616232]\n",
      " [ 9.76595037]\n",
      " [12.74649773]\n",
      " [ 7.44140866]\n",
      " [16.53041431]\n",
      " [10.17476548]\n",
      " [17.23871025]\n",
      " [ 8.16396559]\n",
      " [11.66741599]\n",
      " [16.73482186]\n",
      " [16.32125309]\n",
      " [10.25557777]\n",
      " [20.40940417]\n",
      " [10.32212907]\n",
      " [14.03474068]\n",
      " [17.41459582]\n",
      " [18.31779199]\n",
      " [ 7.6600772 ]\n",
      " [17.88520856]\n",
      " [ 9.99412625]\n",
      " [19.52997632]\n",
      " [13.82557947]\n",
      " [18.44614092]\n",
      " [18.85970969]\n",
      " [10.38868036]\n",
      " [20.95607553]\n",
      " [12.39948025]\n",
      " [11.653155  ]\n",
      " [19.65832525]\n",
      " [11.58185004]\n",
      " [20.85149492]\n",
      " [19.72012288]\n",
      " [10.58358059]\n",
      " [ 9.08142275]\n",
      " [17.87094757]\n",
      " [16.65876324]\n",
      " [15.44657891]\n",
      " [20.98935118]\n",
      " [16.86792445]\n",
      " [ 8.22576322]\n",
      " [15.35625929]\n",
      " [11.2966302 ]\n",
      " [18.43663359]\n",
      " [17.83291826]\n",
      " [10.21279479]\n",
      " [16.53041431]\n",
      " [11.80527225]\n",
      " [17.31952254]\n",
      " [15.71278409]\n",
      " [19.52046899]\n",
      " [16.48763133]\n",
      " [ 7.37961102]\n",
      " [13.50708398]\n",
      " [17.05331735]\n",
      " [17.04856369]\n",
      " [ 9.57580381]\n",
      " [19.45391769]\n",
      " [18.4081116 ]\n",
      " [11.91460652]\n",
      " [13.26464711]\n",
      " [10.31262174]\n",
      " [ 8.52999772]\n",
      " [13.65444756]\n",
      " [18.31779199]\n",
      " [17.3385372 ]\n",
      " [16.49713866]\n",
      " [12.25211667]\n",
      " [ 8.30657551]\n",
      " [13.18383482]\n",
      " [17.17691262]\n",
      " [ 7.83596277]\n",
      " [ 8.33985116]\n",
      " [12.76075872]\n",
      " [ 7.28929141]\n",
      " [12.54684384]\n",
      " [10.66439288]\n",
      " [18.43187992]\n",
      " [10.61210257]\n",
      " [10.28409975]\n",
      " [17.18166628]\n",
      " [16.21667248]\n",
      " [10.65963921]\n",
      " [12.29489965]\n",
      " [11.2300789 ]\n",
      " [12.25211667]\n",
      " [13.41676436]\n",
      " [ 8.39214147]\n",
      " [17.38132017]\n",
      " [18.95953663]\n",
      " [12.13802873]\n",
      " [14.79532693]\n",
      " [16.4258337 ]\n",
      " [15.82211837]\n",
      " [20.80395828]\n",
      " [13.45954734]\n",
      " [17.60474238]\n",
      " [21.12245377]\n",
      " [20.3523602 ]\n",
      " [15.96472829]\n",
      " [18.3558213 ]\n",
      " [13.58789626]\n",
      " [ 8.22100956]\n",
      " [11.32990584]\n",
      " [ 7.65532354]\n",
      " [19.17345152]\n",
      " [17.76636696]\n",
      " [18.52219954]\n",
      " [15.38478127]\n",
      " [16.99627338]\n",
      " [10.74995883]\n",
      " [10.60259525]\n",
      " [13.6496939 ]\n",
      " [10.66439288]\n",
      " [13.00794925]\n",
      " [ 7.95480437]\n",
      " [13.74952084]\n",
      " [ 7.92628239]\n",
      " [17.68080101]\n",
      " [12.88435399]\n",
      " [17.94225253]\n",
      " [11.17778859]\n",
      " [ 7.40337934]\n",
      " [10.84503211]\n",
      " [17.50491544]\n",
      " [ 9.86577732]\n",
      " [ 7.0658692 ]\n",
      " [19.63931059]\n",
      " [ 7.43190133]\n",
      " [17.48114712]\n",
      " [ 8.78669558]\n",
      " [ 9.32861328]\n",
      " [ 8.24953154]\n",
      " [20.04337204]\n",
      " [ 9.07666909]\n",
      " [15.82211837]\n",
      " [10.52178296]\n",
      " [16.2404408 ]\n",
      " [17.51442276]\n",
      " [12.00492614]\n",
      " [11.60561836]\n",
      " [13.7019842 ]\n",
      " [18.44614092]\n",
      " [18.5935045 ]\n",
      " [ 8.83898589]\n",
      " [ 9.15748138]\n",
      " [20.37612852]\n",
      " [12.78452704]\n",
      " [16.4258337 ]\n",
      " [15.17562006]\n",
      " [15.95997462]\n",
      " [ 7.22749377]\n",
      " [11.49628409]\n",
      " [14.15358229]\n",
      " [ 7.58877224]\n",
      " [13.29316909]\n",
      " [15.23266402]\n",
      " [11.10648363]\n",
      " [15.98849661]\n",
      " [14.80483426]\n",
      " [12.60388781]\n",
      " [18.17993573]\n",
      " [ 7.88349941]\n",
      " [16.86317079]\n",
      " [17.2719859 ]\n",
      " [20.54726042]\n",
      " [ 9.40942557]\n",
      " [14.8523709 ]\n",
      " [ 7.9643117 ]\n",
      " [15.0377638 ]\n",
      " [17.60474238]\n",
      " [20.19548929]\n",
      " [18.84069503]\n",
      " [15.12332975]\n",
      " [20.18598196]\n",
      " [14.9046612 ]\n",
      " [14.47683144]\n",
      " [17.41934948]\n",
      " [ 9.70415274]\n",
      " [20.70413134]\n",
      " [19.09739289]\n",
      " [16.77760484]\n",
      " [13.66395489]\n",
      " [16.11684554]\n",
      " [20.62807271]\n",
      " [ 7.92152873]\n",
      " [ 8.91029085]\n",
      " [10.6216099 ]\n",
      " [ 7.85022376]\n",
      " [14.96170517]\n",
      " [14.14882862]\n",
      " [ 8.84849321]\n",
      " [11.51054508]\n",
      " [15.44657891]\n",
      " [20.51398478]\n",
      " [18.06584779]]\n"
     ]
    }
   ],
   "source": [
    "#Predictions from trained model\n",
    "y_pred=lr.predict(x)\n",
    "print(y_pred)"
   ]
  },
  {
   "cell_type": "code",
   "execution_count": 9,
   "id": "fa45d4a5-4f4d-4ac9-b0a5-7d06257f9ba8",
   "metadata": {},
   "outputs": [
    {
     "data": {
      "image/png": "[encoded data removed]",
      "text/plain": [
       "<Figure size 640x480 with 1 Axes>"
      ]
     },
     "metadata": {},
     "output_type": "display_data"
    }
   ],
   "source": [
    "#Showing Line\n",
    "plt.figure()\n",
    "plt.scatter(data[\"TV\"],data[\"sales\"])\n",
    "plt.plot(data[\"TV\"],y_pred,color='red')\n",
    "plt.xlabel(\"TV Ads Exp\")\n",
    "plt.ylabel(\"Sales\")\n",
    "plt.show()"
   ]
  },
  {
   "cell_type": "code",
   "execution_count": 15,
   "id": "dfaf6a96-53b2-4c6d-9503-d24470258849",
   "metadata": {},
   "outputs": [
    {
     "name": "stdout",
     "output_type": "stream",
     "text": [
      "Intercept: [7.03259355]\n",
      "Slope: [[0.04753664]]\n"
     ]
    }
   ],
   "source": [
    "#Coeficients\n",
    "print(\"Intercept:\",lr.intercept_)\n",
    "print(\"Slope:\",lr.coef_)"
   ]
  },
  {
   "cell_type": "code",
   "execution_count": 12,
   "id": "e09f82d7-3cf6-4529-afa1-ca00917d91c8",
   "metadata": {},
   "outputs": [
    {
     "name": "stdout",
     "output_type": "stream",
     "text": [
      "Mean Squared Error(MSE) 10.512652915656757\n",
      "Root Mean Squared Error(RMSE) 3.2423221486546887\n",
      "Mean Absolute Error(MAE) 2.549806038927486\n"
     ]
    }
   ],
   "source": [
    "#Calculating error\n",
    "from sklearn import metrics\n",
    "import math\n",
    "print(\"Mean Squared Error(MSE)\",metrics.mean_squared_error(y_pred,y))\n",
    "print(\"Root Mean Squared Error(RMSE)\",math.sqrt(metrics.mean_squared_error(y_pred,y)))\n",
    "print(\"Mean Absolute Error(MAE)\",metrics.mean_absolute_error(y_pred,y))"
   ]
  },
  {
   "cell_type": "code",
   "execution_count": 13,
   "id": "4fcced8b-20b8-4b3f-9ef1-8c9cfb30fb6d",
   "metadata": {},
   "outputs": [
    {
     "name": "stdout",
     "output_type": "stream",
     "text": [
      "Accuracy: 96.7576778513453\n"
     ]
    }
   ],
   "source": [
    "#Calculations of Accuracy(Accuracy=100-Error)\n",
    "print(\"Accuracy:\",100-math.sqrt(metrics.mean_squared_error(y_pred,y)))"
   ]
  },
  {
   "cell_type": "code",
   "execution_count": null,
   "id": "24e357f3-ed25-4fd1-93f2-e5b826ac8586",
   "metadata": {},
   "outputs": [],
   "source": []
  }
 ],
 "metadata": {
  "kernelspec": {
   "display_name": "Python 3 (ipykernel)",
   "language": "python",
   "name": "python3"
  },
  "language_info": {
   "codemirror_mode": {
    "name": "ipython",
    "version": 3
   },
   "file_extension": ".py",
   "mimetype": "text/x-python",
   "name": "python",
   "nbconvert_exporter": "python",
   "pygments_lexer": "ipython3",
   "version": "3.12.1"
  }
 },
 "nbformat": 4,
 "nbformat_minor": 5
}

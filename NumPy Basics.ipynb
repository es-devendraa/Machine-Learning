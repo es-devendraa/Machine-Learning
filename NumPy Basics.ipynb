{
 "cells": [
  {
   "cell_type": "code",
   "execution_count": 1,
   "id": "ca42eb62-1bbf-4ae8-bd03-f9ab31866085",
   "metadata": {},
   "outputs": [],
   "source": [
    "#Create numpy array\n",
    "import numpy as np"
   ]
  },
  {
   "cell_type": "code",
   "execution_count": 5,
   "id": "6b0dc6ef-ce9a-4a1e-b494-56d0a099a5ea",
   "metadata": {},
   "outputs": [
    {
     "name": "stdout",
     "output_type": "stream",
     "text": [
      "<class 'numpy.ndarray'>\n",
      "<U11\n"
     ]
    }
   ],
   "source": [
    "#arr=np.array([34,56,78,90,23])\n",
    "arr=np.array([34,56,78,90,23])\n",
    "print(type(arr))\n",
    "print(arr.dtype)"
   ]
  },
  {
   "cell_type": "code",
   "execution_count": 11,
   "id": "fe7af21c-a93e-41c1-8b21-66243388f048",
   "metadata": {},
   "outputs": [
    {
     "name": "stdout",
     "output_type": "stream",
     "text": [
      "[10 11 12 13 14 15 16 17 18 19]\n"
     ]
    }
   ],
   "source": [
    "#Arange Function \n",
    "arr=np.arange(10,20)  #start,stop,step\n",
    "print(arr)"
   ]
  },
  {
   "cell_type": "code",
   "execution_count": 9,
   "id": "0b5d0a32-1642-4fd0-9202-aa33fc04f834",
   "metadata": {},
   "outputs": [
    {
     "name": "stdout",
     "output_type": "stream",
     "text": [
      "[10, 11, 12, 13, 14, 15, 16, 17, 18, 19, 20, 21, 22, 23, 24, 25, 26, 27, 28, 29, 30, 31, 32, 33, 34, 35, 36, 37, 38, 39, 40, 41, 42, 43, 44, 45, 46, 47, 48, 49]\n"
     ]
    }
   ],
   "source": [
    "lst=list(range(10,50))\n",
    "print(lst)"
   ]
  },
  {
   "cell_type": "code",
   "execution_count": 20,
   "id": "75957d52-afe2-45ae-b719-b4eb426bbd00",
   "metadata": {},
   "outputs": [
    {
     "name": "stdout",
     "output_type": "stream",
     "text": [
      "[1. 1. 1. 1. 1.]\n",
      "[0. 0. 0. 0. 0.]\n",
      "[1 1 1 1 1]\n",
      "No of Dimentions: 1\n"
     ]
    }
   ],
   "source": [
    "#Ones and zero\n",
    "arr=np.ones(5) #Default data type is float\n",
    "print(arr)\n",
    "arr=np.zeros(5)\n",
    "print(arr)\n",
    "arr=np.ones(5,dtype='int')\n",
    "print(arr)\n",
    "print(\"No of Dimentions:\",arr.ndim)"
   ]
  },
  {
   "cell_type": "code",
   "execution_count": 23,
   "id": "63595f17-e19b-46dd-a5d3-93cdf1532928",
   "metadata": {},
   "outputs": [
    {
     "name": "stdout",
     "output_type": "stream",
     "text": [
      "[[10 20 30]\n",
      " [40 50 60]\n",
      " [70 80 90]]\n",
      "No of Dimentions(axes): 2\n",
      "Shape: (3, 3)\n",
      "No of elements(size): 9\n",
      "Bytes: 4\n"
     ]
    }
   ],
   "source": [
    "#2D Array\n",
    "arr=np.array([[10,20,30],[40,50,60],[70,80,90]])\n",
    "print(arr)\n",
    "print(\"No of Dimentions(axes):\",arr.ndim)\n",
    "print(\"Shape:\",arr.shape)\n",
    "print(\"No of elements(size):\",arr.size)\n",
    "print(\"Bytes:\",arr.itemsize)"
   ]
  },
  {
   "cell_type": "code",
   "execution_count": 30,
   "id": "60e7b22e-474e-43f0-9bc6-a194e3e40e32",
   "metadata": {},
   "outputs": [
    {
     "name": "stdout",
     "output_type": "stream",
     "text": [
      "[[69.58081662 95.68021114 42.5908064  45.19863306]\n",
      " [56.10058339 35.39489923 57.7265116   0.8188289 ]\n",
      " [24.31517966 11.83855516 14.63966201 82.47878407]]\n"
     ]
    }
   ],
   "source": [
    "#Random Array\n",
    "arr=np.random.rand(3,4)\n",
    "print(arr*100)"
   ]
  },
  {
   "cell_type": "code",
   "execution_count": 37,
   "id": "306a616f-b891-4667-a5f6-288aa44aa677",
   "metadata": {},
   "outputs": [
    {
     "name": "stdout",
     "output_type": "stream",
     "text": [
      "[[1 2 3]\n",
      " [4 5 6]]\n",
      "[[10 11]\n",
      " [20 21]\n",
      " [30 31]]\n",
      "[[140 146]\n",
      " [320 335]]\n"
     ]
    }
   ],
   "source": [
    "#Array multiplication\n",
    "arr1=np.array([[1,2,3],[4,5,6]])\n",
    "arr2=np.array([[10,11],[20,21],[30,31]])\n",
    "print(arr1)\n",
    "print(arr2)\n",
    "arr=np.dot(arr1,arr2)\n",
    "print(arr)"
   ]
  },
  {
   "cell_type": "code",
   "execution_count": 35,
   "id": "c8227ad0-0268-4f0b-8bd9-44cccd2f83bc",
   "metadata": {},
   "outputs": [
    {
     "ename": "ValueError",
     "evalue": "operands could not be broadcast together with shapes (2,3) (3,2) ",
     "output_type": "error",
     "traceback": [
      "\u001b[1;31m---------------------------------------------------------------------------\u001b[0m",
      "\u001b[1;31mValueError\u001b[0m                                Traceback (most recent call last)",
      "Cell \u001b[1;32mIn[35], line 1\u001b[0m\n\u001b[1;32m----> 1\u001b[0m arr\u001b[38;5;241m=\u001b[39m\u001b[43marr1\u001b[49m\u001b[38;5;241;43m+\u001b[39;49m\u001b[43marr2\u001b[49m\n\u001b[0;32m      2\u001b[0m \u001b[38;5;28mprint\u001b[39m(arr)\n",
      "\u001b[1;31mValueError\u001b[0m: operands could not be broadcast together with shapes (2,3) (3,2) "
     ]
    }
   ],
   "source": [
    "arr=arr1+arr2\n",
    "print(arr)"
   ]
  },
  {
   "cell_type": "code",
   "execution_count": 47,
   "id": "e464b1c8-0c18-4fa1-bc2f-eee31be7fbb4",
   "metadata": {},
   "outputs": [
    {
     "name": "stdout",
     "output_type": "stream",
     "text": [
      "[420 280 350 269 317 470 333 365 305 350 460 474 409 377 415 382 298 462\n",
      " 370 313 464 302 252 259 308 392 424 403 370 328 398 434 291 472 263 439\n",
      " 464 449 401 364 296 292 438 357 331 317 429 407 321 274 447 274 437 411\n",
      " 257 310 396 270 311 459 378 316 283 266 381 409 313 306 448 348 292 400\n",
      " 352 441 428 309 441 439 264 281 302 432 423 336 383 321 469 270 341 281\n",
      " 403 333 323 348 345 397 449 261 456 370 322 379 446 404 301 254 351 444\n",
      " 264 286 463 273 316 324 465 398 324 340 414 346 408 332 394 474 398 262\n",
      " 410 391 444 461]\n"
     ]
    }
   ],
   "source": [
    "#Read(import) data   file--->nparray\n",
    "marks=np.loadtxt('C:\\\\Study\\\\Edureka Notebooks\\\\Module 05 Numpy\\\\marks.csv',delimiter=',',usecols=(5),skiprows=1,dtype='int')\n",
    "print(marks)"
   ]
  },
  {
   "cell_type": "code",
   "execution_count": 45,
   "id": "3e149575-f2b9-4c9e-af2a-e107f5263183",
   "metadata": {},
   "outputs": [
    {
     "name": "stdout",
     "output_type": "stream",
     "text": [
      "Sum: 47356\n",
      "Max marks:474,Min marks:252\n",
      "Average Marks: 364.28\n",
      "Standard Deviation: 66.17947803971762\n",
      "Variance: 4379.723313609467\n"
     ]
    }
   ],
   "source": [
    "#Aggregate functions in  numpy\n",
    "print(\"Sum:\",marks.sum())\n",
    "print(f\"Max marks:{marks.max()},Min marks:{marks.min()}\")\n",
    "print(\"Average Marks:\",round(marks.mean(),2))\n",
    "print(\"Standard Deviation:\",marks.std())\n",
    "print(\"Variance:\",marks.var())"
   ]
  },
  {
   "cell_type": "code",
   "execution_count": null,
   "id": "b0ef3213-a369-47ca-8fe4-e3039ccaaf93",
   "metadata": {},
   "outputs": [],
   "source": []
  }
 ],
 "metadata": {
  "kernelspec": {
   "display_name": "Python 3 (ipykernel)",
   "language": "python",
   "name": "python3"
  },
  "language_info": {
   "codemirror_mode": {
    "name": "ipython",
    "version": 3
   },
   "file_extension": ".py",
   "mimetype": "text/x-python",
   "name": "python",
   "nbconvert_exporter": "python",
   "pygments_lexer": "ipython3",
   "version": "3.12.2"
  }
 },
 "nbformat": 4,
 "nbformat_minor": 5
}

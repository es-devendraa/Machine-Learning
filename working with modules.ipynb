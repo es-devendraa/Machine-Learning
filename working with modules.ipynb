{
 "cells": [
  {
   "cell_type": "code",
   "execution_count": 3,
   "id": "5f2baaef-608b-4314-a9d1-6c471ee14b14",
   "metadata": {},
   "outputs": [
    {
     "name": "stdout",
     "output_type": "stream",
     "text": [
      "34\n",
      "35\n"
     ]
    }
   ],
   "source": [
    "import math\n",
    "print(math.floor(34.567))\n",
    "print(math.ceil(34.567))"
   ]
  },
  {
   "cell_type": "code",
   "execution_count": 4,
   "id": "41f32b16-cbdd-45f0-8306-b196dc35bfd2",
   "metadata": {},
   "outputs": [
    {
     "name": "stdout",
     "output_type": "stream",
     "text": [
      "7.0\n"
     ]
    }
   ],
   "source": [
    "from math import sqrt,factorial\n",
    "print(sqrt(49))"
   ]
  },
  {
   "cell_type": "code",
   "execution_count": 5,
   "id": "2c1f7dac-004f-4630-b8df-c0efe7afc46b",
   "metadata": {},
   "outputs": [
    {
     "name": "stdout",
     "output_type": "stream",
     "text": [
      "9.433981132056603\n"
     ]
    }
   ],
   "source": [
    "from math import sqrt as sq  #Alias\n",
    "print(sq(89))"
   ]
  },
  {
   "cell_type": "code",
   "execution_count": 11,
   "id": "2679c342-d1f2-4039-821f-fd1210b28827",
   "metadata": {},
   "outputs": [],
   "source": [
    "import numpy as np"
   ]
  },
  {
   "cell_type": "code",
   "execution_count": 7,
   "id": "6d0e11bf-3b5b-4a12-b4f1-d72358746443",
   "metadata": {},
   "outputs": [
    {
     "name": "stdout",
     "output_type": "stream",
     "text": [
      "Hello, Amit\n",
      "120\n"
     ]
    }
   ],
   "source": [
    "#User Defined modules\n",
    "import Mymodule as mm\n",
    "mm.greet(\"Amit\")\n",
    "print(mm.fact(5))"
   ]
  },
  {
   "cell_type": "code",
   "execution_count": 8,
   "id": "2e469c41-c6c7-4af3-bd3d-2c3ba28ddafa",
   "metadata": {},
   "outputs": [
    {
     "name": "stdout",
     "output_type": "stream",
     "text": [
      "C:\\Users\\hp\\SAIT\n"
     ]
    }
   ],
   "source": [
    "import os  #To get current working directory\n",
    "print(os.getcwd())"
   ]
  },
  {
   "cell_type": "code",
   "execution_count": 10,
   "id": "f3436bf2-149f-49b2-b9fb-8d8899d4e1f5",
   "metadata": {},
   "outputs": [
    {
     "name": "stdout",
     "output_type": "stream",
     "text": [
      "Requirement already satisfied: numpy in c:\\users\\hp\\appdata\\local\\programs\\python\\python312\\lib\\site-packages (1.26.4)Note: you may need to restart the kernel to use updated packages.\n",
      "\n"
     ]
    }
   ],
   "source": [
    "!pip install numpy"
   ]
  },
  {
   "cell_type": "code",
   "execution_count": null,
   "id": "55b8a17b-7de5-4a2f-90c6-a5dd15001e08",
   "metadata": {},
   "outputs": [],
   "source": []
  }
 ],
 "metadata": {
  "kernelspec": {
   "display_name": "Python 3 (ipykernel)",
   "language": "python",
   "name": "python3"
  },
  "language_info": {
   "codemirror_mode": {
    "name": "ipython",
    "version": 3
   },
   "file_extension": ".py",
   "mimetype": "text/x-python",
   "name": "python",
   "nbconvert_exporter": "python",
   "pygments_lexer": "ipython3",
   "version": "3.12.2"
  }
 },
 "nbformat": 4,
 "nbformat_minor": 5
}

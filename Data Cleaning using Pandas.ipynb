{
 "cells": [
  {
   "cell_type": "code",
   "execution_count": 39,
   "id": "8c748c4a-1258-47d4-b9ec-6b16262104fc",
   "metadata": {},
   "outputs": [
    {
     "data": {
      "text/html": [
       "<div>\n",
       "<style scoped>\n",
       "    .dataframe tbody tr th:only-of-type {\n",
       "        vertical-align: middle;\n",
       "    }\n",
       "\n",
       "    .dataframe tbody tr th {\n",
       "        vertical-align: top;\n",
       "    }\n",
       "\n",
       "    .dataframe thead th {\n",
       "        text-align: right;\n",
       "    }\n",
       "</style>\n",
       "<table border=\"1\" class=\"dataframe\">\n",
       "  <thead>\n",
       "    <tr style=\"text-align: right;\">\n",
       "      <th></th>\n",
       "      <th>Duration</th>\n",
       "      <th>Date</th>\n",
       "      <th>Pulse</th>\n",
       "      <th>Maxpulse</th>\n",
       "      <th>Calories</th>\n",
       "      <th>Gender</th>\n",
       "    </tr>\n",
       "  </thead>\n",
       "  <tbody>\n",
       "    <tr>\n",
       "      <th>0</th>\n",
       "      <td>60</td>\n",
       "      <td>'2020/12/01'</td>\n",
       "      <td>110</td>\n",
       "      <td>130</td>\n",
       "      <td>409.1</td>\n",
       "      <td>M</td>\n",
       "    </tr>\n",
       "    <tr>\n",
       "      <th>1</th>\n",
       "      <td>60</td>\n",
       "      <td>'2020/12/02'</td>\n",
       "      <td>117</td>\n",
       "      <td>145</td>\n",
       "      <td>479.0</td>\n",
       "      <td>F</td>\n",
       "    </tr>\n",
       "    <tr>\n",
       "      <th>2</th>\n",
       "      <td>60</td>\n",
       "      <td>'2020/12/03'</td>\n",
       "      <td>103</td>\n",
       "      <td>135</td>\n",
       "      <td>340.0</td>\n",
       "      <td>F</td>\n",
       "    </tr>\n",
       "    <tr>\n",
       "      <th>3</th>\n",
       "      <td>45</td>\n",
       "      <td>'2020/12/04'</td>\n",
       "      <td>109</td>\n",
       "      <td>175</td>\n",
       "      <td>282.4</td>\n",
       "      <td>F</td>\n",
       "    </tr>\n",
       "    <tr>\n",
       "      <th>4</th>\n",
       "      <td>45</td>\n",
       "      <td>'2020/12/05'</td>\n",
       "      <td>117</td>\n",
       "      <td>148</td>\n",
       "      <td>406.0</td>\n",
       "      <td>NaN</td>\n",
       "    </tr>\n",
       "  </tbody>\n",
       "</table>\n",
       "</div>"
      ],
      "text/plain": [
       "   Duration          Date  Pulse  Maxpulse  Calories Gender\n",
       "0        60  '2020/12/01'    110       130     409.1      M\n",
       "1        60  '2020/12/02'    117       145     479.0      F\n",
       "2        60  '2020/12/03'    103       135     340.0      F\n",
       "3        45  '2020/12/04'    109       175     282.4      F\n",
       "4        45  '2020/12/05'    117       148     406.0    NaN"
      ]
     },
     "execution_count": 39,
     "metadata": {},
     "output_type": "execute_result"
    }
   ],
   "source": [
    "#Reading Data\n",
    "import pandas as pd\n",
    "import numpy as np\n",
    "df=pd.read_csv('dirtydata.csv')\n",
    "df.head()"
   ]
  },
  {
   "cell_type": "code",
   "execution_count": 40,
   "id": "21b61b6f-79f7-4f76-91c0-a9e99d4ced5a",
   "metadata": {},
   "outputs": [],
   "source": [
    "#Cleaning/Wrangling Data\n",
    "    #1.Null(NaN) Values\n",
    "    #2.Duplicates\n",
    "    #3.Wrong Format of data\n",
    "    #4.Wrong Data"
   ]
  },
  {
   "cell_type": "code",
   "execution_count": 41,
   "id": "e70f2979-3915-4afc-a8dc-ed6d89e85475",
   "metadata": {},
   "outputs": [
    {
     "name": "stdout",
     "output_type": "stream",
     "text": [
      "<class 'pandas.core.frame.DataFrame'>\n",
      "RangeIndex: 36 entries, 0 to 35\n",
      "Data columns (total 6 columns):\n",
      " #   Column    Non-Null Count  Dtype  \n",
      "---  ------    --------------  -----  \n",
      " 0   Duration  36 non-null     int64  \n",
      " 1   Date      35 non-null     object \n",
      " 2   Pulse     36 non-null     int64  \n",
      " 3   Maxpulse  36 non-null     int64  \n",
      " 4   Calories  34 non-null     float64\n",
      " 5   Gender    31 non-null     object \n",
      "dtypes: float64(1), int64(3), object(2)\n",
      "memory usage: 1.8+ KB\n"
     ]
    }
   ],
   "source": [
    "#1.Null(NaN) Values\n",
    "df.info()"
   ]
  },
  {
   "cell_type": "code",
   "execution_count": 42,
   "id": "458c31ad-8253-434a-8dc7-2c81316c735f",
   "metadata": {},
   "outputs": [
    {
     "name": "stdout",
     "output_type": "stream",
     "text": [
      "Duration    0\n",
      "Date        1\n",
      "Pulse       0\n",
      "Maxpulse    0\n",
      "Calories    2\n",
      "Gender      5\n",
      "dtype: int64\n"
     ]
    }
   ],
   "source": [
    "print(df.isnull().sum())"
   ]
  },
  {
   "cell_type": "code",
   "execution_count": 43,
   "id": "0f8922ed-db0c-421e-a705-5bb59ce34216",
   "metadata": {},
   "outputs": [
    {
     "name": "stdout",
     "output_type": "stream",
     "text": [
      "    Duration          Date  Pulse  Maxpulse  Calories Gender\n",
      "0         60  '2020/12/01'    110       130     409.1      M\n",
      "1         60  '2020/12/02'    117       145     479.0      F\n",
      "2         60  '2020/12/03'    103       135     340.0      F\n",
      "3         45  '2020/12/04'    109       175     282.4      F\n",
      "4         45  '2020/12/05'    117       148     406.0    NaN\n",
      "5         60  '2020/12/06'    102       127     300.0      M\n",
      "6         60  '2020/12/06'    102       127     300.0      M\n",
      "7        450  '2020/12/08'    104       134     253.3      M\n",
      "8         30  '2020/12/09'    109       133     195.1    NaN\n",
      "9         60  '2020/12/06'    102       127     300.0      M\n",
      "10        60  '2020/12/10'     98       124     269.0      F\n",
      "11        60  '2020/12/11'    103       147     329.3      F\n",
      "12        60  '2020/12/12'    100       120     250.7      M\n",
      "13        60  '2020/12/12'    100       120     250.7      F\n",
      "14        60  '2020/12/13'    106       128     345.3      M\n",
      "15        60  '2020/12/12'    100       120     250.7      F\n",
      "16        60  '2020/12/14'    104       132     379.3      F\n",
      "17        60  '2020/12/15'     98       123     275.0      F\n",
      "18        60  '2020/12/16'     98       120     215.2      M\n",
      "19        60  '2020/12/17'    100       120     300.0      M\n",
      "20        45  '2020/12/18'     90       112       NaN      F\n",
      "21        60  '2020/12/19'    103       123     323.0      F\n",
      "22        45  '2020/12/20'     97       125     243.0      F\n",
      "23        60  '2020/12/21'    108       131     364.2      F\n",
      "24        45           NaN    100       119     282.0      M\n",
      "25        60  '2020/12/23'    130       101     300.0    NaN\n",
      "26        45  '2020/12/24'    105       132     246.0      M\n",
      "27        60  '2020/12/25'    102       126     334.5      M\n",
      "28        60      20201226    100       120     250.0      M\n",
      "29        60  '2020/12/27'     92       118     241.0      F\n",
      "30        60  '2020/12/28'    103       132       NaN    NaN\n",
      "31        60  '2020/12/29'    100       132     280.0      M\n",
      "32        60  '2020/12/30'    102       129     380.3      F\n",
      "33        60  '2020/12/31'     92       115     243.0      F\n",
      "34        60  '2020/12/30'    102       129     380.3      F\n",
      "35        60  '2020/12/27'     92       118     241.0    NaN\n",
      "(36, 6)\n"
     ]
    }
   ],
   "source": [
    "#To Fix Null Values: Remove,Replace:random value,central tendency\n",
    "print(df)\n",
    "print(df.shape)"
   ]
  },
  {
   "cell_type": "code",
   "execution_count": 44,
   "id": "1a68f305-9277-4b44-80b3-55e349b1e744",
   "metadata": {},
   "outputs": [
    {
     "name": "stdout",
     "output_type": "stream",
     "text": [
      "    Duration          Date  Pulse  Maxpulse  Calories Gender\n",
      "0         60  '2020/12/01'    110       130     409.1      M\n",
      "1         60  '2020/12/02'    117       145     479.0      F\n",
      "2         60  '2020/12/03'    103       135     340.0      F\n",
      "3         45  '2020/12/04'    109       175     282.4      F\n",
      "5         60  '2020/12/06'    102       127     300.0      M\n",
      "6         60  '2020/12/06'    102       127     300.0      M\n",
      "7        450  '2020/12/08'    104       134     253.3      M\n",
      "9         60  '2020/12/06'    102       127     300.0      M\n",
      "10        60  '2020/12/10'     98       124     269.0      F\n",
      "11        60  '2020/12/11'    103       147     329.3      F\n",
      "12        60  '2020/12/12'    100       120     250.7      M\n",
      "13        60  '2020/12/12'    100       120     250.7      F\n",
      "14        60  '2020/12/13'    106       128     345.3      M\n",
      "15        60  '2020/12/12'    100       120     250.7      F\n",
      "16        60  '2020/12/14'    104       132     379.3      F\n",
      "17        60  '2020/12/15'     98       123     275.0      F\n",
      "18        60  '2020/12/16'     98       120     215.2      M\n",
      "19        60  '2020/12/17'    100       120     300.0      M\n",
      "21        60  '2020/12/19'    103       123     323.0      F\n",
      "22        45  '2020/12/20'     97       125     243.0      F\n",
      "23        60  '2020/12/21'    108       131     364.2      F\n",
      "26        45  '2020/12/24'    105       132     246.0      M\n",
      "27        60  '2020/12/25'    102       126     334.5      M\n",
      "28        60      20201226    100       120     250.0      M\n",
      "29        60  '2020/12/27'     92       118     241.0      F\n",
      "31        60  '2020/12/29'    100       132     280.0      M\n",
      "32        60  '2020/12/30'    102       129     380.3      F\n",
      "33        60  '2020/12/31'     92       115     243.0      F\n",
      "34        60  '2020/12/30'    102       129     380.3      F\n",
      "(29, 6)\n"
     ]
    }
   ],
   "source": [
    "#Remove Null Values\n",
    "df_with_out_Null=df.dropna()\n",
    "print(df_with_out_Null)\n",
    "print(df_with_out_Null.shape)"
   ]
  },
  {
   "cell_type": "code",
   "execution_count": 45,
   "id": "d97bf7f6-510d-4171-8087-f1e39a130d11",
   "metadata": {},
   "outputs": [],
   "source": [
    "#Replace Null Values:Central Tendency:Mean,Mode\n",
    "#Continuous--->Mean(Avg)\n",
    "#Categorical--->Mode(most popular value)"
   ]
  },
  {
   "cell_type": "code",
   "execution_count": 46,
   "id": "a6297182-99b9-4256-b4ae-5e3bcc2d4880",
   "metadata": {},
   "outputs": [
    {
     "name": "stdout",
     "output_type": "stream",
     "text": [
      "         Duration       Pulse    Maxpulse    Calories\n",
      "count   36.000000   36.000000   36.000000   34.000000\n",
      "mean    67.500000  102.777778  127.694444  301.129412\n",
      "std     65.970773    7.544577   12.358501   63.683819\n",
      "min     30.000000   90.000000  101.000000  195.100000\n",
      "25%     60.000000  100.000000  120.000000  250.700000\n",
      "50%     60.000000  102.000000  127.000000  291.200000\n",
      "75%     60.000000  104.250000  132.000000  338.625000\n",
      "max    450.000000  130.000000  175.000000  479.000000\n"
     ]
    }
   ],
   "source": [
    "print(df.describe())"
   ]
  },
  {
   "cell_type": "code",
   "execution_count": 47,
   "id": "2c386820-374a-40de-8161-7c5bb46b64fe",
   "metadata": {},
   "outputs": [
    {
     "name": "stdout",
     "output_type": "stream",
     "text": [
      "                Date Gender\n",
      "count             35     31\n",
      "unique            29      2\n",
      "top     '2020/12/06'      F\n",
      "freq               3     17\n"
     ]
    }
   ],
   "source": [
    "print(df.describe(include='O'))"
   ]
  },
  {
   "cell_type": "code",
   "execution_count": 48,
   "id": "24b2c6c9-5ea2-4a5b-ae71-2f137e4831b8",
   "metadata": {},
   "outputs": [
    {
     "name": "stdout",
     "output_type": "stream",
     "text": [
      "    Duration          Date  Pulse  Maxpulse    Calories Gender\n",
      "0         60  '2020/12/01'    110       130  409.100000      M\n",
      "1         60  '2020/12/02'    117       145  479.000000      F\n",
      "2         60  '2020/12/03'    103       135  340.000000      F\n",
      "3         45  '2020/12/04'    109       175  282.400000      F\n",
      "4         45  '2020/12/05'    117       148  406.000000    NaN\n",
      "5         60  '2020/12/06'    102       127  300.000000      M\n",
      "6         60  '2020/12/06'    102       127  300.000000      M\n",
      "7        450  '2020/12/08'    104       134  253.300000      M\n",
      "8         30  '2020/12/09'    109       133  195.100000    NaN\n",
      "9         60  '2020/12/06'    102       127  300.000000      M\n",
      "10        60  '2020/12/10'     98       124  269.000000      F\n",
      "11        60  '2020/12/11'    103       147  329.300000      F\n",
      "12        60  '2020/12/12'    100       120  250.700000      M\n",
      "13        60  '2020/12/12'    100       120  250.700000      F\n",
      "14        60  '2020/12/13'    106       128  345.300000      M\n",
      "15        60  '2020/12/12'    100       120  250.700000      F\n",
      "16        60  '2020/12/14'    104       132  379.300000      F\n",
      "17        60  '2020/12/15'     98       123  275.000000      F\n",
      "18        60  '2020/12/16'     98       120  215.200000      M\n",
      "19        60  '2020/12/17'    100       120  300.000000      M\n",
      "20        45  '2020/12/18'     90       112  301.129412      F\n",
      "21        60  '2020/12/19'    103       123  323.000000      F\n",
      "22        45  '2020/12/20'     97       125  243.000000      F\n",
      "23        60  '2020/12/21'    108       131  364.200000      F\n",
      "24        45           NaN    100       119  282.000000      M\n",
      "25        60  '2020/12/23'    130       101  300.000000    NaN\n",
      "26        45  '2020/12/24'    105       132  246.000000      M\n",
      "27        60  '2020/12/25'    102       126  334.500000      M\n",
      "28        60      20201226    100       120  250.000000      M\n",
      "29        60  '2020/12/27'     92       118  241.000000      F\n",
      "30        60  '2020/12/28'    103       132  301.129412    NaN\n",
      "31        60  '2020/12/29'    100       132  280.000000      M\n",
      "32        60  '2020/12/30'    102       129  380.300000      F\n",
      "33        60  '2020/12/31'     92       115  243.000000      F\n",
      "34        60  '2020/12/30'    102       129  380.300000      F\n",
      "35        60  '2020/12/27'     92       118  241.000000    NaN\n"
     ]
    }
   ],
   "source": [
    "#Replace Null Values\n",
    "df['Calories']=df['Calories'].fillna(df['Calories'].mean())\n",
    "print(df)"
   ]
  },
  {
   "cell_type": "code",
   "execution_count": 49,
   "id": "40701fa6-864f-46cf-8540-70b18ab92ae2",
   "metadata": {},
   "outputs": [
    {
     "name": "stdout",
     "output_type": "stream",
     "text": [
      "         Duration       Pulse    Maxpulse    Calories\n",
      "count   36.000000   36.000000   36.000000   36.000000\n",
      "mean    67.500000  102.777778  127.694444  301.129412\n",
      "std     65.970773    7.544577   12.358501   61.837518\n",
      "min     30.000000   90.000000  101.000000  195.100000\n",
      "25%     60.000000  100.000000  120.000000  250.700000\n",
      "50%     60.000000  102.000000  127.000000  300.000000\n",
      "75%     60.000000  104.250000  132.000000  335.875000\n",
      "max    450.000000  130.000000  175.000000  479.000000\n"
     ]
    }
   ],
   "source": [
    "print(df.describe())"
   ]
  },
  {
   "cell_type": "code",
   "execution_count": 50,
   "id": "5cc2d7cd-a4eb-4094-96de-8f91a7866fae",
   "metadata": {},
   "outputs": [],
   "source": [
    "df['Gender']=df['Gender'].fillna(df['Gender'].mode()[0])"
   ]
  },
  {
   "cell_type": "code",
   "execution_count": 51,
   "id": "980a484c-06a7-49fe-aa96-f299906120a8",
   "metadata": {},
   "outputs": [
    {
     "name": "stdout",
     "output_type": "stream",
     "text": [
      "    Duration          Date  Pulse  Maxpulse    Calories Gender\n",
      "0         60  '2020/12/01'    110       130  409.100000      M\n",
      "1         60  '2020/12/02'    117       145  479.000000      F\n",
      "2         60  '2020/12/03'    103       135  340.000000      F\n",
      "3         45  '2020/12/04'    109       175  282.400000      F\n",
      "4         45  '2020/12/05'    117       148  406.000000      F\n",
      "5         60  '2020/12/06'    102       127  300.000000      M\n",
      "6         60  '2020/12/06'    102       127  300.000000      M\n",
      "7        450  '2020/12/08'    104       134  253.300000      M\n",
      "8         30  '2020/12/09'    109       133  195.100000      F\n",
      "9         60  '2020/12/06'    102       127  300.000000      M\n",
      "10        60  '2020/12/10'     98       124  269.000000      F\n",
      "11        60  '2020/12/11'    103       147  329.300000      F\n",
      "12        60  '2020/12/12'    100       120  250.700000      M\n",
      "13        60  '2020/12/12'    100       120  250.700000      F\n",
      "14        60  '2020/12/13'    106       128  345.300000      M\n",
      "15        60  '2020/12/12'    100       120  250.700000      F\n",
      "16        60  '2020/12/14'    104       132  379.300000      F\n",
      "17        60  '2020/12/15'     98       123  275.000000      F\n",
      "18        60  '2020/12/16'     98       120  215.200000      M\n",
      "19        60  '2020/12/17'    100       120  300.000000      M\n",
      "20        45  '2020/12/18'     90       112  301.129412      F\n",
      "21        60  '2020/12/19'    103       123  323.000000      F\n",
      "22        45  '2020/12/20'     97       125  243.000000      F\n",
      "23        60  '2020/12/21'    108       131  364.200000      F\n",
      "24        45           NaN    100       119  282.000000      M\n",
      "25        60  '2020/12/23'    130       101  300.000000      F\n",
      "26        45  '2020/12/24'    105       132  246.000000      M\n",
      "27        60  '2020/12/25'    102       126  334.500000      M\n",
      "28        60      20201226    100       120  250.000000      M\n",
      "29        60  '2020/12/27'     92       118  241.000000      F\n",
      "30        60  '2020/12/28'    103       132  301.129412      F\n",
      "31        60  '2020/12/29'    100       132  280.000000      M\n",
      "32        60  '2020/12/30'    102       129  380.300000      F\n",
      "33        60  '2020/12/31'     92       115  243.000000      F\n",
      "34        60  '2020/12/30'    102       129  380.300000      F\n",
      "35        60  '2020/12/27'     92       118  241.000000      F\n"
     ]
    }
   ],
   "source": [
    "print(df)"
   ]
  },
  {
   "cell_type": "code",
   "execution_count": 52,
   "id": "50540165-bbf4-4531-874b-90392e652d43",
   "metadata": {},
   "outputs": [
    {
     "data": {
      "text/plain": [
       "0    F\n",
       "Name: Gender, dtype: object"
      ]
     },
     "execution_count": 52,
     "metadata": {},
     "output_type": "execute_result"
    }
   ],
   "source": [
    "df['Gender'].mode()"
   ]
  },
  {
   "cell_type": "code",
   "execution_count": 53,
   "id": "f334ffbb-ff6e-40cd-8383-20654a93cb60",
   "metadata": {},
   "outputs": [
    {
     "name": "stdout",
     "output_type": "stream",
     "text": [
      "Gender\n",
      "F    22\n",
      "M    14\n",
      "Name: count, dtype: int64\n"
     ]
    }
   ],
   "source": [
    "print(df['Gender'].value_counts())"
   ]
  },
  {
   "cell_type": "code",
   "execution_count": 54,
   "id": "b90466d9-0f64-4580-845f-cd9ff554992f",
   "metadata": {},
   "outputs": [
    {
     "name": "stdout",
     "output_type": "stream",
     "text": [
      "Duration    0\n",
      "Date        1\n",
      "Pulse       0\n",
      "Maxpulse    0\n",
      "Calories    0\n",
      "Gender      0\n",
      "dtype: int64\n"
     ]
    }
   ],
   "source": [
    "print(df.isnull().sum())"
   ]
  },
  {
   "cell_type": "code",
   "execution_count": 55,
   "id": "88592499-2109-4f6a-abe2-ca55cd3a8daa",
   "metadata": {},
   "outputs": [
    {
     "name": "stdout",
     "output_type": "stream",
     "text": [
      "<class 'pandas.core.frame.DataFrame'>\n",
      "RangeIndex: 36 entries, 0 to 35\n",
      "Data columns (total 6 columns):\n",
      " #   Column    Non-Null Count  Dtype  \n",
      "---  ------    --------------  -----  \n",
      " 0   Duration  36 non-null     int64  \n",
      " 1   Date      35 non-null     object \n",
      " 2   Pulse     36 non-null     int64  \n",
      " 3   Maxpulse  36 non-null     int64  \n",
      " 4   Calories  36 non-null     float64\n",
      " 5   Gender    36 non-null     object \n",
      "dtypes: float64(1), int64(3), object(2)\n",
      "memory usage: 1.8+ KB\n",
      "None\n"
     ]
    }
   ],
   "source": [
    "print(df.info())"
   ]
  },
  {
   "cell_type": "code",
   "execution_count": 56,
   "id": "8f1f9fe6-495b-47cf-9f96-e4b0bad9d0ab",
   "metadata": {},
   "outputs": [],
   "source": [
    "df.drop(24,axis=0,inplace=True)"
   ]
  },
  {
   "cell_type": "code",
   "execution_count": 57,
   "id": "09cf2cc8-8401-4f49-9938-3581acb47306",
   "metadata": {},
   "outputs": [
    {
     "name": "stdout",
     "output_type": "stream",
     "text": [
      "Duration    0\n",
      "Date        0\n",
      "Pulse       0\n",
      "Maxpulse    0\n",
      "Calories    0\n",
      "Gender      0\n",
      "dtype: int64\n"
     ]
    }
   ],
   "source": [
    "print(df.isnull().sum())"
   ]
  },
  {
   "cell_type": "code",
   "execution_count": 58,
   "id": "7390d889-4b76-4f6f-a210-d66d40e55454",
   "metadata": {},
   "outputs": [
    {
     "name": "stdout",
     "output_type": "stream",
     "text": [
      "0     False\n",
      "1     False\n",
      "2     False\n",
      "3     False\n",
      "4     False\n",
      "5     False\n",
      "6      True\n",
      "7     False\n",
      "8     False\n",
      "9      True\n",
      "10    False\n",
      "11    False\n",
      "12    False\n",
      "13    False\n",
      "14    False\n",
      "15     True\n",
      "16    False\n",
      "17    False\n",
      "18    False\n",
      "19    False\n",
      "20    False\n",
      "21    False\n",
      "22    False\n",
      "23    False\n",
      "25    False\n",
      "26    False\n",
      "27    False\n",
      "28    False\n",
      "29    False\n",
      "30    False\n",
      "31    False\n",
      "32    False\n",
      "33    False\n",
      "34     True\n",
      "35     True\n",
      "dtype: bool\n"
     ]
    }
   ],
   "source": [
    "#Duplicates\n",
    "#Detecting Duplicates\n",
    "print(df.duplicated())"
   ]
  },
  {
   "cell_type": "code",
   "execution_count": null,
   "id": "e5060048-8cca-4ab2-b222-2c95fc71debe",
   "metadata": {},
   "outputs": [],
   "source": []
  },
  {
   "cell_type": "code",
   "execution_count": 59,
   "id": "164c76e8-2151-4b62-b514-86e30030c5f4",
   "metadata": {},
   "outputs": [
    {
     "name": "stdout",
     "output_type": "stream",
     "text": [
      "    Duration          Date  Pulse  Maxpulse    Calories Gender\n",
      "0         60  '2020/12/01'    110       130  409.100000      M\n",
      "1         60  '2020/12/02'    117       145  479.000000      F\n",
      "2         60  '2020/12/03'    103       135  340.000000      F\n",
      "3         45  '2020/12/04'    109       175  282.400000      F\n",
      "4         45  '2020/12/05'    117       148  406.000000      F\n",
      "5         60  '2020/12/06'    102       127  300.000000      M\n",
      "6         60  '2020/12/06'    102       127  300.000000      M\n",
      "7        450  '2020/12/08'    104       134  253.300000      M\n",
      "8         30  '2020/12/09'    109       133  195.100000      F\n",
      "9         60  '2020/12/06'    102       127  300.000000      M\n",
      "10        60  '2020/12/10'     98       124  269.000000      F\n",
      "11        60  '2020/12/11'    103       147  329.300000      F\n",
      "12        60  '2020/12/12'    100       120  250.700000      M\n",
      "13        60  '2020/12/12'    100       120  250.700000      F\n",
      "14        60  '2020/12/13'    106       128  345.300000      M\n",
      "15        60  '2020/12/12'    100       120  250.700000      F\n",
      "16        60  '2020/12/14'    104       132  379.300000      F\n",
      "17        60  '2020/12/15'     98       123  275.000000      F\n",
      "18        60  '2020/12/16'     98       120  215.200000      M\n",
      "19        60  '2020/12/17'    100       120  300.000000      M\n",
      "20        45  '2020/12/18'     90       112  301.129412      F\n",
      "21        60  '2020/12/19'    103       123  323.000000      F\n",
      "22        45  '2020/12/20'     97       125  243.000000      F\n",
      "23        60  '2020/12/21'    108       131  364.200000      F\n",
      "25        60  '2020/12/23'    130       101  300.000000      F\n",
      "26        45  '2020/12/24'    105       132  246.000000      M\n",
      "27        60  '2020/12/25'    102       126  334.500000      M\n",
      "28        60      20201226    100       120  250.000000      M\n",
      "29        60  '2020/12/27'     92       118  241.000000      F\n",
      "30        60  '2020/12/28'    103       132  301.129412      F\n",
      "31        60  '2020/12/29'    100       132  280.000000      M\n",
      "32        60  '2020/12/30'    102       129  380.300000      F\n",
      "33        60  '2020/12/31'     92       115  243.000000      F\n",
      "34        60  '2020/12/30'    102       129  380.300000      F\n",
      "35        60  '2020/12/27'     92       118  241.000000      F\n"
     ]
    }
   ],
   "source": [
    "print(df)"
   ]
  },
  {
   "cell_type": "code",
   "execution_count": 60,
   "id": "a9bf281c-7439-4ca5-85fe-7a4bb353c07e",
   "metadata": {},
   "outputs": [
    {
     "name": "stdout",
     "output_type": "stream",
     "text": [
      "5\n"
     ]
    }
   ],
   "source": [
    "print(df.duplicated().sum())"
   ]
  },
  {
   "cell_type": "code",
   "execution_count": 61,
   "id": "8908bf61-27be-4b0b-b3c3-babccef008cd",
   "metadata": {},
   "outputs": [
    {
     "name": "stdout",
     "output_type": "stream",
     "text": [
      "    Duration          Date  Pulse  Maxpulse    Calories Gender\n",
      "0         60  '2020/12/01'    110       130  409.100000      M\n",
      "1         60  '2020/12/02'    117       145  479.000000      F\n",
      "2         60  '2020/12/03'    103       135  340.000000      F\n",
      "3         45  '2020/12/04'    109       175  282.400000      F\n",
      "4         45  '2020/12/05'    117       148  406.000000      F\n",
      "5         60  '2020/12/06'    102       127  300.000000      M\n",
      "7        450  '2020/12/08'    104       134  253.300000      M\n",
      "8         30  '2020/12/09'    109       133  195.100000      F\n",
      "10        60  '2020/12/10'     98       124  269.000000      F\n",
      "11        60  '2020/12/11'    103       147  329.300000      F\n",
      "12        60  '2020/12/12'    100       120  250.700000      M\n",
      "13        60  '2020/12/12'    100       120  250.700000      F\n",
      "14        60  '2020/12/13'    106       128  345.300000      M\n",
      "16        60  '2020/12/14'    104       132  379.300000      F\n",
      "17        60  '2020/12/15'     98       123  275.000000      F\n",
      "18        60  '2020/12/16'     98       120  215.200000      M\n",
      "19        60  '2020/12/17'    100       120  300.000000      M\n",
      "20        45  '2020/12/18'     90       112  301.129412      F\n",
      "21        60  '2020/12/19'    103       123  323.000000      F\n",
      "22        45  '2020/12/20'     97       125  243.000000      F\n",
      "23        60  '2020/12/21'    108       131  364.200000      F\n",
      "25        60  '2020/12/23'    130       101  300.000000      F\n",
      "26        45  '2020/12/24'    105       132  246.000000      M\n",
      "27        60  '2020/12/25'    102       126  334.500000      M\n",
      "28        60      20201226    100       120  250.000000      M\n",
      "29        60  '2020/12/27'     92       118  241.000000      F\n",
      "30        60  '2020/12/28'    103       132  301.129412      F\n",
      "31        60  '2020/12/29'    100       132  280.000000      M\n",
      "32        60  '2020/12/30'    102       129  380.300000      F\n",
      "33        60  '2020/12/31'     92       115  243.000000      F\n"
     ]
    }
   ],
   "source": [
    "df.drop_duplicates(inplace=True)\n",
    "print(df)"
   ]
  },
  {
   "cell_type": "code",
   "execution_count": 62,
   "id": "c745894f-29eb-498f-a214-edbfa2e2a5e1",
   "metadata": {},
   "outputs": [
    {
     "name": "stdout",
     "output_type": "stream",
     "text": [
      "(30, 6)\n"
     ]
    }
   ],
   "source": [
    "print(df.shape)"
   ]
  },
  {
   "cell_type": "code",
   "execution_count": 63,
   "id": "b3439393-0946-4dc0-9ea1-72e309229548",
   "metadata": {},
   "outputs": [],
   "source": [
    "df.drop(28,axis=0,inplace=True)"
   ]
  },
  {
   "cell_type": "code",
   "execution_count": 64,
   "id": "ca8cbec4-f3df-4eca-a919-db05b354acb3",
   "metadata": {},
   "outputs": [
    {
     "name": "stdout",
     "output_type": "stream",
     "text": [
      "<class 'pandas.core.frame.DataFrame'>\n",
      "Index: 29 entries, 0 to 33\n",
      "Data columns (total 6 columns):\n",
      " #   Column    Non-Null Count  Dtype  \n",
      "---  ------    --------------  -----  \n",
      " 0   Duration  29 non-null     int64  \n",
      " 1   Date      29 non-null     object \n",
      " 2   Pulse     29 non-null     int64  \n",
      " 3   Maxpulse  29 non-null     int64  \n",
      " 4   Calories  29 non-null     float64\n",
      " 5   Gender    29 non-null     object \n",
      "dtypes: float64(1), int64(3), object(2)\n",
      "memory usage: 1.6+ KB\n",
      "None\n"
     ]
    }
   ],
   "source": [
    "print(df.info())"
   ]
  },
  {
   "cell_type": "code",
   "execution_count": 65,
   "id": "75dd9e90-969d-4a63-bf11-fa9ff07d5e07",
   "metadata": {},
   "outputs": [
    {
     "name": "stdout",
     "output_type": "stream",
     "text": [
      "    Duration       Date  Pulse  Maxpulse    Calories Gender\n",
      "0         60 2020-12-01    110       130  409.100000      M\n",
      "1         60 2020-12-02    117       145  479.000000      F\n",
      "2         60 2020-12-03    103       135  340.000000      F\n",
      "3         45 2020-12-04    109       175  282.400000      F\n",
      "4         45 2020-12-05    117       148  406.000000      F\n",
      "5         60 2020-12-06    102       127  300.000000      M\n",
      "7        450 2020-12-08    104       134  253.300000      M\n",
      "8         30 2020-12-09    109       133  195.100000      F\n",
      "10        60 2020-12-10     98       124  269.000000      F\n",
      "11        60 2020-12-11    103       147  329.300000      F\n",
      "12        60 2020-12-12    100       120  250.700000      M\n",
      "13        60 2020-12-12    100       120  250.700000      F\n",
      "14        60 2020-12-13    106       128  345.300000      M\n",
      "16        60 2020-12-14    104       132  379.300000      F\n",
      "17        60 2020-12-15     98       123  275.000000      F\n",
      "18        60 2020-12-16     98       120  215.200000      M\n",
      "19        60 2020-12-17    100       120  300.000000      M\n",
      "20        45 2020-12-18     90       112  301.129412      F\n",
      "21        60 2020-12-19    103       123  323.000000      F\n",
      "22        45 2020-12-20     97       125  243.000000      F\n",
      "23        60 2020-12-21    108       131  364.200000      F\n",
      "25        60 2020-12-23    130       101  300.000000      F\n",
      "26        45 2020-12-24    105       132  246.000000      M\n",
      "27        60 2020-12-25    102       126  334.500000      M\n",
      "29        60 2020-12-27     92       118  241.000000      F\n",
      "30        60 2020-12-28    103       132  301.129412      F\n",
      "31        60 2020-12-29    100       132  280.000000      M\n",
      "32        60 2020-12-30    102       129  380.300000      F\n",
      "33        60 2020-12-31     92       115  243.000000      F\n"
     ]
    }
   ],
   "source": [
    "#parse_date\n",
    "#Dealing with wrong format of data\n",
    "df['Date']=pd.to_datetime(df['Date'])\n",
    "print(df)"
   ]
  },
  {
   "cell_type": "code",
   "execution_count": 66,
   "id": "72824032-1bf3-49f7-8e1d-c7463f1c37d1",
   "metadata": {},
   "outputs": [
    {
     "name": "stdout",
     "output_type": "stream",
     "text": [
      "<class 'pandas.core.frame.DataFrame'>\n",
      "Index: 29 entries, 0 to 33\n",
      "Data columns (total 6 columns):\n",
      " #   Column    Non-Null Count  Dtype         \n",
      "---  ------    --------------  -----         \n",
      " 0   Duration  29 non-null     int64         \n",
      " 1   Date      29 non-null     datetime64[ns]\n",
      " 2   Pulse     29 non-null     int64         \n",
      " 3   Maxpulse  29 non-null     int64         \n",
      " 4   Calories  29 non-null     float64       \n",
      " 5   Gender    29 non-null     object        \n",
      "dtypes: datetime64[ns](1), float64(1), int64(3), object(1)\n",
      "memory usage: 1.6+ KB\n",
      "None\n"
     ]
    }
   ],
   "source": [
    "print(df.info())"
   ]
  },
  {
   "cell_type": "code",
   "execution_count": 67,
   "id": "cfa5a493-ff77-49f9-8cfa-9e97dae5bf18",
   "metadata": {},
   "outputs": [
    {
     "name": "stdout",
     "output_type": "stream",
     "text": [
      "         Duration                           Date       Pulse    Maxpulse  \\\n",
      "count   29.000000                             29   29.000000   29.000000   \n",
      "mean    69.827586  2020-12-15 14:53:47.586206976  103.517241  128.862069   \n",
      "min     30.000000            2020-12-01 00:00:00   90.000000  101.000000   \n",
      "25%     60.000000            2020-12-09 00:00:00  100.000000  120.000000   \n",
      "50%     60.000000            2020-12-15 00:00:00  103.000000  128.000000   \n",
      "75%     60.000000            2020-12-23 00:00:00  106.000000  132.000000   \n",
      "max    450.000000            2020-12-31 00:00:00  130.000000  175.000000   \n",
      "std     73.514852                            NaN    8.095946   13.383690   \n",
      "\n",
      "         Calories  \n",
      "count   29.000000  \n",
      "mean   304.712373  \n",
      "min    195.100000  \n",
      "25%    250.700000  \n",
      "50%    300.000000  \n",
      "75%    340.000000  \n",
      "max    479.000000  \n",
      "std     64.932411  \n"
     ]
    }
   ],
   "source": [
    "#Wrong Data\n",
    "print(df.describe())"
   ]
  },
  {
   "cell_type": "code",
   "execution_count": 68,
   "id": "a15eda8c-4f1f-4ae3-a242-023d1d841621",
   "metadata": {},
   "outputs": [
    {
     "name": "stdout",
     "output_type": "stream",
     "text": [
      "    Duration       Date  Pulse  Maxpulse    Calories Gender\n",
      "0         60 2020-12-01    110       130  409.100000      M\n",
      "1         60 2020-12-02    117       145  479.000000      F\n",
      "2         60 2020-12-03    103       135  340.000000      F\n",
      "3         45 2020-12-04    109       175  282.400000      F\n",
      "4         45 2020-12-05    117       148  406.000000      F\n",
      "5         60 2020-12-06    102       127  300.000000      M\n",
      "7        450 2020-12-08    104       134  253.300000      M\n",
      "8         30 2020-12-09    109       133  195.100000      F\n",
      "10        60 2020-12-10     98       124  269.000000      F\n",
      "11        60 2020-12-11    103       147  329.300000      F\n",
      "12        60 2020-12-12    100       120  250.700000      M\n",
      "13        60 2020-12-12    100       120  250.700000      F\n",
      "14        60 2020-12-13    106       128  345.300000      M\n",
      "16        60 2020-12-14    104       132  379.300000      F\n",
      "17        60 2020-12-15     98       123  275.000000      F\n",
      "18        60 2020-12-16     98       120  215.200000      M\n",
      "19        60 2020-12-17    100       120  300.000000      M\n",
      "20        45 2020-12-18     90       112  301.129412      F\n",
      "21        60 2020-12-19    103       123  323.000000      F\n",
      "22        45 2020-12-20     97       125  243.000000      F\n",
      "23        60 2020-12-21    108       131  364.200000      F\n",
      "25        60 2020-12-23    130       101  300.000000      F\n",
      "26        45 2020-12-24    105       132  246.000000      M\n",
      "27        60 2020-12-25    102       126  334.500000      M\n",
      "29        60 2020-12-27     92       118  241.000000      F\n",
      "30        60 2020-12-28    103       132  301.129412      F\n",
      "31        60 2020-12-29    100       132  280.000000      M\n",
      "32        60 2020-12-30    102       129  380.300000      F\n",
      "33        60 2020-12-31     92       115  243.000000      F\n"
     ]
    }
   ],
   "source": [
    "print(df)"
   ]
  },
  {
   "cell_type": "code",
   "execution_count": 69,
   "id": "a2776168-47c6-48d3-a727-95c94db58907",
   "metadata": {},
   "outputs": [],
   "source": [
    "df.to_csv(\"CleanedData.csv\")"
   ]
  },
  {
   "cell_type": "code",
   "execution_count": null,
   "id": "8bdded74-35f8-42f1-a489-5c91c9a9bed5",
   "metadata": {},
   "outputs": [],
   "source": []
  }
 ],
 "metadata": {
  "kernelspec": {
   "display_name": "Python 3 (ipykernel)",
   "language": "python",
   "name": "python3"
  },
  "language_info": {
   "codemirror_mode": {
    "name": "ipython",
    "version": 3
   },
   "file_extension": ".py",
   "mimetype": "text/x-python",
   "name": "python",
   "nbconvert_exporter": "python",
   "pygments_lexer": "ipython3",
   "version": "3.12.1"
  }
 },
 "nbformat": 4,
 "nbformat_minor": 5
}

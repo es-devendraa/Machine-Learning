{
 "cells": [
  {
   "cell_type": "code",
   "execution_count": 1,
   "id": "290f0ec6-ff5d-4208-b176-8bb0bf45d756",
   "metadata": {},
   "outputs": [],
   "source": [
    "#Python Functions(write once use many)\n",
    "#Function deFinition\n",
    "def greet():\n",
    "    print(\"Hey Good morning\")"
   ]
  },
  {
   "cell_type": "code",
   "execution_count": 3,
   "id": "b232119a-52c4-480c-bca3-dc1b167cef8a",
   "metadata": {},
   "outputs": [
    {
     "name": "stdout",
     "output_type": "stream",
     "text": [
      "Hey Good morning\n",
      "Hey Good morning\n"
     ]
    }
   ],
   "source": [
    "#Calling/ invoking\n",
    "greet()\n",
    "greet()"
   ]
  },
  {
   "cell_type": "code",
   "execution_count": 6,
   "id": "51510333-524b-451e-824f-27fed2fe29f3",
   "metadata": {},
   "outputs": [
    {
     "ename": "TypeError",
     "evalue": "add() missing 1 required positional argument: 'var2'",
     "output_type": "error",
     "traceback": [
      "\u001b[1;31m---------------------------------------------------------------------------\u001b[0m",
      "\u001b[1;31mTypeError\u001b[0m                                 Traceback (most recent call last)",
      "Cell \u001b[1;32mIn[6], line 6\u001b[0m\n\u001b[0;32m      3\u001b[0m     result\u001b[38;5;241m=\u001b[39mvar1\u001b[38;5;241m+\u001b[39mvar2\n\u001b[0;32m      4\u001b[0m     \u001b[38;5;28mprint\u001b[39m(result)\n\u001b[1;32m----> 6\u001b[0m \u001b[43madd\u001b[49m\u001b[43m(\u001b[49m\u001b[38;5;241;43m34\u001b[39;49m\u001b[43m)\u001b[49m\n",
      "\u001b[1;31mTypeError\u001b[0m: add() missing 1 required positional argument: 'var2'"
     ]
    }
   ],
   "source": [
    "#Function with argument\n",
    "def add(var1,var2):\n",
    "    result=var1+var2\n",
    "    print(result)\n",
    "\n",
    "add(34)"
   ]
  },
  {
   "cell_type": "code",
   "execution_count": 8,
   "id": "39550906-1e06-49f9-ad07-80af7ff8475f",
   "metadata": {},
   "outputs": [
    {
     "name": "stdout",
     "output_type": "stream",
     "text": [
      "121\n"
     ]
    }
   ],
   "source": [
    "#Function with return\n",
    "def func1(var1,var2):\n",
    "    result=var1+var2\n",
    "    return result\n",
    "\n",
    "#print(func1(30,40))\n",
    "output=func1(45,76)\n",
    "print(output)"
   ]
  },
  {
   "cell_type": "code",
   "execution_count": 9,
   "id": "8e9eb31c-66a9-4bb3-b654-5012b9975651",
   "metadata": {},
   "outputs": [
    {
     "name": "stdout",
     "output_type": "stream",
     "text": [
      "[32, 16, 90, 40]\n"
     ]
    }
   ],
   "source": [
    "lst=[45,32,15,16,89,90,40,75]\n",
    "def even(lst):\n",
    "    even_lst=[]\n",
    "    for x in lst:\n",
    "        if x%2==0:\n",
    "            even_lst.append(x)\n",
    "    return even_lst\n",
    "\n",
    "print(even(lst))"
   ]
  },
  {
   "cell_type": "code",
   "execution_count": 10,
   "id": "2f45b318-9c6e-4fc1-a2dd-d08f0ad2852d",
   "metadata": {},
   "outputs": [
    {
     "name": "stdout",
     "output_type": "stream",
     "text": [
      "Even elements:[32, 16, 90, 40],Odd elements:[45, 15, 89, 75]\n",
      "None\n"
     ]
    }
   ],
   "source": [
    "lst=[45,32,15,16,89,90,40,75]\n",
    "def even_odd(lst):\n",
    "    even_lst=[]\n",
    "    odd_lst=[]\n",
    "    for x in lst:\n",
    "        if x%2==0:\n",
    "            even_lst.append(x)\n",
    "        else:\n",
    "            odd_lst.append(x)\n",
    "    print(f\"Even elements:{even_lst},Odd elements:{odd_lst}\")\n",
    "print(even_odd(lst))"
   ]
  },
  {
   "cell_type": "code",
   "execution_count": 15,
   "id": "3559f2ee-41f4-41fa-83f3-a5ff3217ebd7",
   "metadata": {},
   "outputs": [
    {
     "name": "stdin",
     "output_type": "stream",
     "text": [
      "Enter your age: 10.5\n"
     ]
    },
    {
     "ename": "ValueError",
     "evalue": "invalid literal for int() with base 10: '10.5'",
     "output_type": "error",
     "traceback": [
      "\u001b[1;31m---------------------------------------------------------------------------\u001b[0m",
      "\u001b[1;31mValueError\u001b[0m                                Traceback (most recent call last)",
      "Cell \u001b[1;32mIn[15], line 3\u001b[0m\n\u001b[0;32m      1\u001b[0m \u001b[38;5;66;03m#Python input\u001b[39;00m\n\u001b[0;32m      2\u001b[0m \u001b[38;5;66;03m#age=input(\"Enter your age:\") #default input is str\u001b[39;00m\n\u001b[1;32m----> 3\u001b[0m age\u001b[38;5;241m=\u001b[39m\u001b[38;5;28;43mint\u001b[39;49m\u001b[43m(\u001b[49m\u001b[38;5;28;43minput\u001b[39;49m\u001b[43m(\u001b[49m\u001b[38;5;124;43m\"\u001b[39;49m\u001b[38;5;124;43mEnter your age:\u001b[39;49m\u001b[38;5;124;43m\"\u001b[39;49m\u001b[43m)\u001b[49m\u001b[43m)\u001b[49m\n\u001b[0;32m      4\u001b[0m \u001b[38;5;28mprint\u001b[39m(age)\n\u001b[0;32m      5\u001b[0m \u001b[38;5;28mprint\u001b[39m(\u001b[38;5;28mtype\u001b[39m(age))\n",
      "\u001b[1;31mValueError\u001b[0m: invalid literal for int() with base 10: '10.5'"
     ]
    }
   ],
   "source": [
    "#Python input\n",
    "#age=input(\"Enter your age:\") #default input is str\n",
    "age=int(input(\"Enter your age:\"))\n",
    "print(age)\n",
    "print(type(age))"
   ]
  },
  {
   "cell_type": "code",
   "execution_count": 18,
   "id": "c52fb57d-6a7d-4630-94de-59fa0fdebafb",
   "metadata": {},
   "outputs": [
    {
     "name": "stdin",
     "output_type": "stream",
     "text": [
      "Enter your age: abc\n"
     ]
    },
    {
     "ename": "NameError",
     "evalue": "name 'abc' is not defined",
     "output_type": "error",
     "traceback": [
      "\u001b[1;31m---------------------------------------------------------------------------\u001b[0m",
      "\u001b[1;31mNameError\u001b[0m                                 Traceback (most recent call last)",
      "Cell \u001b[1;32mIn[18], line 1\u001b[0m\n\u001b[1;32m----> 1\u001b[0m age\u001b[38;5;241m=\u001b[39m\u001b[38;5;28;43meval\u001b[39;49m\u001b[43m(\u001b[49m\u001b[38;5;28;43minput\u001b[39;49m\u001b[43m(\u001b[49m\u001b[38;5;124;43m\"\u001b[39;49m\u001b[38;5;124;43mEnter your age:\u001b[39;49m\u001b[38;5;124;43m\"\u001b[39;49m\u001b[43m)\u001b[49m\u001b[43m)\u001b[49m\n\u001b[0;32m      2\u001b[0m \u001b[38;5;28mprint\u001b[39m(age)\n\u001b[0;32m      3\u001b[0m \u001b[38;5;28mprint\u001b[39m(\u001b[38;5;28mtype\u001b[39m(age))\n",
      "File \u001b[1;32m<string>:1\u001b[0m\n",
      "\u001b[1;31mNameError\u001b[0m: name 'abc' is not defined"
     ]
    }
   ],
   "source": [
    "age=eval(input(\"Enter your age:\"))\n",
    "print(age)\n",
    "print(type(age))"
   ]
  },
  {
   "cell_type": "code",
   "execution_count": 22,
   "id": "ec200b1e-37bc-4158-95fa-2a18d5235878",
   "metadata": {},
   "outputs": [
    {
     "name": "stdin",
     "output_type": "stream",
     "text": [
      "Enter your name: amit\n",
      "Enter your age: 45\n"
     ]
    },
    {
     "name": "stdout",
     "output_type": "stream",
     "text": [
      "Hi, {name}Your age is {age}\n"
     ]
    }
   ],
   "source": [
    "#String Interpolations(embadding)\n",
    "name=input(\"Enter your name:\")\n",
    "age=eval(input(\"Enter your age:\"))\n",
    "#Hi,<name> your age is <age>\n",
    "print(f\"Hi, {name}Your age is {age}\")  #fstring"
   ]
  },
  {
   "cell_type": "code",
   "execution_count": 25,
   "id": "52a32ced-7129-4deb-ac98-c6f7dc6e4d45",
   "metadata": {},
   "outputs": [
    {
     "name": "stdin",
     "output_type": "stream",
     "text": [
      "Enter your name: amit\n",
      "Enter your age: 34\n"
     ]
    },
    {
     "name": "stdout",
     "output_type": "stream",
     "text": [
      "Hi, amit Your age is 34\n",
      "Hi, 34 Your age is amit\n",
      "Hi, amit Your age is 34\n"
     ]
    }
   ],
   "source": [
    "#Format Functions\n",
    "name=input(\"Enter your name:\")\n",
    "age=eval(input(\"Enter your age:\"))\n",
    "#Hi,<name> your age is <age>\n",
    "print(\"Hi, {} Your age is {}\".format(name,age)) \n",
    "print(\"Hi, {} Your age is {}\".format(age,name))\n",
    "print(\"Hi, {1} Your age is {0}\".format(age,name)) #passing indexing"
   ]
  },
  {
   "cell_type": "code",
   "execution_count": 28,
   "id": "2fec514f-3b57-470a-811e-b3e7bca3042d",
   "metadata": {},
   "outputs": [
    {
     "name": "stdout",
     "output_type": "stream",
     "text": [
      "Hi, amit\n",
      "ROI:12.46\n"
     ]
    }
   ],
   "source": [
    "name=\"amit\"\n",
    "print(\"Hi, %s\"%name)\n",
    "roi=12.4567893\n",
    "print(\"ROI:%.2f\"%roi)"
   ]
  },
  {
   "cell_type": "code",
   "execution_count": null,
   "id": "df0b7e99-4a71-4e1d-a90e-a773e243a7e9",
   "metadata": {},
   "outputs": [],
   "source": [
    "#Types of Arguments\n",
    "#1.Positional Required args\n",
    "#2.Keyword args\n",
    "#3.Default args\n",
    "#4.Arbitary Args\n",
    "#5.Key-Arbitary Args"
   ]
  },
  {
   "cell_type": "code",
   "execution_count": 31,
   "id": "a3f65f34-2710-431c-85e5-e98d71eadc10",
   "metadata": {},
   "outputs": [
    {
     "name": "stdin",
     "output_type": "stream",
     "text": [
      "Enter your name: Amit\n",
      "Enter your age: 45\n"
     ]
    },
    {
     "name": "stdout",
     "output_type": "stream",
     "text": [
      "Name: Amit\n",
      "Age: 45\n",
      "Name: 45\n",
      "Age: Amit\n"
     ]
    }
   ],
   "source": [
    "#Required-Positional Args\n",
    "uname=input(\"Enter your name:\")\n",
    "uage=int(input(\"Enter your age:\"))\n",
    "def func(name,age):\n",
    "    print(\"Name:\",name)\n",
    "    print(\"Age:\",age)\n",
    "\n",
    "func(uname,uage)\n",
    "func(uage,uname)"
   ]
  },
  {
   "cell_type": "code",
   "execution_count": 33,
   "id": "41005d23-3bc6-485f-a0c2-69145fb225b2",
   "metadata": {},
   "outputs": [
    {
     "name": "stdin",
     "output_type": "stream",
     "text": [
      "Enter your name: Amit\n",
      "Enter your age: 45\n"
     ]
    },
    {
     "name": "stdout",
     "output_type": "stream",
     "text": [
      "Name: Amit\n",
      "Age: 45\n"
     ]
    }
   ],
   "source": [
    "#Keyword arguments\n",
    "uname=input(\"Enter your name:\")\n",
    "uage=int(input(\"Enter your age:\"))\n",
    "def func(name,age):\n",
    "    print(\"Name:\",name)\n",
    "    print(\"Age:\",age)\n",
    "\n",
    "#func(name=uname,age=uage)\n",
    "func(age=uage,name=uname)"
   ]
  },
  {
   "cell_type": "code",
   "execution_count": 35,
   "id": "441a1ee9-387a-44db-b521-aef8cbb25ff3",
   "metadata": {},
   "outputs": [
    {
     "name": "stdout",
     "output_type": "stream",
     "text": [
      "Hi, Amit\n",
      "Hi, Garima\n",
      "Hi, Aadhya\n",
      "Hi, Rahul\n"
     ]
    }
   ],
   "source": [
    "#Arbitary AArgs\n",
    "def greet(*names):\n",
    "    for name in names:\n",
    "        print('Hi,',name)\n",
    "\n",
    "greet(\"Amit\",\"Garima\",\"Aadhya\",\"Rahul\")"
   ]
  },
  {
   "cell_type": "code",
   "execution_count": 36,
   "id": "0bf23d9e-fe94-4ff9-b933-ba335ac11cfe",
   "metadata": {},
   "outputs": [
    {
     "name": "stdout",
     "output_type": "stream",
     "text": [
      "Hi, Amit\n",
      "Hi, Garima\n",
      "Hi, Aadhya\n",
      "Hi, Rahul\n"
     ]
    }
   ],
   "source": [
    "#Alternate for Arbitary\n",
    "def greet(names):\n",
    "    for name in names:\n",
    "        print('Hi,',name)\n",
    "\n",
    "greet([\"Amit\",\"Garima\",\"Aadhya\",\"Rahul\"])"
   ]
  },
  {
   "cell_type": "code",
   "execution_count": 39,
   "id": "3d3a8e23-f10d-4e12-81e9-45543eff6916",
   "metadata": {},
   "outputs": [
    {
     "name": "stdout",
     "output_type": "stream",
     "text": [
      "Name: Amit\n",
      "Age: 35\n"
     ]
    }
   ],
   "source": [
    "#Default Arguments\n",
    "def greet(name,age=35):\n",
    "    print(\"Name:\",name)\n",
    "    print(\"Age:\",age)\n",
    "\n",
    "#greet(\"Amit\",55)\n",
    "greet(\"Amit\")"
   ]
  },
  {
   "cell_type": "code",
   "execution_count": 41,
   "id": "6051e4b1-9d5b-4a38-a5cb-06d6ce9dd17a",
   "metadata": {},
   "outputs": [
    {
     "name": "stdout",
     "output_type": "stream",
     "text": [
      "112\n",
      "157\n"
     ]
    }
   ],
   "source": [
    "#Python Lambda functions-Less Code More work-Shorthand Functions\n",
    "#No name function\n",
    "#single line body-Single expression\n",
    "#default return\n",
    "def add(var1,var2):\n",
    "    result=var1+var2\n",
    "    return result\n",
    "    \n",
    "#lambda arguments:Expression\n",
    "x=lambda var1,var2:var1+var2  \n",
    "print(x(45,67))  #Method 1\n",
    "x=(lambda var1,var2:var1+var2)(67,90) #Method 2\n",
    "print(x)"
   ]
  },
  {
   "cell_type": "code",
   "execution_count": 46,
   "id": "613e5a3e-db67-461b-af65-d183f26f51fb",
   "metadata": {},
   "outputs": [
    {
     "name": "stdout",
     "output_type": "stream",
     "text": [
      "<map object at 0x000001FD245B9420>\n",
      "[30, 60, 90, 120, 150]\n"
     ]
    }
   ],
   "source": [
    "#Advanced Functions: Map(),filter(),Reduce()\n",
    "#map()\n",
    "#(lambda,iteratable objecct)\n",
    "lst=[10,20,30,40,50]\n",
    "new_lst=map(lambda x:x*3,lst)\n",
    "print(new_lst)\n",
    "print(list(new_lst))"
   ]
  },
  {
   "cell_type": "code",
   "execution_count": null,
   "id": "060bc2ca-b119-4428-b80f-ce37bb95697d",
   "metadata": {},
   "outputs": [],
   "source": [
    "#******normal Function*********\n",
    "lst=[45,32,15,16,89,90,40,75]\n",
    "def even_odd(lst):\n",
    "    even_lst=[]\n",
    "    odd_lst=[]\n",
    "    for x in lst:\n",
    "        if x%2==0:\n",
    "            even_lst.append(x)\n",
    "        else:\n",
    "            odd_lst.append(x)\n",
    "    print(f\"Even elements:{even_lst},Odd elements:{odd_lst}\")\n",
    "print(even_odd(lst))\n",
    "#*****************************"
   ]
  },
  {
   "cell_type": "code",
   "execution_count": 48,
   "id": "27900809-0ae8-46ed-9921-68a4690dba82",
   "metadata": {},
   "outputs": [
    {
     "name": "stdout",
     "output_type": "stream",
     "text": [
      "Even elements: [32, 16, 90, 40],Odd elements: [45, 15, 89, 75]\n"
     ]
    }
   ],
   "source": [
    "#Filter()\n",
    "lst=[45,32,15,16,89,90,40,75]\n",
    "even_lst=list(filter(lambda x:x%2==0,lst))\n",
    "odd_lst=list(filter(lambda x:x%2!=0,lst))\n",
    "print(f\"Even elements: {even_lst},Odd elements: {odd_lst}\")"
   ]
  },
  {
   "cell_type": "code",
   "execution_count": 52,
   "id": "bbc1cc23-0a0f-495d-b83f-2539e10245aa",
   "metadata": {},
   "outputs": [
    {
     "name": "stdout",
     "output_type": "stream",
     "text": [
      "Total sales: 1725\n"
     ]
    }
   ],
   "source": [
    "#Reduce()\n",
    "from functools import reduce\n",
    "sales=[123,234,345,456,567]\n",
    "total_sales=reduce(lambda x,y:x+y,sales)\n",
    "print(\"Total sales:\",total_sales)"
   ]
  },
  {
   "cell_type": "code",
   "execution_count": null,
   "id": "b141f432-b678-4ad1-9e1f-80c0dbdd1c57",
   "metadata": {},
   "outputs": [],
   "source": []
  }
 ],
 "metadata": {
  "kernelspec": {
   "display_name": "Python 3 (ipykernel)",
   "language": "python",
   "name": "python3"
  },
  "language_info": {
   "codemirror_mode": {
    "name": "ipython",
    "version": 3
   },
   "file_extension": ".py",
   "mimetype": "text/x-python",
   "name": "python",
   "nbconvert_exporter": "python",
   "pygments_lexer": "ipython3",
   "version": "3.12.2"
  }
 },
 "nbformat": 4,
 "nbformat_minor": 5
}

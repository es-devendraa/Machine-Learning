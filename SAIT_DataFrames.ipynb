{
 "cells": [
  {
   "cell_type": "code",
   "execution_count": 1,
   "id": "4e4e2de4-d92f-467d-bb67-c8998ca0c720",
   "metadata": {},
   "outputs": [],
   "source": [
    "#import and Export\n",
    "#File Types: csv,excel,JSON,HTML,Paraquet\n",
    "\n",
    "#import(File-->DF) function:read_csv(),read_excel(),read_json()\n",
    "#Export(DF-->File) function:to_csv(),to_excel(),to_json()"
   ]
  },
  {
   "cell_type": "code",
   "execution_count": 2,
   "id": "b378a14a-4020-475b-817d-c78c0cae846f",
   "metadata": {},
   "outputs": [
    {
     "name": "stdout",
     "output_type": "stream",
     "text": [
      "      Pid  Pregnancies  Glucose  BloodPressure  SkinThickness  Insulin   BMI  \\\n",
      "0    1000            6      148             72             35    250.0  33.6   \n",
      "1    1001            1       85             66             29    300.0  26.6   \n",
      "2    1002            8      183             64              0      NaN  23.3   \n",
      "3    1003            1       89             66             23     94.0  28.1   \n",
      "4    1004            0      137             40             35    168.0  43.1   \n",
      "..    ...          ...      ...            ...            ...      ...   ...   \n",
      "763  1763           10      101             76             48    180.0  32.9   \n",
      "764  1764            2      122             70             27      0.0  36.8   \n",
      "765  1765            5      121             72             23    112.0  26.2   \n",
      "766  1766            1      126             60              0      0.0  30.1   \n",
      "767  1767            1       93             70             31      0.0  30.4   \n",
      "\n",
      "     DiabetesPedigreeFunction  Age  Outcome  \n",
      "0                       0.627   50        1  \n",
      "1                       0.351   31        0  \n",
      "2                       0.672   32        1  \n",
      "3                       0.167   21        0  \n",
      "4                       2.288   33        1  \n",
      "..                        ...  ...      ...  \n",
      "763                     0.171   63        0  \n",
      "764                     0.340   27        0  \n",
      "765                     0.245   30        0  \n",
      "766                     0.349   47        1  \n",
      "767                     0.315   23        0  \n",
      "\n",
      "[768 rows x 10 columns]\n"
     ]
    }
   ],
   "source": [
    "import pandas as pd\n",
    "sample_df=pd.read_csv('diabetes.csv')\n",
    "print(sample_df)"
   ]
  },
  {
   "cell_type": "code",
   "execution_count": 3,
   "id": "7b3dec16-1b94-48da-b684-6a64b6ac0959",
   "metadata": {},
   "outputs": [
    {
     "name": "stdout",
     "output_type": "stream",
     "text": [
      "(768, 10)\n"
     ]
    }
   ],
   "source": [
    "print(sample_df.shape)"
   ]
  },
  {
   "cell_type": "code",
   "execution_count": 4,
   "id": "a18ccf44-3212-4962-ad66-d839b4071a5c",
   "metadata": {},
   "outputs": [
    {
     "name": "stdout",
     "output_type": "stream",
     "text": [
      "<class 'pandas.core.frame.DataFrame'>\n",
      "RangeIndex: 768 entries, 0 to 767\n",
      "Data columns (total 10 columns):\n",
      " #   Column                    Non-Null Count  Dtype  \n",
      "---  ------                    --------------  -----  \n",
      " 0   Pid                       768 non-null    int64  \n",
      " 1   Pregnancies               768 non-null    int64  \n",
      " 2   Glucose                   768 non-null    int64  \n",
      " 3   BloodPressure             768 non-null    int64  \n",
      " 4   SkinThickness             768 non-null    int64  \n",
      " 5   Insulin                   766 non-null    float64\n",
      " 6   BMI                       768 non-null    float64\n",
      " 7   DiabetesPedigreeFunction  768 non-null    float64\n",
      " 8   Age                       768 non-null    int64  \n",
      " 9   Outcome                   768 non-null    int64  \n",
      "dtypes: float64(3), int64(7)\n",
      "memory usage: 60.1 KB\n",
      "None\n"
     ]
    }
   ],
   "source": [
    "print(sample_df.info())"
   ]
  },
  {
   "cell_type": "code",
   "execution_count": 5,
   "id": "75be29ec-0ad7-49be-9135-f68d975d7591",
   "metadata": {},
   "outputs": [
    {
     "name": "stdout",
     "output_type": "stream",
     "text": [
      "               Pid  Pregnancies     Glucose  BloodPressure  SkinThickness  \\\n",
      "count   768.000000   768.000000  768.000000     768.000000     768.000000   \n",
      "mean   1383.500000     3.845052  120.894531      69.105469      20.536458   \n",
      "std     221.846794     3.369578   31.972618      19.355807      15.952218   \n",
      "min    1000.000000     0.000000    0.000000       0.000000       0.000000   \n",
      "25%    1191.750000     1.000000   99.000000      62.000000       0.000000   \n",
      "50%    1383.500000     3.000000  117.000000      72.000000      23.000000   \n",
      "75%    1575.250000     6.000000  140.250000      80.000000      32.000000   \n",
      "max    1767.000000    17.000000  199.000000     122.000000      99.000000   \n",
      "\n",
      "          Insulin         BMI  DiabetesPedigreeFunction         Age  \\\n",
      "count  766.000000  768.000000                768.000000  768.000000   \n",
      "mean    81.248042   31.992578                  0.471876   33.240885   \n",
      "std    116.221576    7.884160                  0.331329   11.760232   \n",
      "min      0.000000    0.000000                  0.078000   21.000000   \n",
      "25%      0.000000   27.300000                  0.243750   24.000000   \n",
      "50%     36.500000   32.000000                  0.372500   29.000000   \n",
      "75%    130.000000   36.600000                  0.626250   41.000000   \n",
      "max    846.000000   67.100000                  2.420000   81.000000   \n",
      "\n",
      "          Outcome  \n",
      "count  768.000000  \n",
      "mean     0.348958  \n",
      "std      0.476951  \n",
      "min      0.000000  \n",
      "25%      0.000000  \n",
      "50%      0.000000  \n",
      "75%      1.000000  \n",
      "max      1.000000  \n"
     ]
    }
   ],
   "source": [
    "print(sample_df.describe())"
   ]
  },
  {
   "cell_type": "code",
   "execution_count": 6,
   "id": "050f3f18-927c-4d60-a36a-7c852b58381f",
   "metadata": {},
   "outputs": [
    {
     "name": "stdout",
     "output_type": "stream",
     "text": [
      "count    768.000000\n",
      "mean     120.894531\n",
      "std       31.972618\n",
      "min        0.000000\n",
      "25%       99.000000\n",
      "50%      117.000000\n",
      "75%      140.250000\n",
      "max      199.000000\n",
      "Name: Glucose, dtype: float64\n"
     ]
    }
   ],
   "source": [
    "print(sample_df['Glucose'].describe())"
   ]
  },
  {
   "cell_type": "code",
   "execution_count": 7,
   "id": "c462e003-e229-4a3f-8518-3de88b0881e2",
   "metadata": {},
   "outputs": [],
   "source": [
    "#Exporting(DF--->File)\n",
    "sample_df.to_csv('New_DibeticData.csv')"
   ]
  },
  {
   "cell_type": "code",
   "execution_count": 8,
   "id": "ed2f0b68-760a-49ad-9bf3-726c46c0c570",
   "metadata": {},
   "outputs": [],
   "source": [
    "sample_df.to_excel('NewFile.xlsx')"
   ]
  },
  {
   "cell_type": "code",
   "execution_count": 9,
   "id": "bf0a03bb-fe70-4ce8-9e5b-9de0b6d16e89",
   "metadata": {},
   "outputs": [],
   "source": [
    "sample_df.to_json('NewFile.js')"
   ]
  },
  {
   "cell_type": "code",
   "execution_count": 10,
   "id": "2f8632c4-bd99-4a72-be84-15cc2287fce5",
   "metadata": {},
   "outputs": [
    {
     "name": "stdout",
     "output_type": "stream",
     "text": [
      "      Pid  Pregnancies  Glucose  BloodPressure  SkinThickness  Insulin   BMI  \\\n",
      "0    1000            6      148             72             35    250.0  33.6   \n",
      "1    1001            1       85             66             29    300.0  26.6   \n",
      "2    1002            8      183             64              0      NaN  23.3   \n",
      "3    1003            1       89             66             23     94.0  28.1   \n",
      "4    1004            0      137             40             35    168.0  43.1   \n",
      "..    ...          ...      ...            ...            ...      ...   ...   \n",
      "763  1763           10      101             76             48    180.0  32.9   \n",
      "764  1764            2      122             70             27      0.0  36.8   \n",
      "765  1765            5      121             72             23    112.0  26.2   \n",
      "766  1766            1      126             60              0      0.0  30.1   \n",
      "767  1767            1       93             70             31      0.0  30.4   \n",
      "\n",
      "     DiabetesPedigreeFunction  Age  Outcome  \n",
      "0                       0.627   50        1  \n",
      "1                       0.351   31        0  \n",
      "2                       0.672   32        1  \n",
      "3                       0.167   21        0  \n",
      "4                       2.288   33        1  \n",
      "..                        ...  ...      ...  \n",
      "763                     0.171   63        0  \n",
      "764                     0.340   27        0  \n",
      "765                     0.245   30        0  \n",
      "766                     0.349   47        1  \n",
      "767                     0.315   23        0  \n",
      "\n",
      "[768 rows x 10 columns]\n"
     ]
    }
   ],
   "source": [
    "#Header\n",
    "df=pd.read_csv('diabetes.csv')  #Default header=0\n",
    "print(df)"
   ]
  },
  {
   "cell_type": "code",
   "execution_count": 11,
   "id": "3b0b0b8c-a67b-4362-9200-5f96c052f43b",
   "metadata": {},
   "outputs": [
    {
     "name": "stdout",
     "output_type": "stream",
     "text": [
      "        0            1        2              3              4        5     6  \\\n",
      "0     Pid  Pregnancies  Glucose  BloodPressure  SkinThickness  Insulin   BMI   \n",
      "1    1000            6      148             72             35      250  33.6   \n",
      "2    1001            1       85             66             29      300  26.6   \n",
      "3    1002            8      183             64              0      NaN  23.3   \n",
      "4    1003            1       89             66             23       94  28.1   \n",
      "..    ...          ...      ...            ...            ...      ...   ...   \n",
      "764  1763           10      101             76             48      180  32.9   \n",
      "765  1764            2      122             70             27        0  36.8   \n",
      "766  1765            5      121             72             23      112  26.2   \n",
      "767  1766            1      126             60              0        0  30.1   \n",
      "768  1767            1       93             70             31        0  30.4   \n",
      "\n",
      "                            7    8        9  \n",
      "0    DiabetesPedigreeFunction  Age  Outcome  \n",
      "1                       0.627   50        1  \n",
      "2                       0.351   31        0  \n",
      "3                       0.672   32        1  \n",
      "4                       0.167   21        0  \n",
      "..                        ...  ...      ...  \n",
      "764                     0.171   63        0  \n",
      "765                      0.34   27        0  \n",
      "766                     0.245   30        0  \n",
      "767                     0.349   47        1  \n",
      "768                     0.315   23        0  \n",
      "\n",
      "[769 rows x 10 columns]\n"
     ]
    }
   ],
   "source": [
    "df=pd.read_csv('diabetes.csv',header=None)\n",
    "print(df)"
   ]
  },
  {
   "cell_type": "code",
   "execution_count": 12,
   "id": "a95668b5-e9b2-47ee-9e36-e6c0109341c0",
   "metadata": {},
   "outputs": [
    {
     "name": "stdout",
     "output_type": "stream",
     "text": [
      "      Pregnancies  Glucose  BloodPressure  SkinThickness  Insulin   BMI  \\\n",
      "Pid                                                                       \n",
      "1000            6      148             72             35    250.0  33.6   \n",
      "1001            1       85             66             29    300.0  26.6   \n",
      "1002            8      183             64              0      NaN  23.3   \n",
      "1003            1       89             66             23     94.0  28.1   \n",
      "1004            0      137             40             35    168.0  43.1   \n",
      "...           ...      ...            ...            ...      ...   ...   \n",
      "1763           10      101             76             48    180.0  32.9   \n",
      "1764            2      122             70             27      0.0  36.8   \n",
      "1765            5      121             72             23    112.0  26.2   \n",
      "1766            1      126             60              0      0.0  30.1   \n",
      "1767            1       93             70             31      0.0  30.4   \n",
      "\n",
      "      DiabetesPedigreeFunction  Age  Outcome  \n",
      "Pid                                           \n",
      "1000                     0.627   50        1  \n",
      "1001                     0.351   31        0  \n",
      "1002                     0.672   32        1  \n",
      "1003                     0.167   21        0  \n",
      "1004                     2.288   33        1  \n",
      "...                        ...  ...      ...  \n",
      "1763                     0.171   63        0  \n",
      "1764                     0.340   27        0  \n",
      "1765                     0.245   30        0  \n",
      "1766                     0.349   47        1  \n",
      "1767                     0.315   23        0  \n",
      "\n",
      "[768 rows x 9 columns]\n",
      "Index(['Pregnancies', 'Glucose', 'BloodPressure', 'SkinThickness', 'Insulin',\n",
      "       'BMI', 'DiabetesPedigreeFunction', 'Age', 'Outcome'],\n",
      "      dtype='object')\n"
     ]
    }
   ],
   "source": [
    "#Setting Index column\n",
    "df=pd.read_csv('diabetes.csv',index_col=['Pid'])\n",
    "#df=pd.read_csv('diabetes.csv',index_col=['Pid','Glucose']) #Multiple index\n",
    "print(df)\n",
    "print(df.columns)"
   ]
  },
  {
   "cell_type": "code",
   "execution_count": 13,
   "id": "3408e789-8685-4bab-8840-d6f2512d3323",
   "metadata": {},
   "outputs": [],
   "source": [
    "#Selectors(sample):1.Label based 2.Index based 3.Conditional 4.Random Sampling"
   ]
  },
  {
   "cell_type": "code",
   "execution_count": 14,
   "id": "f589c9b3-f2bc-4387-9a35-3ccc945b549e",
   "metadata": {},
   "outputs": [
    {
     "name": "stdout",
     "output_type": "stream",
     "text": [
      "      Pregnancies  Glucose  BloodPressure  SkinThickness  Insulin   BMI  \\\n",
      "Pid                                                                       \n",
      "1000            6      148             72             35    250.0  33.6   \n",
      "1001            1       85             66             29    300.0  26.6   \n",
      "1002            8      183             64              0      NaN  23.3   \n",
      "1003            1       89             66             23     94.0  28.1   \n",
      "1004            0      137             40             35    168.0  43.1   \n",
      "...           ...      ...            ...            ...      ...   ...   \n",
      "1763           10      101             76             48    180.0  32.9   \n",
      "1764            2      122             70             27      0.0  36.8   \n",
      "1765            5      121             72             23    112.0  26.2   \n",
      "1766            1      126             60              0      0.0  30.1   \n",
      "1767            1       93             70             31      0.0  30.4   \n",
      "\n",
      "      DiabetesPedigreeFunction  Age  Outcome  \n",
      "Pid                                           \n",
      "1000                     0.627   50        1  \n",
      "1001                     0.351   31        0  \n",
      "1002                     0.672   32        1  \n",
      "1003                     0.167   21        0  \n",
      "1004                     2.288   33        1  \n",
      "...                        ...  ...      ...  \n",
      "1763                     0.171   63        0  \n",
      "1764                     0.340   27        0  \n",
      "1765                     0.245   30        0  \n",
      "1766                     0.349   47        1  \n",
      "1767                     0.315   23        0  \n",
      "\n",
      "[768 rows x 9 columns]\n"
     ]
    }
   ],
   "source": [
    "df=pd.read_csv('diabetes.csv',index_col=['Pid'])\n",
    "print(df)"
   ]
  },
  {
   "cell_type": "code",
   "execution_count": 15,
   "id": "ef3c1c93-8964-4e6c-85ce-b5055cad9e9d",
   "metadata": {},
   "outputs": [
    {
     "name": "stdout",
     "output_type": "stream",
     "text": [
      "      Pregnancies  Glucose  BloodPressure  SkinThickness  Insulin   BMI  \\\n",
      "Pid                                                                       \n",
      "1281           10      129             76             28    122.0  35.9   \n",
      "1766            1      126             60              0      0.0  30.1   \n",
      "1483            0       84             82             31    125.0  38.2   \n",
      "1085            2      110             74             29    125.0  32.4   \n",
      "1208            1       96             64             27     87.0  33.2   \n",
      "\n",
      "      DiabetesPedigreeFunction  Age  Outcome  \n",
      "Pid                                           \n",
      "1281                     0.280   39        0  \n",
      "1766                     0.349   47        1  \n",
      "1483                     0.233   23        0  \n",
      "1085                     0.698   27        0  \n",
      "1208                     0.289   21        0  \n"
     ]
    }
   ],
   "source": [
    "#Random Sampling\n",
    "print(df.sample(5)) #Randomly picked 5 records"
   ]
  },
  {
   "cell_type": "code",
   "execution_count": 16,
   "id": "a344be37-1d87-45c8-bed6-6b458164577d",
   "metadata": {},
   "outputs": [
    {
     "name": "stdout",
     "output_type": "stream",
     "text": [
      "31\n"
     ]
    }
   ],
   "source": [
    "#Label-Based Selection: at[],loc[]\n",
    "print(df.at[1001,'Age'])  #at[row_index,col_label]"
   ]
  },
  {
   "cell_type": "code",
   "execution_count": 17,
   "id": "5de92f6f-0a6e-40e4-b6fa-5bd655c29ffb",
   "metadata": {},
   "outputs": [
    {
     "name": "stdout",
     "output_type": "stream",
     "text": [
      "      Pregnancies  Glucose  BloodPressure  SkinThickness  Insulin   BMI  \\\n",
      "Pid                                                                       \n",
      "1000            6      148             72             35    250.0  33.6   \n",
      "1001            1       85             66             29    300.0  26.6   \n",
      "1002            8      183             64              0      NaN  23.3   \n",
      "1003            1       89             66             23     94.0  28.1   \n",
      "1004            0      137             40             35    168.0  43.1   \n",
      "...           ...      ...            ...            ...      ...   ...   \n",
      "1763           10      101             76             48    180.0  32.9   \n",
      "1764            2      122             70             27      0.0  36.8   \n",
      "1765            5      121             72             23    112.0  26.2   \n",
      "1766            1      126             60              0      0.0  30.1   \n",
      "1767            1       93             70             31      0.0  30.4   \n",
      "\n",
      "      DiabetesPedigreeFunction  Age  Outcome  \n",
      "Pid                                           \n",
      "1000                     0.627   50        1  \n",
      "1001                     0.351   50        0  \n",
      "1002                     0.672   32        1  \n",
      "1003                     0.167   21        0  \n",
      "1004                     2.288   33        1  \n",
      "...                        ...  ...      ...  \n",
      "1763                     0.171   63        0  \n",
      "1764                     0.340   27        0  \n",
      "1765                     0.245   30        0  \n",
      "1766                     0.349   47        1  \n",
      "1767                     0.315   23        0  \n",
      "\n",
      "[768 rows x 9 columns]\n"
     ]
    }
   ],
   "source": [
    "#updating value\n",
    "df.at[1001,'Age']=50\n",
    "print(df)"
   ]
  },
  {
   "cell_type": "code",
   "execution_count": 18,
   "id": "2d9c848d-2f1d-4e86-a8ee-9bfcba674135",
   "metadata": {},
   "outputs": [
    {
     "name": "stdout",
     "output_type": "stream",
     "text": [
      "      Pregnancies  Glucose  BloodPressure  SkinThickness  Insulin   BMI  \\\n",
      "Pid                                                                       \n",
      "1000            6      148             72             35    250.0  33.6   \n",
      "1001            1       85             66             29    300.0  26.6   \n",
      "1002            8      183             64              0      NaN  23.3   \n",
      "1003            1       89             66             23     94.0  28.1   \n",
      "1004            0      137             40             35    168.0  43.1   \n",
      "...           ...      ...            ...            ...      ...   ...   \n",
      "1763           10      101             76             48    180.0  32.9   \n",
      "1764            2      122             70             27      0.0  36.8   \n",
      "1765            5      121             72             23    112.0  26.2   \n",
      "1766            1      126             60              0      0.0  30.1   \n",
      "1767            1       93             70             31      0.0  30.4   \n",
      "\n",
      "      DiabetesPedigreeFunction  Age  Outcome    City  \n",
      "Pid                                                   \n",
      "1000                     0.627   50        1     nan  \n",
      "1001                     0.351   50        0  Indore  \n",
      "1002                     0.672   32        1     nan  \n",
      "1003                     0.167   21        0     nan  \n",
      "1004                     2.288   33        1     nan  \n",
      "...                        ...  ...      ...     ...  \n",
      "1763                     0.171   63        0     nan  \n",
      "1764                     0.340   27        0     nan  \n",
      "1765                     0.245   30        0     nan  \n",
      "1766                     0.349   47        1     nan  \n",
      "1767                     0.315   23        0     nan  \n",
      "\n",
      "[768 rows x 10 columns]\n"
     ]
    }
   ],
   "source": [
    "#Adding new Column\n",
    "df.at[1001,'City']='Indore'\n",
    "print(df)"
   ]
  },
  {
   "cell_type": "code",
   "execution_count": 19,
   "id": "d29bd956-d0f4-41b0-867f-2954b2ee1a90",
   "metadata": {},
   "outputs": [
    {
     "name": "stdout",
     "output_type": "stream",
     "text": [
      "      Glucose  Insulin  Age\n",
      "Pid                        \n",
      "1001       85    300.0   50\n",
      "1002      183      NaN   32\n",
      "1003       89     94.0   21\n",
      "1004      137    168.0   33\n",
      "1005      116      NaN   30\n"
     ]
    }
   ],
   "source": [
    "df_sample=df.loc[1001:1005,['Glucose','Insulin','Age']]\n",
    "print(df_sample)#loc[row index range,list of columns]"
   ]
  },
  {
   "cell_type": "code",
   "execution_count": 20,
   "id": "b7e1b1ca-9153-4053-9992-4d5e347e66ec",
   "metadata": {},
   "outputs": [
    {
     "name": "stdout",
     "output_type": "stream",
     "text": [
      "      Glucose  Insulin  Age\n",
      "Pid                        \n",
      "1001       85    300.0   50\n",
      "1056      187    304.0   41\n",
      "1766      126      0.0   47\n"
     ]
    }
   ],
   "source": [
    "#Specific indices\n",
    "df_sample=df.loc[[1001,1056,1766],['Glucose','Insulin','Age']]\n",
    "print(df_sample)"
   ]
  },
  {
   "cell_type": "code",
   "execution_count": 21,
   "id": "16205fab-9bb0-49f0-bd42-9965c55eb1bd",
   "metadata": {},
   "outputs": [
    {
     "name": "stdout",
     "output_type": "stream",
     "text": [
      "        City\n",
      "Pid         \n",
      "1001  Mumbai\n",
      "1056  Mumbai\n",
      "1766  Mumbai\n",
      "      Pregnancies  Glucose  BloodPressure  SkinThickness  Insulin   BMI  \\\n",
      "Pid                                                                       \n",
      "1000            6      148             72             35    250.0  33.6   \n",
      "1001            1       85             66             29    300.0  26.6   \n",
      "1002            8      183             64              0      NaN  23.3   \n",
      "1003            1       89             66             23     94.0  28.1   \n",
      "1004            0      137             40             35    168.0  43.1   \n",
      "...           ...      ...            ...            ...      ...   ...   \n",
      "1763           10      101             76             48    180.0  32.9   \n",
      "1764            2      122             70             27      0.0  36.8   \n",
      "1765            5      121             72             23    112.0  26.2   \n",
      "1766            1      126             60              0      0.0  30.1   \n",
      "1767            1       93             70             31      0.0  30.4   \n",
      "\n",
      "      DiabetesPedigreeFunction  Age  Outcome    City  \n",
      "Pid                                                   \n",
      "1000                     0.627   50        1     nan  \n",
      "1001                     0.351   50        0  Mumbai  \n",
      "1002                     0.672   32        1     nan  \n",
      "1003                     0.167   21        0     nan  \n",
      "1004                     2.288   33        1     nan  \n",
      "...                        ...  ...      ...     ...  \n",
      "1763                     0.171   63        0     nan  \n",
      "1764                     0.340   27        0     nan  \n",
      "1765                     0.245   30        0     nan  \n",
      "1766                     0.349   47        1  Mumbai  \n",
      "1767                     0.315   23        0     nan  \n",
      "\n",
      "[768 rows x 10 columns]\n"
     ]
    }
   ],
   "source": [
    "df.loc[[1001,1056,1766],['City']]='Mumbai'\n",
    "print(df.loc[[1001,1056,1766],['City']])\n",
    "print(df)"
   ]
  },
  {
   "cell_type": "code",
   "execution_count": 22,
   "id": "c2df9f7d-ef27-4398-b98c-e57106b7265a",
   "metadata": {},
   "outputs": [
    {
     "name": "stdout",
     "output_type": "stream",
     "text": [
      "      Glucose  BloodPressure   BMI\n",
      "Pid                               \n",
      "1000      148             72  33.6\n",
      "1001       85             66  26.6\n",
      "1002      183             64  23.3\n",
      "1003       89             66  28.1\n",
      "1004      137             40  43.1\n"
     ]
    }
   ],
   "source": [
    "#2.Index based selections: iloc()\n",
    "print(df.iloc[0:5,[1,2,5]])  #iloc[index(default) range,column index range]"
   ]
  },
  {
   "cell_type": "code",
   "execution_count": 23,
   "id": "9272a5dd-e690-47b8-aa24-07049f177ca1",
   "metadata": {},
   "outputs": [
    {
     "name": "stdout",
     "output_type": "stream",
     "text": [
      "      Pregnancies  Glucose  BloodPressure  SkinThickness  Insulin   BMI  \\\n",
      "Pid                                                                       \n",
      "1043            9      171            110             24    240.0  45.4   \n",
      "1084            5      137            108              0      0.0  48.8   \n",
      "1106            1       96            122              0      0.0  22.4   \n",
      "1177            0      129            110             46    130.0  67.1   \n",
      "1207            5      162            104              0      0.0  37.7   \n",
      "1362            5      103            108             37      0.0  39.2   \n",
      "1369            1      133            102             28    140.0  32.8   \n",
      "1440            0      189            104             25      0.0  34.3   \n",
      "1549            4      189            110             31      0.0  28.5   \n",
      "1658           11      127            106              0      0.0  39.0   \n",
      "1662            8      167            106             46    231.0  37.6   \n",
      "1672           10       68            106             23     49.0  35.5   \n",
      "1691           13      158            114              0      0.0  42.3   \n",
      "\n",
      "      DiabetesPedigreeFunction  Age  Outcome City  \n",
      "Pid                                                \n",
      "1043                     0.721   54        1  nan  \n",
      "1084                     0.227   37        1  nan  \n",
      "1106                     0.207   27        0  nan  \n",
      "1177                     0.319   26        1  nan  \n",
      "1207                     0.151   52        1  nan  \n",
      "1362                     0.305   65        0  nan  \n",
      "1369                     0.234   45        1  nan  \n",
      "1440                     0.435   41        1  nan  \n",
      "1549                     0.680   37        0  nan  \n",
      "1658                     0.190   51        0  nan  \n",
      "1662                     0.165   43        1  nan  \n",
      "1672                     0.285   47        0  nan  \n",
      "1691                     0.257   44        1  nan  \n"
     ]
    }
   ],
   "source": [
    "#conditional Selections\n",
    "print(df[df['BloodPressure']>100]) #df[condition on column]"
   ]
  },
  {
   "cell_type": "code",
   "execution_count": 24,
   "id": "c8e7f6b4-2455-4945-9f54-dc00fb936702",
   "metadata": {},
   "outputs": [
    {
     "name": "stdout",
     "output_type": "stream",
     "text": [
      "      Pregnancies  Glucose  BloodPressure  SkinThickness  Insulin   BMI  \\\n",
      "Pid                                                                       \n",
      "1043            9      171            110             24    240.0  45.4   \n",
      "1084            5      137            108              0      0.0  48.8   \n",
      "1106            1       96            122              0      0.0  22.4   \n",
      "1115            4      146             92              0      0.0  31.2   \n",
      "1123            5      132             80              0      0.0  26.8   \n",
      "1129            0      105             84              0      0.0  27.9   \n",
      "1148            5      147             78              0      0.0  33.7   \n",
      "1177            0      129            110             46    130.0  67.1   \n",
      "1207            5      162            104              0      0.0  37.7   \n",
      "1221            2      158             90              0      0.0  31.6   \n",
      "1223            7      142             60             33    190.0  28.8   \n",
      "1263            3      142             80             15      0.0  32.4   \n",
      "1294            0      161             50              0      0.0  21.9   \n",
      "1361            5      158             70              0      0.0  29.8   \n",
      "1362            5      103            108             37      0.0  39.2   \n",
      "1363            4      146             78              0      0.0  38.5   \n",
      "1369            1      133            102             28    140.0  32.8   \n",
      "1440            0      189            104             25      0.0  34.3   \n",
      "1453            2      119              0              0      0.0  19.6   \n",
      "1456            1      135             54              0      0.0  26.7   \n",
      "1459            9      134             74             33     60.0  25.9   \n",
      "1479            4      132             86             31      0.0  28.0   \n",
      "1489            8      194             80              0      0.0  26.1   \n",
      "1495            6      166             74              0      0.0  26.6   \n",
      "1509            8      120             78              0      0.0  25.0   \n",
      "1537            0       57             60              0      0.0  21.7   \n",
      "1549            4      189            110             31      0.0  28.5   \n",
      "1552            6      114             88              0      0.0  27.8   \n",
      "1579            2      197             70             99      0.0  34.7   \n",
      "1582           12      121             78             17      0.0  26.5   \n",
      "1658           11      127            106              0      0.0  39.0   \n",
      "1662            8      167            106             46    231.0  37.6   \n",
      "1666            4      145             82             18      0.0  32.5   \n",
      "1672           10       68            106             23     49.0  35.5   \n",
      "1674            8       91             82              0      0.0  35.6   \n",
      "1684            5      136             82              0      0.0   0.0   \n",
      "1691           13      158            114              0      0.0  42.3   \n",
      "1759            6      190             92              0      0.0  35.5   \n",
      "1763           10      101             76             48    180.0  32.9   \n",
      "\n",
      "      DiabetesPedigreeFunction  Age  Outcome City  \n",
      "Pid                                                \n",
      "1043                     0.721   54        1  nan  \n",
      "1084                     0.227   37        1  nan  \n",
      "1106                     0.207   27        0  nan  \n",
      "1115                     0.539   61        1  nan  \n",
      "1123                     0.186   69        0  nan  \n",
      "1129                     0.741   62        1  nan  \n",
      "1148                     0.218   65        0  nan  \n",
      "1177                     0.319   26        1  nan  \n",
      "1207                     0.151   52        1  nan  \n",
      "1221                     0.805   66        1  nan  \n",
      "1223                     0.687   61        0  nan  \n",
      "1263                     0.200   63        0  nan  \n",
      "1294                     0.254   65        0  nan  \n",
      "1361                     0.207   63        0  nan  \n",
      "1362                     0.305   65        0  nan  \n",
      "1363                     0.520   67        1  nan  \n",
      "1369                     0.234   45        1  nan  \n",
      "1440                     0.435   41        1  nan  \n",
      "1453                     0.832   72        0  nan  \n",
      "1456                     0.687   62        0  nan  \n",
      "1459                     0.460   81        0  nan  \n",
      "1479                     0.419   63        0  nan  \n",
      "1489                     0.551   67        0  nan  \n",
      "1495                     0.304   66        0  nan  \n",
      "1509                     0.409   64        0  nan  \n",
      "1537                     0.735   67        0  nan  \n",
      "1549                     0.680   37        0  nan  \n",
      "1552                     0.247   66        0  nan  \n",
      "1579                     0.575   62        1  nan  \n",
      "1582                     0.259   62        0  nan  \n",
      "1658                     0.190   51        0  nan  \n",
      "1662                     0.165   43        1  nan  \n",
      "1666                     0.235   70        1  nan  \n",
      "1672                     0.285   47        0  nan  \n",
      "1674                     0.587   68        0  nan  \n",
      "1684                     0.640   69        0  nan  \n",
      "1691                     0.257   44        1  nan  \n",
      "1759                     0.278   66        1  nan  \n",
      "1763                     0.171   63        0  nan  \n"
     ]
    }
   ],
   "source": [
    "#& and    | or \n",
    "print(df[(df['BloodPressure']>100) | (df['Age']>60)])"
   ]
  },
  {
   "cell_type": "code",
   "execution_count": 25,
   "id": "30e40d52-efea-410a-8fb1-69c518f4e1aa",
   "metadata": {},
   "outputs": [
    {
     "name": "stdout",
     "output_type": "stream",
     "text": [
      "      Pregnancies  Glucose  BloodPressure  SkinThickness  Insulin   BMI  \\\n",
      "Pid                                                                       \n",
      "1000            6      148             72             35    250.0  33.6   \n",
      "1001            1       85             66             29    300.0  26.6   \n",
      "1002            8      183             64              0      NaN  23.3   \n",
      "1003            1       89             66             23     94.0  28.1   \n",
      "1004            0      137             40             35    168.0  43.1   \n",
      "...           ...      ...            ...            ...      ...   ...   \n",
      "1763           10      101             76             48    180.0  32.9   \n",
      "1764            2      122             70             27      0.0  36.8   \n",
      "1765            5      121             72             23    112.0  26.2   \n",
      "1766            1      126             60              0      0.0  30.1   \n",
      "1767            1       93             70             31      0.0  30.4   \n",
      "\n",
      "      DiabetesPedigreeFunction  Age  Outcome    City  \n",
      "Pid                                                   \n",
      "1000                     0.627   50        1     nan  \n",
      "1001                     0.351   50        0  Mumbai  \n",
      "1002                     0.672   32        1     nan  \n",
      "1003                     0.167   21        0     nan  \n",
      "1004                     2.288   33        1     nan  \n",
      "...                        ...  ...      ...     ...  \n",
      "1763                     0.171   63        0     nan  \n",
      "1764                     0.340   27        0     nan  \n",
      "1765                     0.245   30        0     nan  \n",
      "1766                     0.349   47        1  Mumbai  \n",
      "1767                     0.315   23        0     nan  \n",
      "\n",
      "[768 rows x 10 columns]\n"
     ]
    }
   ],
   "source": [
    "print(df)"
   ]
  },
  {
   "cell_type": "code",
   "execution_count": 28,
   "id": "c9398ddc-1b99-4ff5-a2db-a323498cb7c7",
   "metadata": {},
   "outputs": [
    {
     "name": "stdout",
     "output_type": "stream",
     "text": [
      "      Pregnancies  Glucose  BloodPressure  SkinThickness  Insulin   BMI  \\\n",
      "Pid                                                                       \n",
      "1000            6      148             72             35    250.0  33.6   \n",
      "1001            1       85             66             29    300.0  26.6   \n",
      "1002            8      183             64              0      NaN  23.3   \n",
      "1003            1       89             66             23     94.0  28.1   \n",
      "1004            0      137             40             35    168.0  43.1   \n",
      "...           ...      ...            ...            ...      ...   ...   \n",
      "1763           10      101             76             48    180.0  32.9   \n",
      "1764            2      122             70             27      0.0  36.8   \n",
      "1765            5      121             72             23    112.0  26.2   \n",
      "1766            1      126             60              0      0.0  30.1   \n",
      "1767            1       93             70             31      0.0  30.4   \n",
      "\n",
      "      DiabetesPedigreeFunction  Age  Outcome    City  \n",
      "Pid                                                   \n",
      "1000                     0.627   50        1     nan  \n",
      "1001                     0.351   50        0  Mumbai  \n",
      "1002                     0.672   32        1     nan  \n",
      "1003                     0.167   21        0     nan  \n",
      "1004                     2.288   33        1     nan  \n",
      "...                        ...  ...      ...     ...  \n",
      "1763                     0.171   63        0     nan  \n",
      "1764                     0.340   27        0     nan  \n",
      "1765                     0.245   30        0     nan  \n",
      "1766                     0.349   47        1  Mumbai  \n",
      "1767                     0.315   23        0     nan  \n",
      "\n",
      "[768 rows x 10 columns]\n"
     ]
    }
   ],
   "source": [
    "#Droping Rows and Columns\n",
    "df_new=df.drop(['City'],axis=1)\n",
    "print(df)"
   ]
  },
  {
   "cell_type": "code",
   "execution_count": 29,
   "id": "ad5d46ba-dc71-4b28-a0a4-174bc3a283ee",
   "metadata": {},
   "outputs": [
    {
     "name": "stdout",
     "output_type": "stream",
     "text": [
      "      Pregnancies  Glucose  BloodPressure  SkinThickness  Insulin   BMI  \\\n",
      "Pid                                                                       \n",
      "1000            6      148             72             35    250.0  33.6   \n",
      "1001            1       85             66             29    300.0  26.6   \n",
      "1002            8      183             64              0      NaN  23.3   \n",
      "1003            1       89             66             23     94.0  28.1   \n",
      "1004            0      137             40             35    168.0  43.1   \n",
      "...           ...      ...            ...            ...      ...   ...   \n",
      "1763           10      101             76             48    180.0  32.9   \n",
      "1764            2      122             70             27      0.0  36.8   \n",
      "1765            5      121             72             23    112.0  26.2   \n",
      "1766            1      126             60              0      0.0  30.1   \n",
      "1767            1       93             70             31      0.0  30.4   \n",
      "\n",
      "      DiabetesPedigreeFunction  Age  Outcome  \n",
      "Pid                                           \n",
      "1000                     0.627   50        1  \n",
      "1001                     0.351   50        0  \n",
      "1002                     0.672   32        1  \n",
      "1003                     0.167   21        0  \n",
      "1004                     2.288   33        1  \n",
      "...                        ...  ...      ...  \n",
      "1763                     0.171   63        0  \n",
      "1764                     0.340   27        0  \n",
      "1765                     0.245   30        0  \n",
      "1766                     0.349   47        1  \n",
      "1767                     0.315   23        0  \n",
      "\n",
      "[768 rows x 9 columns]\n"
     ]
    }
   ],
   "source": [
    "#Droping Rows and Columns\n",
    "df.drop(['City'],axis=1,inplace=True)\n",
    "print(df)"
   ]
  },
  {
   "cell_type": "code",
   "execution_count": 30,
   "id": "abf6d2b4-26c9-4467-93a7-55fb710e195a",
   "metadata": {},
   "outputs": [
    {
     "name": "stdout",
     "output_type": "stream",
     "text": [
      "      Pregnancies  Glucose  BloodPressure  SkinThickness  Insulin   BMI  \\\n",
      "Pid                                                                       \n",
      "1000            6      148             72             35    250.0  33.6   \n",
      "1002            8      183             64              0      NaN  23.3   \n",
      "1003            1       89             66             23     94.0  28.1   \n",
      "1004            0      137             40             35    168.0  43.1   \n",
      "1005            5      116             74              0      NaN  25.6   \n",
      "...           ...      ...            ...            ...      ...   ...   \n",
      "1763           10      101             76             48    180.0  32.9   \n",
      "1764            2      122             70             27      0.0  36.8   \n",
      "1765            5      121             72             23    112.0  26.2   \n",
      "1766            1      126             60              0      0.0  30.1   \n",
      "1767            1       93             70             31      0.0  30.4   \n",
      "\n",
      "      DiabetesPedigreeFunction  Age  Outcome  \n",
      "Pid                                           \n",
      "1000                     0.627   50        1  \n",
      "1002                     0.672   32        1  \n",
      "1003                     0.167   21        0  \n",
      "1004                     2.288   33        1  \n",
      "1005                     0.201   30        0  \n",
      "...                        ...  ...      ...  \n",
      "1763                     0.171   63        0  \n",
      "1764                     0.340   27        0  \n",
      "1765                     0.245   30        0  \n",
      "1766                     0.349   47        1  \n",
      "1767                     0.315   23        0  \n",
      "\n",
      "[767 rows x 9 columns]\n"
     ]
    }
   ],
   "source": [
    "#Deleting Rows\n",
    "df.drop(1001,axis=0,inplace=True)\n",
    "print(df)"
   ]
  },
  {
   "cell_type": "code",
   "execution_count": 31,
   "id": "07e69206-061a-4048-a849-404accbc9f13",
   "metadata": {},
   "outputs": [
    {
     "data": {
      "text/html": [
       "<div>\n",
       "<style scoped>\n",
       "    .dataframe tbody tr th:only-of-type {\n",
       "        vertical-align: middle;\n",
       "    }\n",
       "\n",
       "    .dataframe tbody tr th {\n",
       "        vertical-align: top;\n",
       "    }\n",
       "\n",
       "    .dataframe thead th {\n",
       "        text-align: right;\n",
       "    }\n",
       "</style>\n",
       "<table border=\"1\" class=\"dataframe\">\n",
       "  <thead>\n",
       "    <tr style=\"text-align: right;\">\n",
       "      <th></th>\n",
       "      <th>Pregnancies</th>\n",
       "      <th>Glucose</th>\n",
       "      <th>BloodPressure</th>\n",
       "      <th>SkinThickness</th>\n",
       "      <th>Insulin</th>\n",
       "      <th>BMI</th>\n",
       "      <th>DiabetesPedigreeFunction</th>\n",
       "      <th>Age</th>\n",
       "      <th>Outcome</th>\n",
       "    </tr>\n",
       "    <tr>\n",
       "      <th>Pid</th>\n",
       "      <th></th>\n",
       "      <th></th>\n",
       "      <th></th>\n",
       "      <th></th>\n",
       "      <th></th>\n",
       "      <th></th>\n",
       "      <th></th>\n",
       "      <th></th>\n",
       "      <th></th>\n",
       "    </tr>\n",
       "  </thead>\n",
       "  <tbody>\n",
       "    <tr>\n",
       "      <th>1000</th>\n",
       "      <td>6</td>\n",
       "      <td>148</td>\n",
       "      <td>72</td>\n",
       "      <td>35</td>\n",
       "      <td>250.0</td>\n",
       "      <td>33.6</td>\n",
       "      <td>0.627</td>\n",
       "      <td>50</td>\n",
       "      <td>1</td>\n",
       "    </tr>\n",
       "    <tr>\n",
       "      <th>1002</th>\n",
       "      <td>8</td>\n",
       "      <td>183</td>\n",
       "      <td>64</td>\n",
       "      <td>0</td>\n",
       "      <td>NaN</td>\n",
       "      <td>23.3</td>\n",
       "      <td>0.672</td>\n",
       "      <td>32</td>\n",
       "      <td>1</td>\n",
       "    </tr>\n",
       "    <tr>\n",
       "      <th>1003</th>\n",
       "      <td>1</td>\n",
       "      <td>89</td>\n",
       "      <td>66</td>\n",
       "      <td>23</td>\n",
       "      <td>94.0</td>\n",
       "      <td>28.1</td>\n",
       "      <td>0.167</td>\n",
       "      <td>21</td>\n",
       "      <td>0</td>\n",
       "    </tr>\n",
       "    <tr>\n",
       "      <th>1004</th>\n",
       "      <td>0</td>\n",
       "      <td>137</td>\n",
       "      <td>40</td>\n",
       "      <td>35</td>\n",
       "      <td>168.0</td>\n",
       "      <td>43.1</td>\n",
       "      <td>2.288</td>\n",
       "      <td>33</td>\n",
       "      <td>1</td>\n",
       "    </tr>\n",
       "    <tr>\n",
       "      <th>1005</th>\n",
       "      <td>5</td>\n",
       "      <td>116</td>\n",
       "      <td>74</td>\n",
       "      <td>0</td>\n",
       "      <td>NaN</td>\n",
       "      <td>25.6</td>\n",
       "      <td>0.201</td>\n",
       "      <td>30</td>\n",
       "      <td>0</td>\n",
       "    </tr>\n",
       "  </tbody>\n",
       "</table>\n",
       "</div>"
      ],
      "text/plain": [
       "      Pregnancies  Glucose  BloodPressure  SkinThickness  Insulin   BMI  \\\n",
       "Pid                                                                       \n",
       "1000            6      148             72             35    250.0  33.6   \n",
       "1002            8      183             64              0      NaN  23.3   \n",
       "1003            1       89             66             23     94.0  28.1   \n",
       "1004            0      137             40             35    168.0  43.1   \n",
       "1005            5      116             74              0      NaN  25.6   \n",
       "\n",
       "      DiabetesPedigreeFunction  Age  Outcome  \n",
       "Pid                                           \n",
       "1000                     0.627   50        1  \n",
       "1002                     0.672   32        1  \n",
       "1003                     0.167   21        0  \n",
       "1004                     2.288   33        1  \n",
       "1005                     0.201   30        0  "
      ]
     },
     "execution_count": 31,
     "metadata": {},
     "output_type": "execute_result"
    }
   ],
   "source": [
    "#Exploratory Data Analysis(EDA)\n",
    "df.head()  #Top 5 rows"
   ]
  },
  {
   "cell_type": "code",
   "execution_count": 32,
   "id": "80bcb4a7-f5c8-4a6a-ae3f-a187a8c3a8f0",
   "metadata": {},
   "outputs": [
    {
     "name": "stdout",
     "output_type": "stream",
     "text": [
      "      Pregnancies  Glucose  BloodPressure  SkinThickness  Insulin   BMI  \\\n",
      "Pid                                                                       \n",
      "1000            6      148             72             35    250.0  33.6   \n",
      "1002            8      183             64              0      NaN  23.3   \n",
      "1003            1       89             66             23     94.0  28.1   \n",
      "1004            0      137             40             35    168.0  43.1   \n",
      "1005            5      116             74              0      NaN  25.6   \n",
      "1006            3       78             50             32     88.0  31.0   \n",
      "1007           10      115              0              0    400.0  35.3   \n",
      "1008            2      197             70             45    543.0  30.5   \n",
      "1009            8      125             96              0      0.0   0.0   \n",
      "1010            4      110             92              0      0.0  37.6   \n",
      "\n",
      "      DiabetesPedigreeFunction  Age  Outcome  \n",
      "Pid                                           \n",
      "1000                     0.627   50        1  \n",
      "1002                     0.672   32        1  \n",
      "1003                     0.167   21        0  \n",
      "1004                     2.288   33        1  \n",
      "1005                     0.201   30        0  \n",
      "1006                     0.248   26        1  \n",
      "1007                     0.134   29        0  \n",
      "1008                     0.158   53        1  \n",
      "1009                     0.232   54        1  \n",
      "1010                     0.191   30        0  \n"
     ]
    }
   ],
   "source": [
    "print(df.head(10))"
   ]
  },
  {
   "cell_type": "code",
   "execution_count": 33,
   "id": "4af9130a-3b6f-4b65-8cb3-879ce7ffae8b",
   "metadata": {},
   "outputs": [
    {
     "name": "stdout",
     "output_type": "stream",
     "text": [
      "      Pregnancies  Glucose  BloodPressure  SkinThickness  Insulin   BMI  \\\n",
      "Pid                                                                       \n",
      "1763           10      101             76             48    180.0  32.9   \n",
      "1764            2      122             70             27      0.0  36.8   \n",
      "1765            5      121             72             23    112.0  26.2   \n",
      "1766            1      126             60              0      0.0  30.1   \n",
      "1767            1       93             70             31      0.0  30.4   \n",
      "\n",
      "      DiabetesPedigreeFunction  Age  Outcome  \n",
      "Pid                                           \n",
      "1763                     0.171   63        0  \n",
      "1764                     0.340   27        0  \n",
      "1765                     0.245   30        0  \n",
      "1766                     0.349   47        1  \n",
      "1767                     0.315   23        0  \n"
     ]
    }
   ],
   "source": [
    "print(df.tail()) #Bottom 5 rows"
   ]
  },
  {
   "cell_type": "code",
   "execution_count": 34,
   "id": "5afb7c3c-8be0-4cb2-b783-9004e9594152",
   "metadata": {},
   "outputs": [
    {
     "name": "stdout",
     "output_type": "stream",
     "text": [
      "                          Pregnancies   Glucose  BloodPressure  SkinThickness  \\\n",
      "Pregnancies                  1.000000  0.128387       0.141173      -0.081140   \n",
      "Glucose                      0.128387  1.000000       0.152482       0.058164   \n",
      "BloodPressure                0.141173  0.152482       1.000000       0.207523   \n",
      "SkinThickness               -0.081140  0.058164       0.207523       1.000000   \n",
      "Insulin                     -0.062584  0.333028       0.072699       0.430587   \n",
      "BMI                          0.016942  0.220317       0.281753       0.393239   \n",
      "DiabetesPedigreeFunction    -0.033944  0.136927       0.041193       0.184230   \n",
      "Age                          0.544397  0.263458       0.239498      -0.113862   \n",
      "Outcome                      0.221272  0.466055       0.064939       0.075299   \n",
      "\n",
      "                           Insulin       BMI  DiabetesPedigreeFunction  \\\n",
      "Pregnancies              -0.062584  0.016942                 -0.033944   \n",
      "Glucose                   0.333028  0.220317                  0.136927   \n",
      "BloodPressure             0.072699  0.281753                  0.041193   \n",
      "SkinThickness             0.430587  0.393239                  0.184230   \n",
      "Insulin                   1.000000  0.197306                  0.180517   \n",
      "BMI                       0.197306  1.000000                  0.140376   \n",
      "DiabetesPedigreeFunction  0.180517  0.140376                  1.000000   \n",
      "Age                      -0.040098  0.036084                  0.033474   \n",
      "Outcome                   0.130628  0.292233                  0.173571   \n",
      "\n",
      "                               Age   Outcome  \n",
      "Pregnancies               0.544397  0.221272  \n",
      "Glucose                   0.263458  0.466055  \n",
      "BloodPressure             0.239498  0.064939  \n",
      "SkinThickness            -0.113862  0.075299  \n",
      "Insulin                  -0.040098  0.130628  \n",
      "BMI                       0.036084  0.292233  \n",
      "DiabetesPedigreeFunction  0.033474  0.173571  \n",
      "Age                       1.000000  0.238263  \n",
      "Outcome                   0.238263  1.000000  \n"
     ]
    }
   ],
   "source": [
    "#Correlation\n",
    "print(df.corr())"
   ]
  },
  {
   "cell_type": "code",
   "execution_count": 38,
   "id": "1072700c-0d07-4654-83fd-babb28869d64",
   "metadata": {},
   "outputs": [
    {
     "name": "stdout",
     "output_type": "stream",
     "text": [
      "      Pregnancies  Glucose  BloodPressure  SkinThickness  Insulin   BMI  \\\n",
      "Pid                                                                       \n",
      "1661            1      199             76             43      0.0  42.9   \n",
      "1561            0      198             66             32    274.0  41.3   \n",
      "1408            8      197             74              0      0.0  25.9   \n",
      "1008            2      197             70             45    543.0  30.5   \n",
      "1228            4      197             70             39    744.0  36.7   \n",
      "...           ...      ...            ...            ...      ...   ...   \n",
      "1349            5        0             80             32      0.0  41.0   \n",
      "1182            1        0             74             20     23.0  27.7   \n",
      "1342            1        0             68             35      0.0  32.0   \n",
      "1502            6        0             68             41      0.0  39.0   \n",
      "1075            1        0             48             20      0.0  24.7   \n",
      "\n",
      "      DiabetesPedigreeFunction  Age  Outcome  \n",
      "Pid                                           \n",
      "1661                     1.394   22        1  \n",
      "1561                     0.502   28        1  \n",
      "1408                     1.191   39        1  \n",
      "1008                     0.158   53        1  \n",
      "1228                     2.329   31        0  \n",
      "...                        ...  ...      ...  \n",
      "1349                     0.346   37        1  \n",
      "1182                     0.299   21        0  \n",
      "1342                     0.389   22        0  \n",
      "1502                     0.727   41        1  \n",
      "1075                     0.140   22        0  \n",
      "\n",
      "[767 rows x 9 columns]\n"
     ]
    }
   ],
   "source": [
    "#Sorting Rows\n",
    "print(df.sort_values(by=['Glucose','BloodPressure'], ascending = False))"
   ]
  },
  {
   "cell_type": "code",
   "execution_count": null,
   "id": "7d60e884-df56-4b3a-bfd2-8d81ce28ac74",
   "metadata": {},
   "outputs": [],
   "source": []
  }
 ],
 "metadata": {
  "kernelspec": {
   "display_name": "Python 3 (ipykernel)",
   "language": "python",
   "name": "python3"
  },
  "language_info": {
   "codemirror_mode": {
    "name": "ipython",
    "version": 3
   },
   "file_extension": ".py",
   "mimetype": "text/x-python",
   "name": "python",
   "nbconvert_exporter": "python",
   "pygments_lexer": "ipython3",
   "version": "3.12.1"
  }
 },
 "nbformat": 4,
 "nbformat_minor": 5
}
